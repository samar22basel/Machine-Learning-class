{
  "cells": [
    {
      "cell_type": "markdown",
      "metadata": {
        "id": "oXyU5gz7qb9h"
      },
      "source": [
        "\n",
        "\n",
        "# Introduction to Logistic Regression\n",
        "\n",
        "\n",
        "\n",
        "---\n",
        "\n",
        "### Learning Objectives\n",
        "- Distinguish between regression and classification problems.\n",
        "- Understand how logistic regression is similar to and different from linear regression.\n",
        "- Fit, generate predictions from, and evaluate a logistic regression model in `sklearn`.\n",
        "- Understand how to interpret the coefficients of logistic regression.\n",
        "- Know the benefits of logistic regression as a classifier."
      ]
    },
    {
      "cell_type": "markdown",
      "metadata": {
        "id": "RbhDixUtqb9m"
      },
      "source": [
        "<a id='introduction'></a>\n",
        "\n",
        "## Introduction\n",
        "\n",
        "---\n",
        "\n",
        "Logistic regression is a natural bridge to connect regression and classification.\n",
        "- Logistic regression is the most common binary classification algorithm.\n",
        "- Because it is a regression model, logistic regression will predict continuous values.\n",
        "    - Logistic regression will predict continuous probabilities between 0 and 1.\n",
        "    - Example: What is the probability that someone shows up to vote?\n",
        "- However, logistic regression almost always operates as a classification model.\n",
        "    - Logistic regression will use these continuous predictions to classify something as 0 or 1.\n",
        "    - Example: Based on the predicted probability, do we predict that someone votes?\n",
        "\n",
        "In this lecture, we'll only be reviewing the binary outcome case with two classes, but logistic regression can be generalized to predicting outcomes with 3 or more classes.\n",
        "\n",
        "**Some examples of when logistic regression could be used:**\n",
        "- Will a user will purchase a product, given characteristics like income, age, and number of family members?\n",
        "- Does this patient have a specific disease based on their symptoms?\n",
        "- Will a person default on their loan?\n",
        "- Is the iris flower in front of me an \"*Iris versicolor*?\"\n",
        "- Given one's GPA and the prestige of a college, will a student be admitted to a specific graduate program?\n",
        "\n",
        "And many more."
      ]
    },
    {
      "cell_type": "code",
      "execution_count": 1,
      "metadata": {
        "id": "hU6bqMI9qb9n"
      },
      "outputs": [],
      "source": [
        "# imports\n",
        "import numpy as np\n",
        "import pandas as pd\n",
        "import matplotlib.pyplot as plt\n",
        "import seaborn as sns\n",
        "\n",
        "# Import train_test_split.\n",
        "\n",
        "from sklearn.model_selection import train_test_split\n",
        "\n",
        "# Import logistic regression\n",
        "\n",
        "from sklearn.linear_model import LogisticRegression \n"
      ]
    },
    {
      "cell_type": "markdown",
      "metadata": {
        "id": "jj60blmGqb9o"
      },
      "source": [
        "## Graduate School Admissions\n",
        "\n",
        "---\n",
        "\n",
        "Today, we'll be applying logistic regression to solve the following problem: \"Given one's GPA, will a student be admitted to a specific graduate program?\""
      ]
    },
    {
      "cell_type": "code",
      "execution_count": 2,
      "metadata": {
        "id": "2_dCb_VEqb9p"
      },
      "outputs": [],
      "source": [
        "# Read in the data.\n",
        "admissions = pd.read_csv('/content/grad_admissions.csv')\n"
      ]
    },
    {
      "cell_type": "code",
      "execution_count": 3,
      "metadata": {
        "colab": {
          "base_uri": "https://localhost:8080/",
          "height": 206
        },
        "id": "iLR1_uipqb9p",
        "outputId": "3b8e6813-52b3-46af-bb08-e4fcc06066ef"
      },
      "outputs": [
        {
          "output_type": "execute_result",
          "data": {
            "text/plain": [
              "   admit    gre       gpa\n",
              "0      0  380.0  2.915018\n",
              "1      1  660.0  4.044540\n",
              "2      1  800.0  4.950714\n",
              "3      1  640.0  3.921994\n",
              "4      0  520.0  2.069878"
            ],
            "text/html": [
              "\n",
              "  <div id=\"df-91337d0d-b8e0-480a-af62-6a6875f0f832\">\n",
              "    <div class=\"colab-df-container\">\n",
              "      <div>\n",
              "<style scoped>\n",
              "    .dataframe tbody tr th:only-of-type {\n",
              "        vertical-align: middle;\n",
              "    }\n",
              "\n",
              "    .dataframe tbody tr th {\n",
              "        vertical-align: top;\n",
              "    }\n",
              "\n",
              "    .dataframe thead th {\n",
              "        text-align: right;\n",
              "    }\n",
              "</style>\n",
              "<table border=\"1\" class=\"dataframe\">\n",
              "  <thead>\n",
              "    <tr style=\"text-align: right;\">\n",
              "      <th></th>\n",
              "      <th>admit</th>\n",
              "      <th>gre</th>\n",
              "      <th>gpa</th>\n",
              "    </tr>\n",
              "  </thead>\n",
              "  <tbody>\n",
              "    <tr>\n",
              "      <th>0</th>\n",
              "      <td>0</td>\n",
              "      <td>380.0</td>\n",
              "      <td>2.915018</td>\n",
              "    </tr>\n",
              "    <tr>\n",
              "      <th>1</th>\n",
              "      <td>1</td>\n",
              "      <td>660.0</td>\n",
              "      <td>4.044540</td>\n",
              "    </tr>\n",
              "    <tr>\n",
              "      <th>2</th>\n",
              "      <td>1</td>\n",
              "      <td>800.0</td>\n",
              "      <td>4.950714</td>\n",
              "    </tr>\n",
              "    <tr>\n",
              "      <th>3</th>\n",
              "      <td>1</td>\n",
              "      <td>640.0</td>\n",
              "      <td>3.921994</td>\n",
              "    </tr>\n",
              "    <tr>\n",
              "      <th>4</th>\n",
              "      <td>0</td>\n",
              "      <td>520.0</td>\n",
              "      <td>2.069878</td>\n",
              "    </tr>\n",
              "  </tbody>\n",
              "</table>\n",
              "</div>\n",
              "      <button class=\"colab-df-convert\" onclick=\"convertToInteractive('df-91337d0d-b8e0-480a-af62-6a6875f0f832')\"\n",
              "              title=\"Convert this dataframe to an interactive table.\"\n",
              "              style=\"display:none;\">\n",
              "        \n",
              "  <svg xmlns=\"http://www.w3.org/2000/svg\" height=\"24px\"viewBox=\"0 0 24 24\"\n",
              "       width=\"24px\">\n",
              "    <path d=\"M0 0h24v24H0V0z\" fill=\"none\"/>\n",
              "    <path d=\"M18.56 5.44l.94 2.06.94-2.06 2.06-.94-2.06-.94-.94-2.06-.94 2.06-2.06.94zm-11 1L8.5 8.5l.94-2.06 2.06-.94-2.06-.94L8.5 2.5l-.94 2.06-2.06.94zm10 10l.94 2.06.94-2.06 2.06-.94-2.06-.94-.94-2.06-.94 2.06-2.06.94z\"/><path d=\"M17.41 7.96l-1.37-1.37c-.4-.4-.92-.59-1.43-.59-.52 0-1.04.2-1.43.59L10.3 9.45l-7.72 7.72c-.78.78-.78 2.05 0 2.83L4 21.41c.39.39.9.59 1.41.59.51 0 1.02-.2 1.41-.59l7.78-7.78 2.81-2.81c.8-.78.8-2.07 0-2.86zM5.41 20L4 18.59l7.72-7.72 1.47 1.35L5.41 20z\"/>\n",
              "  </svg>\n",
              "      </button>\n",
              "      \n",
              "  <style>\n",
              "    .colab-df-container {\n",
              "      display:flex;\n",
              "      flex-wrap:wrap;\n",
              "      gap: 12px;\n",
              "    }\n",
              "\n",
              "    .colab-df-convert {\n",
              "      background-color: #E8F0FE;\n",
              "      border: none;\n",
              "      border-radius: 50%;\n",
              "      cursor: pointer;\n",
              "      display: none;\n",
              "      fill: #1967D2;\n",
              "      height: 32px;\n",
              "      padding: 0 0 0 0;\n",
              "      width: 32px;\n",
              "    }\n",
              "\n",
              "    .colab-df-convert:hover {\n",
              "      background-color: #E2EBFA;\n",
              "      box-shadow: 0px 1px 2px rgba(60, 64, 67, 0.3), 0px 1px 3px 1px rgba(60, 64, 67, 0.15);\n",
              "      fill: #174EA6;\n",
              "    }\n",
              "\n",
              "    [theme=dark] .colab-df-convert {\n",
              "      background-color: #3B4455;\n",
              "      fill: #D2E3FC;\n",
              "    }\n",
              "\n",
              "    [theme=dark] .colab-df-convert:hover {\n",
              "      background-color: #434B5C;\n",
              "      box-shadow: 0px 1px 3px 1px rgba(0, 0, 0, 0.15);\n",
              "      filter: drop-shadow(0px 1px 2px rgba(0, 0, 0, 0.3));\n",
              "      fill: #FFFFFF;\n",
              "    }\n",
              "  </style>\n",
              "\n",
              "      <script>\n",
              "        const buttonEl =\n",
              "          document.querySelector('#df-91337d0d-b8e0-480a-af62-6a6875f0f832 button.colab-df-convert');\n",
              "        buttonEl.style.display =\n",
              "          google.colab.kernel.accessAllowed ? 'block' : 'none';\n",
              "\n",
              "        async function convertToInteractive(key) {\n",
              "          const element = document.querySelector('#df-91337d0d-b8e0-480a-af62-6a6875f0f832');\n",
              "          const dataTable =\n",
              "            await google.colab.kernel.invokeFunction('convertToInteractive',\n",
              "                                                     [key], {});\n",
              "          if (!dataTable) return;\n",
              "\n",
              "          const docLinkHtml = 'Like what you see? Visit the ' +\n",
              "            '<a target=\"_blank\" href=https://colab.research.google.com/notebooks/data_table.ipynb>data table notebook</a>'\n",
              "            + ' to learn more about interactive tables.';\n",
              "          element.innerHTML = '';\n",
              "          dataTable['output_type'] = 'display_data';\n",
              "          await google.colab.output.renderOutput(dataTable, element);\n",
              "          const docLink = document.createElement('div');\n",
              "          docLink.innerHTML = docLinkHtml;\n",
              "          element.appendChild(docLink);\n",
              "        }\n",
              "      </script>\n",
              "    </div>\n",
              "  </div>\n",
              "  "
            ]
          },
          "metadata": {},
          "execution_count": 3
        }
      ],
      "source": [
        "# Check first five rows.\n",
        "admissions.head()\n"
      ]
    },
    {
      "cell_type": "code",
      "source": [
        "admissions.describe()"
      ],
      "metadata": {
        "colab": {
          "base_uri": "https://localhost:8080/",
          "height": 300
        },
        "id": "NJ2xZWHW-Wow",
        "outputId": "85e87f1e-ca9c-4295-fc63-1bc69f762be1"
      },
      "execution_count": 4,
      "outputs": [
        {
          "output_type": "execute_result",
          "data": {
            "text/plain": [
              "             admit          gre          gpa\n",
              "count  4000.000000  3980.000000  3980.000000\n",
              "mean      0.317500   588.040201     3.208644\n",
              "std       0.465562   115.497670     0.705396\n",
              "min       0.000000   220.000000     1.389247\n",
              "25%       0.000000   520.000000     2.672295\n",
              "50%       0.000000   580.000000     3.117994\n",
              "75%       1.000000   660.000000     3.711686\n",
              "max       1.000000   800.000000     4.999718"
            ],
            "text/html": [
              "\n",
              "  <div id=\"df-d05cc212-b80b-444b-9161-edf7b15a3b08\">\n",
              "    <div class=\"colab-df-container\">\n",
              "      <div>\n",
              "<style scoped>\n",
              "    .dataframe tbody tr th:only-of-type {\n",
              "        vertical-align: middle;\n",
              "    }\n",
              "\n",
              "    .dataframe tbody tr th {\n",
              "        vertical-align: top;\n",
              "    }\n",
              "\n",
              "    .dataframe thead th {\n",
              "        text-align: right;\n",
              "    }\n",
              "</style>\n",
              "<table border=\"1\" class=\"dataframe\">\n",
              "  <thead>\n",
              "    <tr style=\"text-align: right;\">\n",
              "      <th></th>\n",
              "      <th>admit</th>\n",
              "      <th>gre</th>\n",
              "      <th>gpa</th>\n",
              "    </tr>\n",
              "  </thead>\n",
              "  <tbody>\n",
              "    <tr>\n",
              "      <th>count</th>\n",
              "      <td>4000.000000</td>\n",
              "      <td>3980.000000</td>\n",
              "      <td>3980.000000</td>\n",
              "    </tr>\n",
              "    <tr>\n",
              "      <th>mean</th>\n",
              "      <td>0.317500</td>\n",
              "      <td>588.040201</td>\n",
              "      <td>3.208644</td>\n",
              "    </tr>\n",
              "    <tr>\n",
              "      <th>std</th>\n",
              "      <td>0.465562</td>\n",
              "      <td>115.497670</td>\n",
              "      <td>0.705396</td>\n",
              "    </tr>\n",
              "    <tr>\n",
              "      <th>min</th>\n",
              "      <td>0.000000</td>\n",
              "      <td>220.000000</td>\n",
              "      <td>1.389247</td>\n",
              "    </tr>\n",
              "    <tr>\n",
              "      <th>25%</th>\n",
              "      <td>0.000000</td>\n",
              "      <td>520.000000</td>\n",
              "      <td>2.672295</td>\n",
              "    </tr>\n",
              "    <tr>\n",
              "      <th>50%</th>\n",
              "      <td>0.000000</td>\n",
              "      <td>580.000000</td>\n",
              "      <td>3.117994</td>\n",
              "    </tr>\n",
              "    <tr>\n",
              "      <th>75%</th>\n",
              "      <td>1.000000</td>\n",
              "      <td>660.000000</td>\n",
              "      <td>3.711686</td>\n",
              "    </tr>\n",
              "    <tr>\n",
              "      <th>max</th>\n",
              "      <td>1.000000</td>\n",
              "      <td>800.000000</td>\n",
              "      <td>4.999718</td>\n",
              "    </tr>\n",
              "  </tbody>\n",
              "</table>\n",
              "</div>\n",
              "      <button class=\"colab-df-convert\" onclick=\"convertToInteractive('df-d05cc212-b80b-444b-9161-edf7b15a3b08')\"\n",
              "              title=\"Convert this dataframe to an interactive table.\"\n",
              "              style=\"display:none;\">\n",
              "        \n",
              "  <svg xmlns=\"http://www.w3.org/2000/svg\" height=\"24px\"viewBox=\"0 0 24 24\"\n",
              "       width=\"24px\">\n",
              "    <path d=\"M0 0h24v24H0V0z\" fill=\"none\"/>\n",
              "    <path d=\"M18.56 5.44l.94 2.06.94-2.06 2.06-.94-2.06-.94-.94-2.06-.94 2.06-2.06.94zm-11 1L8.5 8.5l.94-2.06 2.06-.94-2.06-.94L8.5 2.5l-.94 2.06-2.06.94zm10 10l.94 2.06.94-2.06 2.06-.94-2.06-.94-.94-2.06-.94 2.06-2.06.94z\"/><path d=\"M17.41 7.96l-1.37-1.37c-.4-.4-.92-.59-1.43-.59-.52 0-1.04.2-1.43.59L10.3 9.45l-7.72 7.72c-.78.78-.78 2.05 0 2.83L4 21.41c.39.39.9.59 1.41.59.51 0 1.02-.2 1.41-.59l7.78-7.78 2.81-2.81c.8-.78.8-2.07 0-2.86zM5.41 20L4 18.59l7.72-7.72 1.47 1.35L5.41 20z\"/>\n",
              "  </svg>\n",
              "      </button>\n",
              "      \n",
              "  <style>\n",
              "    .colab-df-container {\n",
              "      display:flex;\n",
              "      flex-wrap:wrap;\n",
              "      gap: 12px;\n",
              "    }\n",
              "\n",
              "    .colab-df-convert {\n",
              "      background-color: #E8F0FE;\n",
              "      border: none;\n",
              "      border-radius: 50%;\n",
              "      cursor: pointer;\n",
              "      display: none;\n",
              "      fill: #1967D2;\n",
              "      height: 32px;\n",
              "      padding: 0 0 0 0;\n",
              "      width: 32px;\n",
              "    }\n",
              "\n",
              "    .colab-df-convert:hover {\n",
              "      background-color: #E2EBFA;\n",
              "      box-shadow: 0px 1px 2px rgba(60, 64, 67, 0.3), 0px 1px 3px 1px rgba(60, 64, 67, 0.15);\n",
              "      fill: #174EA6;\n",
              "    }\n",
              "\n",
              "    [theme=dark] .colab-df-convert {\n",
              "      background-color: #3B4455;\n",
              "      fill: #D2E3FC;\n",
              "    }\n",
              "\n",
              "    [theme=dark] .colab-df-convert:hover {\n",
              "      background-color: #434B5C;\n",
              "      box-shadow: 0px 1px 3px 1px rgba(0, 0, 0, 0.15);\n",
              "      filter: drop-shadow(0px 1px 2px rgba(0, 0, 0, 0.3));\n",
              "      fill: #FFFFFF;\n",
              "    }\n",
              "  </style>\n",
              "\n",
              "      <script>\n",
              "        const buttonEl =\n",
              "          document.querySelector('#df-d05cc212-b80b-444b-9161-edf7b15a3b08 button.colab-df-convert');\n",
              "        buttonEl.style.display =\n",
              "          google.colab.kernel.accessAllowed ? 'block' : 'none';\n",
              "\n",
              "        async function convertToInteractive(key) {\n",
              "          const element = document.querySelector('#df-d05cc212-b80b-444b-9161-edf7b15a3b08');\n",
              "          const dataTable =\n",
              "            await google.colab.kernel.invokeFunction('convertToInteractive',\n",
              "                                                     [key], {});\n",
              "          if (!dataTable) return;\n",
              "\n",
              "          const docLinkHtml = 'Like what you see? Visit the ' +\n",
              "            '<a target=\"_blank\" href=https://colab.research.google.com/notebooks/data_table.ipynb>data table notebook</a>'\n",
              "            + ' to learn more about interactive tables.';\n",
              "          element.innerHTML = '';\n",
              "          dataTable['output_type'] = 'display_data';\n",
              "          await google.colab.output.renderOutput(dataTable, element);\n",
              "          const docLink = document.createElement('div');\n",
              "          docLink.innerHTML = docLinkHtml;\n",
              "          element.appendChild(docLink);\n",
              "        }\n",
              "      </script>\n",
              "    </div>\n",
              "  </div>\n",
              "  "
            ]
          },
          "metadata": {},
          "execution_count": 4
        }
      ]
    },
    {
      "cell_type": "code",
      "execution_count": 5,
      "metadata": {
        "colab": {
          "base_uri": "https://localhost:8080/"
        },
        "id": "AedEBqecqb9q",
        "outputId": "fb8cd0f4-9616-4159-81e7-f7e37ff7c3db"
      },
      "outputs": [
        {
          "output_type": "execute_result",
          "data": {
            "text/plain": [
              "(4000, 3)"
            ]
          },
          "metadata": {},
          "execution_count": 5
        }
      ],
      "source": [
        "admissions.shape"
      ]
    },
    {
      "cell_type": "markdown",
      "metadata": {
        "id": "jKq2xkVkqb9r"
      },
      "source": [
        "The columns are:\n",
        "- `admit`: A binary 0/1 variable indicating whether or not a student was admitted, where 1 means admitted and 0 means not admitted.\n",
        "- `gre`: The student's [GRE (Graduate Record Exam)](https://en.wikipedia.org/wiki/Graduate_Record_Examinations) score.\n",
        "- `gpa`: The student's GPA."
      ]
    },
    {
      "cell_type": "code",
      "execution_count": 6,
      "metadata": {
        "colab": {
          "base_uri": "https://localhost:8080/"
        },
        "id": "YnafAz4uqb9s",
        "outputId": "e6237588-75f3-4580-d811-844edc0a632d"
      },
      "outputs": [
        {
          "output_type": "stream",
          "name": "stdout",
          "text": [
            "<class 'pandas.core.frame.DataFrame'>\n",
            "RangeIndex: 4000 entries, 0 to 3999\n",
            "Data columns (total 3 columns):\n",
            " #   Column  Non-Null Count  Dtype  \n",
            "---  ------  --------------  -----  \n",
            " 0   admit   4000 non-null   int64  \n",
            " 1   gre     3980 non-null   float64\n",
            " 2   gpa     3980 non-null   float64\n",
            "dtypes: float64(2), int64(1)\n",
            "memory usage: 93.9 KB\n"
          ]
        }
      ],
      "source": [
        "# How many missing values do we have in each column?\n",
        "admissions.info()"
      ]
    },
    {
      "cell_type": "code",
      "execution_count": 7,
      "metadata": {
        "colab": {
          "base_uri": "https://localhost:8080/"
        },
        "id": "77yp6Ithqb9s",
        "outputId": "900bc5d4-9067-479a-a196-c0a2e4430c4d"
      },
      "outputs": [
        {
          "output_type": "execute_result",
          "data": {
            "text/plain": [
              "admit     0\n",
              "gre      20\n",
              "gpa      20\n",
              "dtype: int64"
            ]
          },
          "metadata": {},
          "execution_count": 7
        }
      ],
      "source": [
        "admissions.isnull().sum()\n",
        "\n",
        "#Missing Data\n",
        "\n",
        "#MCAR - Missing completely at Random - internet problem\n",
        "#MAR. - Missing at Random - Gender\n",
        "#NMAR.- Not missing at random - "
      ]
    },
    {
      "cell_type": "code",
      "execution_count": 8,
      "metadata": {
        "id": "PG8btm-uqb9t"
      },
      "outputs": [],
      "source": [
        "# Drop every row that has an NA.\n",
        "admissions.dropna(inplace=True)\n",
        "\n"
      ]
    },
    {
      "cell_type": "code",
      "execution_count": 9,
      "metadata": {
        "colab": {
          "base_uri": "https://localhost:8080/"
        },
        "id": "H2r0U3MVqb9t",
        "outputId": "75b0a904-92d8-4590-b38c-40e1573297a5"
      },
      "outputs": [
        {
          "output_type": "execute_result",
          "data": {
            "text/plain": [
              "(3970, 3)"
            ]
          },
          "metadata": {},
          "execution_count": 9
        }
      ],
      "source": [
        "admissions.shape"
      ]
    },
    {
      "cell_type": "markdown",
      "metadata": {
        "id": "5Gz-6a_dqb9u"
      },
      "source": [
        "<details><summary>What assumption are we making when we drop rows that have at least one NA in it?</summary>\n",
        "    \n",
        "- We assume that what we drop looks like what we have observed. That is, there's nothing special about the rows we happened to drop.\n",
        "- We might say that what we dropped is a random sample of our whole data.\n",
        "- It's not important to know this now, but the formal term is that our data is missing completely at random.\n",
        "</details>"
      ]
    },
    {
      "cell_type": "markdown",
      "metadata": {
        "id": "ALMeFoaQqb9u"
      },
      "source": [
        "## Recap of Notation\n",
        "\n",
        "You're quite familiar with **linear** regression:\n",
        "\n",
        "$$\n",
        "\\begin{eqnarray*}\n",
        "\\hat{\\mathbf{y}} &=& \\hat{\\beta}_0 + \\hat{\\beta}_1x_1 + \\hat{\\beta}_2x_2 + \\cdots + \\hat{\\beta}_px_p \\\\\n",
        "&=& \\hat{\\beta}_0 + \\sum_{j=1}^p\\hat{\\beta}_jX_j\n",
        "\\end{eqnarray*}\n",
        "$$\n",
        "\n",
        "Where:\n",
        "- $\\hat{\\mathbf{y}}$ is the predicted values of $\\mathbf{y}$ based on all of the inputs $x_j$.\n",
        "- $x_1$, $x_2$, $\\ldots$, $x_p$ are the predictors.\n",
        "- $\\hat{\\beta}_0$ is the estimated intercept.\n",
        "- $\\hat{\\beta}_j$ is the estimated coefficient for the predictor $x_j$, the $j$th column in variable matrix $X$.\n"
      ]
    },
    {
      "cell_type": "markdown",
      "metadata": {
        "id": "npQZdIe6qb9v"
      },
      "source": [
        "<a id='plot-reg'></a>\n",
        "### What if we predicted `admit` with `gpa` using Linear Regression?\n",
        "\n",
        "Looking at the plot below, what are problems with using a regression?"
      ]
    },
    {
      "cell_type": "code",
      "execution_count": 10,
      "metadata": {
        "colab": {
          "base_uri": "https://localhost:8080/",
          "height": 389
        },
        "id": "Va1c0WXHqb9v",
        "outputId": "7f0cab6f-3e93-4ac2-eae1-0c113043faa0"
      },
      "outputs": [
        {
          "output_type": "stream",
          "name": "stderr",
          "text": [
            "/usr/local/lib/python3.7/dist-packages/seaborn/_decorators.py:43: FutureWarning: Pass the following variables as keyword args: x, y, data. From version 0.12, the only valid positional argument will be `data`, and passing other arguments without an explicit keyword will result in an error or misinterpretation.\n",
            "  FutureWarning\n"
          ]
        },
        {
          "output_type": "display_data",
          "data": {
            "text/plain": [
              "<Figure size 864x360 with 1 Axes>"
            ],
            "image/png": "[encoded data removed]"
          },
          "metadata": {
            "needs_background": "light"
          }
        }
      ],
      "source": [
        "# plot admissions vs. gpa and line of best fit\n",
        "plt.figure(figsize = (12, 5))\n",
        "sns.regplot(admissions['gpa'], admissions['admit'], admissions,\n",
        "            ci = False, scatter_kws = {'s': 2},\n",
        "            line_kws = {'color': 'orange'})\n",
        "plt.ylim(-0.1, 1.1);"
      ]
    },
    {
      "cell_type": "markdown",
      "metadata": {
        "id": "qxx4xCJPqb9v"
      },
      "source": [
        "<a id='pred-binary'></a>\n",
        "\n",
        "## Predicting a Binary Class\n",
        "\n",
        "---\n",
        "\n",
        "In our case we have two classes: `1=admitted` and `0=rejected`.\n",
        "\n",
        "The logistic regression is still solving for $\\hat{y}$. However, in our binary classification case, $\\hat{y}$ will be the probability of $y$ being one of the classes.\n",
        "\n",
        "$$\n",
        "\\hat{y} = P(y = 1)\n",
        "$$\n",
        "\n",
        "We'll still try to fit a \"line\" of best fit to this... except it won't be perfectly linear. We need to *guarantee* that the right-hand side of the regression equation will evaluate to a probability. (That is, some number between 0 and 1!)"
      ]
    },
    {
      "cell_type": "markdown",
      "metadata": {
        "id": "jkjfMbmWqb9w"
      },
      "source": [
        "## The Logit Link Function (advanced)\n",
        "\n",
        "---\n",
        "\n",
        "We will use something called a **link function** to effectively \"bend\" our line of best fit so that it is a curve of best fit that matches the range or set of values in which we're interested.\n",
        "\n",
        "For logistic regression, that specific link function that transforms (\"bends\") our line is known as the **logit** link.\n",
        "\n",
        "$$\n",
        "\\text{logit}\\left(P(y = 1)\\right) = \\beta_0 + \\beta_1x_1 + \\beta_2x_2 + \\cdots + \\beta_px_p\n",
        "$$\n",
        "\n",
        "$$\n",
        "\\log\\left(\\frac{P(y = 1)}{1 - P(y = 1)}\\right) = \\beta_0 + \\beta_1x_1 + \\beta_2x_2 + \\cdots + \\beta_px_p\n",
        "$$\n",
        "\n",
        "Equivalently, we assume that each independent variable $x_i$ is linearly related to the **log of the odds of success**.\n",
        "\n",
        "Remember, the purpose of the link function is to bend our line of best fit.\n",
        "- This is convenient because we can have any values of $X$ inputs that we want, and we'll only ever predict between 0 and 1!\n",
        "- However, interpreting a one-unit change gets a little harder. (More on this later.)"
      ]
    },
    {
      "cell_type": "markdown",
      "metadata": {
        "id": "1P1Jl9Mqqb9w"
      },
      "source": [
        "\n",
        "\n",
        "<img src=\"https://pbs.twimg.com/media/EcBRgtiUMAAdMFQ?format=png&name=small\" style=\"float: center; margin: 20px; height: 500px\">\n",
        "\n",
        "[*image source*](https://twitter.com/ChelseaParlett/status/1279111984433127425?s=20)"
      ]
    },
    {
      "cell_type": "markdown",
      "metadata": {
        "id": "Gupi5hz5qb9w"
      },
      "source": [
        "## Fitting and making predictions with the logistic regression model.\n",
        "\n",
        "We can follow the same steps to build a logistic regression model that we follow to build a linear regression model.\n",
        "\n",
        "1. Define X & y\n",
        "2. Instantiate the model.\n",
        "3. Fit the model.\n",
        "4. Generate predictions.\n",
        "5. Evaluate model."
      ]
    },
    {
      "cell_type": "code",
      "execution_count": 12,
      "metadata": {
        "colab": {
          "base_uri": "https://localhost:8080/",
          "height": 206
        },
        "id": "XRxKRNLuqb9x",
        "outputId": "26223dc6-1f00-4bf8-b8d6-37989c0a89b4"
      },
      "outputs": [
        {
          "output_type": "execute_result",
          "data": {
            "text/plain": [
              "   admit    gre       gpa\n",
              "0      0  380.0  2.915018\n",
              "1      1  660.0  4.044540\n",
              "2      1  800.0  4.950714\n",
              "3      1  640.0  3.921994\n",
              "4      0  520.0  2.069878"
            ],
            "text/html": [
              "\n",
              "  <div id=\"df-f7b72430-120b-4abe-9fd9-e677338e7a1a\">\n",
              "    <div class=\"colab-df-container\">\n",
              "      <div>\n",
              "<style scoped>\n",
              "    .dataframe tbody tr th:only-of-type {\n",
              "        vertical-align: middle;\n",
              "    }\n",
              "\n",
              "    .dataframe tbody tr th {\n",
              "        vertical-align: top;\n",
              "    }\n",
              "\n",
              "    .dataframe thead th {\n",
              "        text-align: right;\n",
              "    }\n",
              "</style>\n",
              "<table border=\"1\" class=\"dataframe\">\n",
              "  <thead>\n",
              "    <tr style=\"text-align: right;\">\n",
              "      <th></th>\n",
              "      <th>admit</th>\n",
              "      <th>gre</th>\n",
              "      <th>gpa</th>\n",
              "    </tr>\n",
              "  </thead>\n",
              "  <tbody>\n",
              "    <tr>\n",
              "      <th>0</th>\n",
              "      <td>0</td>\n",
              "      <td>380.0</td>\n",
              "      <td>2.915018</td>\n",
              "    </tr>\n",
              "    <tr>\n",
              "      <th>1</th>\n",
              "      <td>1</td>\n",
              "      <td>660.0</td>\n",
              "      <td>4.044540</td>\n",
              "    </tr>\n",
              "    <tr>\n",
              "      <th>2</th>\n",
              "      <td>1</td>\n",
              "      <td>800.0</td>\n",
              "      <td>4.950714</td>\n",
              "    </tr>\n",
              "    <tr>\n",
              "      <th>3</th>\n",
              "      <td>1</td>\n",
              "      <td>640.0</td>\n",
              "      <td>3.921994</td>\n",
              "    </tr>\n",
              "    <tr>\n",
              "      <th>4</th>\n",
              "      <td>0</td>\n",
              "      <td>520.0</td>\n",
              "      <td>2.069878</td>\n",
              "    </tr>\n",
              "  </tbody>\n",
              "</table>\n",
              "</div>\n",
              "      <button class=\"colab-df-convert\" onclick=\"convertToInteractive('df-f7b72430-120b-4abe-9fd9-e677338e7a1a')\"\n",
              "              title=\"Convert this dataframe to an interactive table.\"\n",
              "              style=\"display:none;\">\n",
              "        \n",
              "  <svg xmlns=\"http://www.w3.org/2000/svg\" height=\"24px\"viewBox=\"0 0 24 24\"\n",
              "       width=\"24px\">\n",
              "    <path d=\"M0 0h24v24H0V0z\" fill=\"none\"/>\n",
              "    <path d=\"M18.56 5.44l.94 2.06.94-2.06 2.06-.94-2.06-.94-.94-2.06-.94 2.06-2.06.94zm-11 1L8.5 8.5l.94-2.06 2.06-.94-2.06-.94L8.5 2.5l-.94 2.06-2.06.94zm10 10l.94 2.06.94-2.06 2.06-.94-2.06-.94-.94-2.06-.94 2.06-2.06.94z\"/><path d=\"M17.41 7.96l-1.37-1.37c-.4-.4-.92-.59-1.43-.59-.52 0-1.04.2-1.43.59L10.3 9.45l-7.72 7.72c-.78.78-.78 2.05 0 2.83L4 21.41c.39.39.9.59 1.41.59.51 0 1.02-.2 1.41-.59l7.78-7.78 2.81-2.81c.8-.78.8-2.07 0-2.86zM5.41 20L4 18.59l7.72-7.72 1.47 1.35L5.41 20z\"/>\n",
              "  </svg>\n",
              "      </button>\n",
              "      \n",
              "  <style>\n",
              "    .colab-df-container {\n",
              "      display:flex;\n",
              "      flex-wrap:wrap;\n",
              "      gap: 12px;\n",
              "    }\n",
              "\n",
              "    .colab-df-convert {\n",
              "      background-color: #E8F0FE;\n",
              "      border: none;\n",
              "      border-radius: 50%;\n",
              "      cursor: pointer;\n",
              "      display: none;\n",
              "      fill: #1967D2;\n",
              "      height: 32px;\n",
              "      padding: 0 0 0 0;\n",
              "      width: 32px;\n",
              "    }\n",
              "\n",
              "    .colab-df-convert:hover {\n",
              "      background-color: #E2EBFA;\n",
              "      box-shadow: 0px 1px 2px rgba(60, 64, 67, 0.3), 0px 1px 3px 1px rgba(60, 64, 67, 0.15);\n",
              "      fill: #174EA6;\n",
              "    }\n",
              "\n",
              "    [theme=dark] .colab-df-convert {\n",
              "      background-color: #3B4455;\n",
              "      fill: #D2E3FC;\n",
              "    }\n",
              "\n",
              "    [theme=dark] .colab-df-convert:hover {\n",
              "      background-color: #434B5C;\n",
              "      box-shadow: 0px 1px 3px 1px rgba(0, 0, 0, 0.15);\n",
              "      filter: drop-shadow(0px 1px 2px rgba(0, 0, 0, 0.3));\n",
              "      fill: #FFFFFF;\n",
              "    }\n",
              "  </style>\n",
              "\n",
              "      <script>\n",
              "        const buttonEl =\n",
              "          document.querySelector('#df-f7b72430-120b-4abe-9fd9-e677338e7a1a button.colab-df-convert');\n",
              "        buttonEl.style.display =\n",
              "          google.colab.kernel.accessAllowed ? 'block' : 'none';\n",
              "\n",
              "        async function convertToInteractive(key) {\n",
              "          const element = document.querySelector('#df-f7b72430-120b-4abe-9fd9-e677338e7a1a');\n",
              "          const dataTable =\n",
              "            await google.colab.kernel.invokeFunction('convertToInteractive',\n",
              "                                                     [key], {});\n",
              "          if (!dataTable) return;\n",
              "\n",
              "          const docLinkHtml = 'Like what you see? Visit the ' +\n",
              "            '<a target=\"_blank\" href=https://colab.research.google.com/notebooks/data_table.ipynb>data table notebook</a>'\n",
              "            + ' to learn more about interactive tables.';\n",
              "          element.innerHTML = '';\n",
              "          dataTable['output_type'] = 'display_data';\n",
              "          await google.colab.output.renderOutput(dataTable, element);\n",
              "          const docLink = document.createElement('div');\n",
              "          docLink.innerHTML = docLinkHtml;\n",
              "          element.appendChild(docLink);\n",
              "        }\n",
              "      </script>\n",
              "    </div>\n",
              "  </div>\n",
              "  "
            ]
          },
          "metadata": {},
          "execution_count": 12
        }
      ],
      "source": [
        "admissions.head()"
      ]
    },
    {
      "cell_type": "code",
      "execution_count": null,
      "metadata": {
        "id": "lYaWRN7Lqb9x"
      },
      "outputs": [],
      "source": []
    },
    {
      "cell_type": "code",
      "execution_count": null,
      "metadata": {
        "id": "StTcCG0kqb9x"
      },
      "outputs": [],
      "source": []
    },
    {
      "cell_type": "code",
      "execution_count": 14,
      "metadata": {
        "id": "bVXmE64Zqb9x"
      },
      "outputs": [],
      "source": [
        "# Step 1: Split into training & testing sets\n",
        "\n",
        "X=admissions[['gpa']] #Matrix\n",
        "y=admissions['admit'] #Vector\n",
        "\n",
        "X_train,X_test,y_train,y_test = train_test_split(X,y,random_state=42)\n"
      ]
    },
    {
      "cell_type": "code",
      "execution_count": 15,
      "metadata": {
        "id": "5no63NEsqb9y"
      },
      "outputs": [],
      "source": [
        "# Step 2: Instantiate our model.\n",
        "\n",
        "logreg = LogisticRegression()\n"
      ]
    },
    {
      "cell_type": "code",
      "execution_count": 16,
      "metadata": {
        "colab": {
          "base_uri": "https://localhost:8080/"
        },
        "id": "g69uVSLHqb9y",
        "outputId": "2f7b9b58-9f19-4518-d2ff-d86fbce3c48c"
      },
      "outputs": [
        {
          "output_type": "execute_result",
          "data": {
            "text/plain": [
              "LogisticRegression()"
            ]
          },
          "metadata": {},
          "execution_count": 16
        }
      ],
      "source": [
        "# Step 3: Fit our model.\n",
        "\n",
        "logreg.fit(X_train,y_train)"
      ]
    },
    {
      "cell_type": "code",
      "execution_count": 17,
      "metadata": {
        "colab": {
          "base_uri": "https://localhost:8080/"
        },
        "id": "QzimzxKNqb9y",
        "outputId": "e3ccf8c5-0ef6-4c63-fb9b-227f2c8f78da"
      },
      "outputs": [
        {
          "output_type": "execute_result",
          "data": {
            "text/plain": [
              "array([-17.83664032])"
            ]
          },
          "metadata": {},
          "execution_count": 17
        }
      ],
      "source": [
        "logreg.intercept_"
      ]
    },
    {
      "cell_type": "code",
      "execution_count": 18,
      "metadata": {
        "colab": {
          "base_uri": "https://localhost:8080/"
        },
        "id": "lgs6FDpOqb9y",
        "outputId": "af4d15e5-66a8-484f-a6fb-2add3381af78"
      },
      "outputs": [
        {
          "output_type": "execute_result",
          "data": {
            "text/plain": [
              "array([[5.00449924]])"
            ]
          },
          "metadata": {},
          "execution_count": 18
        }
      ],
      "source": [
        "logreg.coef_"
      ]
    },
    {
      "cell_type": "markdown",
      "metadata": {
        "id": "u3lCEYziqb9z"
      },
      "source": [
        "There are two methods in `sklearn` to be aware of when using logistic regression:\n",
        "- `.predict()`\n",
        "- `.predict_proba()`"
      ]
    },
    {
      "cell_type": "code",
      "execution_count": 19,
      "metadata": {
        "colab": {
          "base_uri": "https://localhost:8080/"
        },
        "id": "6a50ePwDqb9z",
        "outputId": "6fef3562-0d5f-43d4-a494-c4c593f0aadb"
      },
      "outputs": [
        {
          "output_type": "execute_result",
          "data": {
            "text/plain": [
              "array([0, 1, 0, 0, 1, 1, 0, 0, 0, 0, 1, 0, 0, 0, 0, 0, 0, 1, 0, 0, 1, 0,\n",
              "       0, 0, 0, 0, 0, 1, 0, 0, 0, 0, 0, 0, 1, 1, 0, 0, 0, 0, 0, 1, 0, 0,\n",
              "       0, 0, 0, 0, 0, 0, 0, 0, 0, 0, 0, 0, 0, 0, 0, 1, 1, 1, 1, 0, 0, 1,\n",
              "       1, 1, 0, 0, 0, 0, 0, 0, 0, 0, 0, 1, 0, 0, 0, 0, 1, 0, 0, 0, 1, 0,\n",
              "       0, 0, 0, 0, 0, 0, 1, 0, 1, 0, 0, 1, 0, 1, 0, 0, 0, 0, 1, 0, 0, 0,\n",
              "       0, 0, 0, 1, 0, 0, 1, 1, 0, 1, 1, 0, 1, 0, 1, 1, 0, 0, 0, 0, 1, 0,\n",
              "       0, 0, 0, 0, 0, 0, 0, 0, 0, 0, 0, 0, 1, 0, 0, 1, 1, 0, 0, 0, 0, 0,\n",
              "       0, 0, 1, 1, 1, 1, 0, 0, 0, 0, 0, 0, 0, 0, 0, 0, 0, 0, 0, 0, 1, 0,\n",
              "       0, 0, 1, 0, 0, 0, 0, 0, 0, 1, 1, 0, 1, 0, 0, 0, 0, 1, 0, 1, 0, 0,\n",
              "       0, 0, 1, 1, 0, 0, 0, 0, 0, 0, 0, 1, 0, 1, 0, 1, 0, 0, 0, 1, 0, 0,\n",
              "       1, 1, 0, 1, 1, 0, 0, 0, 0, 0, 1, 0, 0, 1, 0, 1, 0, 1, 1, 0, 0, 0,\n",
              "       0, 1, 0, 0, 0, 0, 0, 0, 0, 0, 1, 0, 0, 1, 0, 0, 0, 0, 0, 0, 0, 0,\n",
              "       0, 0, 1, 0, 1, 1, 1, 1, 1, 0, 1, 0, 0, 1, 0, 1, 0, 0, 1, 0, 0, 0,\n",
              "       1, 0, 0, 0, 1, 1, 0, 0, 0, 0, 0, 0, 0, 0, 0, 1, 0, 0, 0, 0, 0, 1,\n",
              "       1, 0, 0, 0, 0, 0, 0, 0, 0, 0, 0, 0, 0, 0, 0, 0, 1, 0, 1, 0, 1, 0,\n",
              "       0, 1, 0, 1, 0, 0, 0, 0, 1, 0, 0, 0, 0, 1, 0, 0, 1, 0, 1, 0, 0, 1,\n",
              "       0, 1, 0, 0, 0, 1, 0, 0, 1, 0, 0, 0, 0, 1, 0, 1, 0, 0, 1, 0, 0, 0,\n",
              "       0, 1, 0, 0, 0, 0, 0, 0, 0, 1, 0, 1, 0, 0, 1, 1, 0, 1, 1, 0, 0, 0,\n",
              "       1, 0, 0, 0, 1, 0, 0, 1, 0, 1, 1, 0, 0, 0, 0, 1, 1, 1, 0, 0, 1, 0,\n",
              "       0, 1, 0, 0, 0, 1, 0, 0, 0, 0, 0, 0, 0, 1, 0, 0, 0, 0, 0, 1, 0, 1,\n",
              "       0, 0, 1, 0, 0, 1, 0, 0, 0, 0, 0, 1, 1, 1, 0, 0, 1, 1, 0, 0, 1, 0,\n",
              "       0, 0, 0, 0, 0, 1, 0, 0, 0, 1, 0, 0, 0, 0, 0, 0, 0, 0, 0, 0, 1, 0,\n",
              "       0, 0, 1, 0, 1, 1, 0, 0, 1, 1, 0, 0, 0, 0, 0, 0, 1, 0, 0, 0, 0, 1,\n",
              "       0, 0, 1, 1, 1, 0, 0, 0, 0, 0, 1, 0, 0, 0, 0, 0, 0, 1, 0, 0, 1, 0,\n",
              "       1, 1, 0, 0, 1, 0, 1, 1, 0, 0, 0, 0, 1, 0, 1, 0, 1, 0, 0, 0, 0, 0,\n",
              "       0, 0, 0, 0, 1, 0, 1, 0, 0, 0, 0, 0, 0, 0, 0, 0, 1, 0, 1, 1, 0, 0,\n",
              "       0, 0, 0, 0, 0, 0, 0, 0, 0, 1, 1, 1, 0, 1, 1, 0, 1, 0, 0, 0, 0, 0,\n",
              "       0, 0, 1, 1, 1, 1, 0, 1, 0, 0, 0, 1, 0, 1, 1, 0, 0, 0, 1, 0, 0, 1,\n",
              "       0, 0, 0, 1, 1, 1, 1, 1, 1, 0, 0, 0, 1, 0, 1, 0, 0, 0, 0, 1, 1, 0,\n",
              "       1, 1, 0, 1, 0, 0, 0, 0, 0, 1, 0, 0, 0, 0, 0, 0, 0, 0, 1, 0, 1, 0,\n",
              "       0, 1, 0, 0, 1, 1, 1, 0, 1, 0, 0, 0, 0, 0, 0, 0, 0, 1, 0, 1, 0, 0,\n",
              "       1, 1, 0, 0, 0, 0, 1, 0, 0, 0, 1, 1, 0, 1, 0, 1, 0, 0, 1, 0, 1, 0,\n",
              "       1, 1, 1, 0, 0, 0, 0, 0, 0, 1, 0, 1, 1, 0, 0, 0, 0, 0, 0, 0, 0, 0,\n",
              "       0, 0, 0, 0, 1, 0, 0, 0, 0, 1, 1, 0, 1, 1, 0, 1, 1, 0, 1, 0, 0, 1,\n",
              "       0, 1, 0, 0, 0, 0, 0, 1, 0, 1, 0, 0, 0, 0, 0, 0, 0, 1, 1, 1, 0, 0,\n",
              "       0, 0, 0, 0, 0, 0, 1, 0, 0, 0, 0, 0, 1, 0, 1, 1, 0, 1, 0, 1, 0, 1,\n",
              "       0, 0, 0, 1, 0, 1, 0, 1, 0, 0, 1, 0, 0, 0, 0, 0, 1, 0, 1, 0, 0, 0,\n",
              "       0, 0, 0, 1, 0, 0, 0, 0, 1, 0, 0, 0, 0, 0, 0, 0, 0, 0, 1, 0, 0, 0,\n",
              "       0, 0, 1, 0, 0, 0, 0, 0, 0, 0, 0, 1, 1, 0, 1, 0, 0, 0, 1, 0, 1, 0,\n",
              "       0, 0, 0, 1, 0, 0, 0, 0, 0, 0, 1, 0, 0, 0, 0, 0, 0, 0, 1, 0, 0, 0,\n",
              "       0, 1, 1, 0, 1, 0, 0, 1, 0, 1, 0, 0, 0, 1, 0, 0, 0, 0, 0, 0, 1, 0,\n",
              "       1, 0, 0, 1, 1, 0, 0, 0, 0, 0, 0, 0, 0, 0, 1, 0, 0, 1, 0, 1, 1, 0,\n",
              "       1, 0, 0, 0, 1, 0, 1, 0, 0, 0, 0, 1, 0, 0, 1, 0, 1, 0, 0, 1, 0, 1,\n",
              "       1, 0, 0, 0, 1, 0, 0, 1, 0, 0, 0, 0, 0, 0, 1, 1, 0, 0, 0, 1, 1, 0,\n",
              "       0, 0, 0, 0, 1, 1, 0, 0, 1, 1, 0, 1, 1, 1, 0, 1, 0, 0, 0, 1, 0, 1,\n",
              "       0, 0, 0])"
            ]
          },
          "metadata": {},
          "execution_count": 19
        }
      ],
      "source": [
        "# Step 4 (part 1): Generate predicted values.\n",
        "\n",
        "logreg.predict(X_test)\n"
      ]
    },
    {
      "cell_type": "code",
      "execution_count": 20,
      "metadata": {
        "colab": {
          "base_uri": "https://localhost:8080/"
        },
        "id": "I6kpSZmQqb9z",
        "outputId": "b85bf60c-89bd-43eb-ef8f-b4fe524f1967"
      },
      "outputs": [
        {
          "output_type": "execute_result",
          "data": {
            "text/plain": [
              "array([[0.99, 0.01],\n",
              "       [0.06, 0.94],\n",
              "       [0.79, 0.21],\n",
              "       ...,\n",
              "       [0.99, 0.01],\n",
              "       [1.  , 0.  ],\n",
              "       [0.84, 0.16]])"
            ]
          },
          "metadata": {},
          "execution_count": 20
        }
      ],
      "source": [
        "# Step 4 (part 2): Generate predicted probabilities.\n",
        "np.round(logreg.predict_proba(X_test),2)"
      ]
    },
    {
      "cell_type": "markdown",
      "metadata": {
        "id": "36f8g1hMqb9z"
      },
      "source": [
        "<details><summary>How would you interpret the predict_proba() output?</summary>\n",
        "    \n",
        "- This shows the probability of being rejected ($P(Y=0)$) and the probability of being admitted ($P(Y=1)$) for each observation in the testing dataset.\n",
        "- The first array, corresponds to the first testing observation.\n",
        "    - The `.predict()` value for this observation is 0. This is because $P(Y=0) > P(Y=1)$.\n",
        "- The second array, corresponds to the second testing observation.\n",
        "    - The `.predict()` value for this observation is 0. This is because $P(Y=0) > P(Y=1)$.\n",
        "</details>"
      ]
    },
    {
      "cell_type": "code",
      "execution_count": 21,
      "metadata": {
        "colab": {
          "base_uri": "https://localhost:8080/",
          "height": 350
        },
        "id": "r8sNt_jEqb90",
        "outputId": "c5563b14-df7f-470a-9cd3-8af622258660"
      },
      "outputs": [
        {
          "output_type": "display_data",
          "data": {
            "text/plain": [
              "<Figure size 720x360 with 1 Axes>"
            ],
            "image/png": "[encoded data removed]"
          },
          "metadata": {
            "needs_background": "light"
          }
        }
      ],
      "source": [
        "# Visualizing logistic regression probabilities.\n",
        "\n",
        "plt.figure(figsize = (10, 5))\n",
        "\n",
        "plt.scatter(X_test, y_test, s = 10);\n",
        "\n",
        "plt.plot(X_test.sort_values('gpa'),\n",
        "         logreg.predict_proba(X_test.sort_values('gpa'))[:,1],\n",
        "         color = 'grey', alpha = 0.8, lw = 3)\n",
        "\n",
        "plt.xlabel('GPA')\n",
        "plt.ylabel('Admit')\n",
        "plt.title('Predicting Admission from GPA');"
      ]
    },
    {
      "cell_type": "code",
      "execution_count": 22,
      "metadata": {
        "colab": {
          "base_uri": "https://localhost:8080/"
        },
        "id": "sETaB_avqb90",
        "outputId": "e31b3ecd-fa37-4c8f-ddc1-b3938e572808"
      },
      "outputs": [
        {
          "output_type": "execute_result",
          "data": {
            "text/plain": [
              "0.8968760497144777"
            ]
          },
          "metadata": {},
          "execution_count": 22
        }
      ],
      "source": [
        "# Step 5: Evaluate model.\n",
        "\n",
        "logreg.score(X_train,y_train)"
      ]
    },
    {
      "cell_type": "code",
      "execution_count": 23,
      "metadata": {
        "colab": {
          "base_uri": "https://localhost:8080/"
        },
        "id": "m9UCrLNyqb90",
        "outputId": "367e7354-cd02-4f1f-f939-afecd309d24b"
      },
      "outputs": [
        {
          "output_type": "execute_result",
          "data": {
            "text/plain": [
              "0.8952668680765358"
            ]
          },
          "metadata": {},
          "execution_count": 23
        }
      ],
      "source": [
        "logreg.score(X_test,y_test)\n",
        "\n",
        "# the significance level is below 5 %\n",
        "# Hence its. good fit model\n",
        "# accuray score is calculated not R2 "
      ]
    },
    {
      "cell_type": "markdown",
      "metadata": {
        "id": "JKUc29vkqb90"
      },
      "source": [
        "By default, the `.score()` method for classification models gives us the accuracy score.\n",
        "\n",
        "$$\n",
        "\\begin{eqnarray*}\n",
        "\\text{Accuracy} = \\frac{\\text{number of correct predictions}}{\\text{number of total predictions}}\n",
        "\\end{eqnarray*}\n",
        "$$"
      ]
    },
    {
      "cell_type": "markdown",
      "metadata": {
        "id": "9Ezisa7fqb91"
      },
      "source": [
        "<details><summary>Remind me: what does .score() tell me for a regression model?</summary>\n",
        "    \n",
        "- The $R^2$ score.\n",
        "- Remember that $R^2$ is the proportion of variance in our $Y$ values that are explained by our model.\n",
        "</details>"
      ]
    },
    {
      "cell_type": "markdown",
      "metadata": {
        "id": "UlzJWhc9qb91"
      },
      "source": [
        "### Using the log-odds —the natural logarithm of the odds.\n",
        "\n",
        "The combination of converting the \"probability of success\" to \"odds of success,\" then taking the logarithm of that is called the **logit link function**.\n",
        "\n",
        "$$\n",
        "\\text{logit}\\big(P(y=1)\\big) = \\log\\bigg(\\frac{P(y=1)}{1-P(y=1)}\\bigg) = \\beta_0 + \\beta_1x_1 + \\beta_2x_2 + \\cdots + \\beta_px_p\n",
        "$$\n",
        "\n",
        "We've bent our line how we want... but how do we interpret our coefficients?"
      ]
    },
    {
      "cell_type": "markdown",
      "metadata": {
        "id": "L2C15d9pqb91"
      },
      "source": [
        "### Odds\n",
        "\n",
        "Probabilities and odds represent the same thing in different ways. The odds for probability **p** is defined as:\n",
        "\n",
        "$$\n",
        "\\text{odds}(p) = \\frac{p}{1-p}\n",
        "$$\n",
        "\n",
        "The odds of a probability is a measure of how many times as likely an event is to happen than it is to not happen.\n",
        "\n",
        "**Example**: Suppose I'm looking at the probability and odds of a specific horse, \"Secretariat,\" winning a race.\n",
        "\n",
        "- When **`p = 0.5`**: **`odds = 1`**\n",
        "    - The horse Secretariat is as likely to win as it is to lose.\n",
        "- When **`p = 0.75`**: **`odds = 3`**\n",
        "    - The horse Secretariat is three times as likely to win as it is to lose.\n",
        "- When **`p = 0.40`**: **`odds = 0.666..`**\n",
        "   - The horse Secretariat is two-thirds as likely to win as it is to lose."
      ]
    },
    {
      "cell_type": "markdown",
      "metadata": {
        "id": "oS7natUNqb91"
      },
      "source": [
        "## Interpreting a one-unit change in $x_i$.\n",
        "\n",
        "$$\\log\\bigg(\\frac{P(y=1)}{1-P(y=1)}\\bigg) = \\beta_0 + \\beta_1x_1 + \\beta_2x_2 + \\cdots + \\beta_px_p$$\n",
        "\n",
        "Given this model, a one-unit change in $x_i$ implies a $\\beta_i$ unit change in the log odds of success.\n",
        "\n",
        "**This is annoying**.\n",
        "\n",
        "We often convert log-odds back to \"regular odds\" when interpreting our coefficient... our mind understands odds better than the log of odds.\n",
        "\n",
        "**(BONUS)** So, let's get rid of the log on the left-hand side. Mathematically, we do this by \"exponentiating\" each side.\n",
        "$$\n",
        "\\begin{eqnarray*}\n",
        "\\log\\bigg(\\frac{P(y=1)}{1-P(y=1)}\\bigg) &=& \\beta_0 + \\beta_1x_1 + \\beta_2x_2 + \\cdots + \\beta_px_p \\\\\n",
        "\\Rightarrow e^{\\Bigg(\\log\\bigg(\\frac{P(y=1)}{1-P(y=1)}\\bigg)\\Bigg)} &=& e^{\\Bigg(\\beta_0 + \\beta_1x_1 + \\beta_2x_2 + \\cdots + \\beta_px_p\\Bigg)} \\\\\n",
        "\\Rightarrow \\frac{P(y=1)}{1-P(y=1)} &=& e^{\\Bigg(\\beta_0 + \\beta_1x_1 + \\beta_2x_2 + \\cdots + \\beta_px_p\\Bigg)} \\\\\n",
        "\\end{eqnarray*}\n",
        "$$\n",
        "\n",
        "**Interpretation**: A one-unit change in $x_i$ means that success is $e^{\\beta_i}$ times as likely."
      ]
    },
    {
      "cell_type": "code",
      "execution_count": 24,
      "metadata": {
        "colab": {
          "base_uri": "https://localhost:8080/"
        },
        "id": "YxhC8bLRqb91",
        "outputId": "2d5b307a-c2bc-4f6e-e5d8-96e14b126cf5"
      },
      "outputs": [
        {
          "output_type": "execute_result",
          "data": {
            "text/plain": [
              "array([[5.00449924]])"
            ]
          },
          "metadata": {},
          "execution_count": 24
        }
      ],
      "source": [
        "logreg.coef_"
      ]
    },
    {
      "cell_type": "markdown",
      "metadata": {
        "id": "EJnduYLCqb92"
      },
      "source": [
        "<details><summary> I want to interpret the coefficient $\\hat{\\beta}_1$ for my logistic regression model. How would I interpret this coefficient?</summary>\n",
        "    \n",
        "- Our model is that $\\log\\bigg(\\frac{P(admit=1)}{1-P(admit=1)}\\bigg) = \\beta_0 + \\beta_1\\text{GPA}$.\n",
        "- As GPA increases by 1, the log-odds of someone being admitted increases by 5.00.\n",
        "- As GPA increases by 1, someone is $e^{5.00}$ times as likely to be admitted.\n",
        "- As GPA increases by 1, someone is about 137.06 times as likely to be admitted to grad school.\n",
        "</details>\n",
        "\n",
        "> Hint: Use the [np.exp](https://docs.scipy.org/doc/numpy/reference/generated/numpy.exp.html) function."
      ]
    },
    {
      "cell_type": "code",
      "execution_count": null,
      "metadata": {
        "colab": {
          "base_uri": "https://localhost:8080/"
        },
        "id": "AMfTzMXlqb92",
        "outputId": "0b7473e6-3e5d-42c1-c177-3d85529faaff"
      },
      "outputs": [
        {
          "output_type": "execute_result",
          "data": {
            "text/plain": [
              "array([[149.08241027]])"
            ]
          },
          "metadata": {},
          "execution_count": 23
        }
      ],
      "source": [
        "#exponentiate the coefficient\n",
        "\n",
        "np.exp(logreg.coef_)"
      ]
    },
    {
      "cell_type": "markdown",
      "metadata": {
        "id": "twx5xsVQqb92"
      },
      "source": [
        "## Conclusion\n",
        "\n",
        "The goal of logistic regression is to find the best-fitting model to describe the relationship between a binary outcome and a set of independent variables.\n",
        "\n",
        "Logistic regression generates the coefficients of a formula to predict a logit transformation of the probability that the characteristic of interest is present."
      ]
    },
    {
      "cell_type": "markdown",
      "metadata": {
        "id": "u01o-Ws4qb92"
      },
      "source": [
        "## Interview Questions"
      ]
    },
    {
      "cell_type": "markdown",
      "metadata": {
        "id": "OMWTJtZmqb93"
      },
      "source": [
        "<details><summary>What is the difference between a classification and a regression problem?</summary>\n",
        "    \n",
        "- A classification problem has a categorical $Y$ variable. A regression problem has a numeric $Y$ variable.\n",
        "</details>"
      ]
    },
    {
      "cell_type": "markdown",
      "metadata": {
        "id": "vEcQ2aYvqb93"
      },
      "source": [
        "<details><summary>What are some of the benefits of logistic regression as a classifier?</summary>\n",
        "\n",
        "(Answers may vary; this is not an exhaustive list!)\n",
        "- Logistic regression is a classification algorithm that shares similar properties to linear regression.\n",
        "- The coefficients in a logistic regression model are interpretable. (They represent the change in log-odds caused by the input variables.)\n",
        "- Logistic regression is a very fast model to fit and generate predictions from.\n",
        "- It is by far the most common classification algorithm.\n",
        "\n",
        "**Note**: The original interview question was \"If you're comparing decision trees and logistic regression, what are the pros and cons of each?\"\n",
        "</details>"
      ]
    },
    {
      "cell_type": "markdown",
      "metadata": {
        "id": "6xJI3YYwqb93"
      },
      "source": [
        "## (BONUS) Solving for the Beta Coefficients\n",
        "\n",
        "Logistic regression minimizes the \"deviance,\" which is similar to the residual sum of squares in linear regression, but is a more general form. \n",
        "\n",
        "**There's no closed-form solution to the beta coefficients like in linear regression, and the betas are found through optimization procedures.**\n",
        "- We can't just do $\\hat{\\beta} = (X^TX)^{-1}X^Ty$ like we can in linear regression!\n",
        "\n",
        "The `solver` hyperparameter in sklearn's LogisticRegression class specifies which method should be used to solve for the optimal beta coefficients (the coefficients that minimize our cost function). A former DC DSI instructor Jeff Hale has a great blog post about which solver to choose [here](https://towardsdatascience.com/dont-sweat-the-solver-stuff-aea7cddc3451).\n",
        "\n",
        "If you're particularly interested in the math, here are two helpful resources:\n",
        "- [A good blog post](http://www.win-vector.com/blog/2011/09/the-simpler-derivation-of-logistic-regression/) on the logistic regression beta coefficient derivation.\n",
        "- [This paper](https://www.stat.cmu.edu/~cshalizi/402/lectures/14-logistic-regression/lecture-14.pdf) is also a good reference."
      ]
    },
    {
      "cell_type": "markdown",
      "metadata": {
        "id": "Ds81MlSOqb93"
      },
      "source": [
        "## (BONUS) The Logistic Function\n",
        "\n",
        "The inverse function of the logit is called the **logistic function**. \n",
        "\n",
        "By inverting the logit, we can have the right side of our regression equation solve explicitly for $P(y = 1)$:\n",
        "\n",
        "$$\n",
        "P(y=1) = logit^{-1}\\left(\\beta_0 + \\sum_{j}^p\\beta_jx_j\\right)\n",
        "$$\n",
        "\n",
        "Where:\n",
        "\n",
        "$$\n",
        "logit^{-1}(a) = logistic(a) = \\frac{e^{a}}{e^{a} + 1}\n",
        "$$ \n",
        "\n",
        "Giving us:\n",
        "\n",
        "$$\n",
        "P(y=1) = \\frac{e^{\\left(\\beta_0 + \\beta_1x_1 + \\beta_2x_2 + \\cdots + \\beta_px_p\\right)}}{e^{\\left(\\beta_0 + \\beta_1x_1 + \\beta_2x_2 + \\cdots + \\beta_px_p\\right)}+1}\n",
        "$$"
      ]
    }
  ],
  "metadata": {
    "kernelspec": {
      "display_name": "Python 3",
      "language": "python",
      "name": "python3"
    },
    "language_info": {
      "codemirror_mode": {
        "name": "ipython",
        "version": 3
      },
      "file_extension": ".py",
      "mimetype": "text/x-python",
      "name": "python",
      "nbconvert_exporter": "python",
      "pygments_lexer": "ipython3",
      "version": "3.8.5"
    },
    "colab": {
      "provenance": []
    }
  },
  "nbformat": 4,
  "nbformat_minor": 0
}