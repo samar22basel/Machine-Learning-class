{
  "cells": [
    {
      "cell_type": "markdown",
      "metadata": {
        "id": "EhhRxhUkf1Ga"
      },
      "source": [
        "\n",
        "\n",
        "# Missing Data\n",
        "---\n",
        "\n",
        "### Learning Objectives\n",
        "- Define MCAR, MAR, and NMAR.\n",
        "-- Missing completely at random [MCAR]\n",
        "-- Missing at random [MAR]\n",
        "-- Missing not at random [NMAR] \n",
        "- Describe various strategies for dealing with missing data.\n",
        "- Understand the assumptions we make when using strategies to handle missing data.\n",
        "\n",
        "### Credit\n",
        "This lesson is adapted from a missing data workshop that Matt Brems presented at the Open Data Science Conference ([ODSC](https://odsc.com/)).  Check out his GitHub repo [here](https://github.com/matthewbrems/missing-data-workshop?fbclid=IwAR1LGjaIen-ITLndPN1ODV1lYZBvxsHDs0DgIaPkuxpXMsQRBT8eAPI-0sI)."
      ]
    },
    {
      "cell_type": "code",
      "execution_count": null,
      "metadata": {
        "id": "IE_CUQc-f1Gf"
      },
      "outputs": [],
      "source": [
        "#pip install missingno\n",
        "# Import libraries.\n",
        "import pandas as pd\n",
        "import numpy as np\n",
        "import matplotlib.pyplot as plt\n",
        "import statistics\n",
        "import missingno as msno\n",
        "\n",
        "\n",
        "# Set random seed.\n",
        "np.random.seed(42)"
      ]
    },
    {
      "cell_type": "code",
      "execution_count": null,
      "metadata": {
        "id": "YHcC3EoWf1Gh",
        "outputId": "74442de6-acf1-41c2-8016-cb2333490206",
        "colab": {
          "base_uri": "https://localhost:8080/",
          "height": 363
        }
      },
      "outputs": [
        {
          "output_type": "execute_result",
          "data": {
            "text/plain": [
              "   children   age  partnered        income\n",
              "0         1  35.0          1  56531.361287\n",
              "1         2  58.0          1  93026.182530\n",
              "2         0  49.0          1  42693.010819\n",
              "3         0  44.0          1  83680.128218\n",
              "4         1  26.0          0  28845.520835\n",
              "5         1  26.0          1  24898.840890\n",
              "6         2  22.0          1  67152.008080\n",
              "7         2  55.0          1  35047.373500\n",
              "8         5  44.0          1  17245.869659\n",
              "9         1   NaN          1  75749.529176"
            ],
            "text/html": [
              "\n",
              "  <div id=\"df-aa025e50-5681-4d7d-a7da-fd0ead1696f3\">\n",
              "    <div class=\"colab-df-container\">\n",
              "      <div>\n",
              "<style scoped>\n",
              "    .dataframe tbody tr th:only-of-type {\n",
              "        vertical-align: middle;\n",
              "    }\n",
              "\n",
              "    .dataframe tbody tr th {\n",
              "        vertical-align: top;\n",
              "    }\n",
              "\n",
              "    .dataframe thead th {\n",
              "        text-align: right;\n",
              "    }\n",
              "</style>\n",
              "<table border=\"1\" class=\"dataframe\">\n",
              "  <thead>\n",
              "    <tr style=\"text-align: right;\">\n",
              "      <th></th>\n",
              "      <th>children</th>\n",
              "      <th>age</th>\n",
              "      <th>partnered</th>\n",
              "      <th>income</th>\n",
              "    </tr>\n",
              "  </thead>\n",
              "  <tbody>\n",
              "    <tr>\n",
              "      <th>0</th>\n",
              "      <td>1</td>\n",
              "      <td>35.0</td>\n",
              "      <td>1</td>\n",
              "      <td>56531.361287</td>\n",
              "    </tr>\n",
              "    <tr>\n",
              "      <th>1</th>\n",
              "      <td>2</td>\n",
              "      <td>58.0</td>\n",
              "      <td>1</td>\n",
              "      <td>93026.182530</td>\n",
              "    </tr>\n",
              "    <tr>\n",
              "      <th>2</th>\n",
              "      <td>0</td>\n",
              "      <td>49.0</td>\n",
              "      <td>1</td>\n",
              "      <td>42693.010819</td>\n",
              "    </tr>\n",
              "    <tr>\n",
              "      <th>3</th>\n",
              "      <td>0</td>\n",
              "      <td>44.0</td>\n",
              "      <td>1</td>\n",
              "      <td>83680.128218</td>\n",
              "    </tr>\n",
              "    <tr>\n",
              "      <th>4</th>\n",
              "      <td>1</td>\n",
              "      <td>26.0</td>\n",
              "      <td>0</td>\n",
              "      <td>28845.520835</td>\n",
              "    </tr>\n",
              "    <tr>\n",
              "      <th>5</th>\n",
              "      <td>1</td>\n",
              "      <td>26.0</td>\n",
              "      <td>1</td>\n",
              "      <td>24898.840890</td>\n",
              "    </tr>\n",
              "    <tr>\n",
              "      <th>6</th>\n",
              "      <td>2</td>\n",
              "      <td>22.0</td>\n",
              "      <td>1</td>\n",
              "      <td>67152.008080</td>\n",
              "    </tr>\n",
              "    <tr>\n",
              "      <th>7</th>\n",
              "      <td>2</td>\n",
              "      <td>55.0</td>\n",
              "      <td>1</td>\n",
              "      <td>35047.373500</td>\n",
              "    </tr>\n",
              "    <tr>\n",
              "      <th>8</th>\n",
              "      <td>5</td>\n",
              "      <td>44.0</td>\n",
              "      <td>1</td>\n",
              "      <td>17245.869659</td>\n",
              "    </tr>\n",
              "    <tr>\n",
              "      <th>9</th>\n",
              "      <td>1</td>\n",
              "      <td>NaN</td>\n",
              "      <td>1</td>\n",
              "      <td>75749.529176</td>\n",
              "    </tr>\n",
              "  </tbody>\n",
              "</table>\n",
              "</div>\n",
              "      <button class=\"colab-df-convert\" onclick=\"convertToInteractive('df-aa025e50-5681-4d7d-a7da-fd0ead1696f3')\"\n",
              "              title=\"Convert this dataframe to an interactive table.\"\n",
              "              style=\"display:none;\">\n",
              "        \n",
              "  <svg xmlns=\"http://www.w3.org/2000/svg\" height=\"24px\"viewBox=\"0 0 24 24\"\n",
              "       width=\"24px\">\n",
              "    <path d=\"M0 0h24v24H0V0z\" fill=\"none\"/>\n",
              "    <path d=\"M18.56 5.44l.94 2.06.94-2.06 2.06-.94-2.06-.94-.94-2.06-.94 2.06-2.06.94zm-11 1L8.5 8.5l.94-2.06 2.06-.94-2.06-.94L8.5 2.5l-.94 2.06-2.06.94zm10 10l.94 2.06.94-2.06 2.06-.94-2.06-.94-.94-2.06-.94 2.06-2.06.94z\"/><path d=\"M17.41 7.96l-1.37-1.37c-.4-.4-.92-.59-1.43-.59-.52 0-1.04.2-1.43.59L10.3 9.45l-7.72 7.72c-.78.78-.78 2.05 0 2.83L4 21.41c.39.39.9.59 1.41.59.51 0 1.02-.2 1.41-.59l7.78-7.78 2.81-2.81c.8-.78.8-2.07 0-2.86zM5.41 20L4 18.59l7.72-7.72 1.47 1.35L5.41 20z\"/>\n",
              "  </svg>\n",
              "      </button>\n",
              "      \n",
              "  <style>\n",
              "    .colab-df-container {\n",
              "      display:flex;\n",
              "      flex-wrap:wrap;\n",
              "      gap: 12px;\n",
              "    }\n",
              "\n",
              "    .colab-df-convert {\n",
              "      background-color: #E8F0FE;\n",
              "      border: none;\n",
              "      border-radius: 50%;\n",
              "      cursor: pointer;\n",
              "      display: none;\n",
              "      fill: #1967D2;\n",
              "      height: 32px;\n",
              "      padding: 0 0 0 0;\n",
              "      width: 32px;\n",
              "    }\n",
              "\n",
              "    .colab-df-convert:hover {\n",
              "      background-color: #E2EBFA;\n",
              "      box-shadow: 0px 1px 2px rgba(60, 64, 67, 0.3), 0px 1px 3px 1px rgba(60, 64, 67, 0.15);\n",
              "      fill: #174EA6;\n",
              "    }\n",
              "\n",
              "    [theme=dark] .colab-df-convert {\n",
              "      background-color: #3B4455;\n",
              "      fill: #D2E3FC;\n",
              "    }\n",
              "\n",
              "    [theme=dark] .colab-df-convert:hover {\n",
              "      background-color: #434B5C;\n",
              "      box-shadow: 0px 1px 3px 1px rgba(0, 0, 0, 0.15);\n",
              "      filter: drop-shadow(0px 1px 2px rgba(0, 0, 0, 0.3));\n",
              "      fill: #FFFFFF;\n",
              "    }\n",
              "  </style>\n",
              "\n",
              "      <script>\n",
              "        const buttonEl =\n",
              "          document.querySelector('#df-aa025e50-5681-4d7d-a7da-fd0ead1696f3 button.colab-df-convert');\n",
              "        buttonEl.style.display =\n",
              "          google.colab.kernel.accessAllowed ? 'block' : 'none';\n",
              "\n",
              "        async function convertToInteractive(key) {\n",
              "          const element = document.querySelector('#df-aa025e50-5681-4d7d-a7da-fd0ead1696f3');\n",
              "          const dataTable =\n",
              "            await google.colab.kernel.invokeFunction('convertToInteractive',\n",
              "                                                     [key], {});\n",
              "          if (!dataTable) return;\n",
              "\n",
              "          const docLinkHtml = 'Like what you see? Visit the ' +\n",
              "            '<a target=\"_blank\" href=https://colab.research.google.com/notebooks/data_table.ipynb>data table notebook</a>'\n",
              "            + ' to learn more about interactive tables.';\n",
              "          element.innerHTML = '';\n",
              "          dataTable['output_type'] = 'display_data';\n",
              "          await google.colab.output.renderOutput(dataTable, element);\n",
              "          const docLink = document.createElement('div');\n",
              "          docLink.innerHTML = docLinkHtml;\n",
              "          element.appendChild(docLink);\n",
              "        }\n",
              "      </script>\n",
              "    </div>\n",
              "  </div>\n",
              "  "
            ]
          },
          "metadata": {},
          "execution_count": 2
        }
      ],
      "source": [
        "# Bring in our data of age, partnered, children, and income data\n",
        "# where income is linearly related to age, partnered, and children.\n",
        "income = pd.read_csv('/content/income.csv') \n",
        "income_missing = pd.read_csv('/content/income_missing.csv') \n",
        "\n",
        "# Check out first 10 rows\n",
        "income_missing.head(10)"
      ]
    },
    {
      "cell_type": "code",
      "execution_count": null,
      "metadata": {
        "id": "-CSZUNk2f1Gi",
        "outputId": "4d82a9f3-03f9-476b-ff28-0a71f09cc37d",
        "colab": {
          "base_uri": "https://localhost:8080/",
          "height": 695
        }
      },
      "outputs": [
        {
          "output_type": "execute_result",
          "data": {
            "text/plain": [
              "<matplotlib.axes._subplots.AxesSubplot at 0x7f3f223ac310>"
            ]
          },
          "metadata": {},
          "execution_count": 3
        },
        {
          "output_type": "display_data",
          "data": {
            "text/plain": [
              "<Figure size 1800x720 with 2 Axes>"
            ],
            "image/png": "[encoded data removed]"
          },
          "metadata": {
            "needs_background": "light"
          }
        }
      ],
      "source": [
        "msno.matrix(income_missing)"
      ]
    },
    {
      "cell_type": "code",
      "execution_count": null,
      "metadata": {
        "id": "IU931c_Kf1Gi",
        "outputId": "fcddc8f2-8177-4e54-aa69-c07a9a522cfd",
        "colab": {
          "base_uri": "https://localhost:8080/"
        }
      },
      "outputs": [
        {
          "output_type": "execute_result",
          "data": {
            "text/plain": [
              "(100, 4)"
            ]
          },
          "metadata": {},
          "execution_count": 4
        }
      ],
      "source": [
        "income_missing.shape"
      ]
    },
    {
      "cell_type": "code",
      "execution_count": null,
      "metadata": {
        "id": "c-5L3vmsf1Gj",
        "outputId": "1a8cb4cd-42ed-4836-95f6-0a517f90d3a3",
        "colab": {
          "base_uri": "https://localhost:8080/"
        }
      },
      "outputs": [
        {
          "output_type": "execute_result",
          "data": {
            "text/plain": [
              "children      0\n",
              "age          30\n",
              "partnered     0\n",
              "income        0\n",
              "dtype: int64"
            ]
          },
          "metadata": {},
          "execution_count": 5
        }
      ],
      "source": [
        "income_missing.isnull().sum()"
      ]
    },
    {
      "cell_type": "markdown",
      "metadata": {
        "id": "aJsHtVWUf1Gj"
      },
      "source": []
    },
    {
      "cell_type": "code",
      "execution_count": null,
      "metadata": {
        "id": "_ZuX2W0tf1Gk"
      },
      "outputs": [],
      "source": [
        "# create a function to compare histograms of original & imputed data\n",
        "def compare_histograms(imputed_column, original_column, x_label, y_label = 'Frequency'):\n",
        "    fig, (ax0, ax1) = plt.subplots(nrows = 2, ncols = 1, figsize = (16,9))\n",
        "\n",
        "    # Set axes of histograms.\n",
        "    mode = statistics.mode(imputed_column)\n",
        "    rnge = max(original_column) - min(original_column)\n",
        "    xmin = min(original_column) - 0.02 * rnge\n",
        "    xmax = max(original_column) + 0.02 * rnge\n",
        "    ymax = 40\n",
        "\n",
        "    ax0.set_xlim(xmin, xmax)\n",
        "    ax0.set_ylim(0, ymax)\n",
        "    ax1.set_xlim(xmin, xmax)\n",
        "    ax1.set_ylim(0, ymax)\n",
        "\n",
        "    # Set top labels.\n",
        "    ax0.set_title('Real Histogram', position = (0,1), ha = 'left', fontsize = 25)\n",
        "    ax0.set_xlabel(x_label, position = (0,0), ha = 'left', fontsize = 25, color = 'grey', alpha = 0.85)\n",
        "    ax0.set_ylabel(y_label, position = (0,1), ha = 'right', va = 'top', fontsize = 25, rotation = 0, color = 'grey', alpha = 0.85)\n",
        "    ax0.set_xticks([])\n",
        "    ax0.set_yticks([])\n",
        "\n",
        "    # Generate top histogram.\n",
        "    ax0.hist(original_column, bins = 15, color = '#185fad', alpha = 0.75, label = '')\n",
        "    ax0.axvline(np.mean(original_column), color = '#185fad', lw = 5, label = 'True Mean')\n",
        "    ax0.legend(prop={'size': 15}, loc = 1)\n",
        "\n",
        "    # Set bottom labels.\n",
        "    ax1.set_title('Imputed Histogram', position = (0,1), ha = 'left', fontsize = 25)\n",
        "    ax1.set_xlabel(x_label, position = (0,0), ha = 'left', fontsize = 25, color = 'grey', alpha = 0.85)\n",
        "    ax1.set_ylabel(y_label, position = (0,1), ha = 'right', va = 'top', fontsize = 25, rotation = 0, color = 'grey', alpha = 0.85)\n",
        "    ax1.set_xticks([])\n",
        "    ax1.set_yticks([])\n",
        "    \n",
        "    # Generate bottom histogram.\n",
        "    ax1.hist(imputed_column, bins = 15, color = 'orange', alpha = 0.75, label = '', stacked = True)\n",
        "    ax1.axvline(np.mean(original_column), color = '#185fad', lw = 5, label = 'True Mean')\n",
        "    ax1.axvline(np.mean(imputed_column), color = 'darkorange', lw = 5, label = 'Imputed Mean')\n",
        "    ax1.legend(prop={'size': 15}, loc = 1)\n",
        "\n",
        "    plt.tight_layout();"
      ]
    },
    {
      "cell_type": "markdown",
      "metadata": {
        "id": "WcMnsRVbf1Gl"
      },
      "source": [
        "### Method 1: Deductive Imputation\n",
        "\n",
        "We use logical rules to fill in missing values.\n",
        "- Survey asks if the respondent was the victim of a crime in the last twelve months.\n",
        "- Respondent says no.\n",
        "- Survey then asks if the respondent was the victim of a violent crime in the last twelve months.\n",
        "- Respondent leaves this answer blank.\n",
        "\n",
        "**Pros**:\n",
        "- Can be used regardless of missingness type\n",
        "- Requires no inference\n",
        "\n",
        "**Cons**:\n",
        "- Requires specific coding\n",
        "- Can be time consuming\n",
        "- May not be possible"
      ]
    },
    {
      "cell_type": "markdown",
      "metadata": {
        "id": "_tWWd9t-f1Gm"
      },
      "source": [
        "### Method 2: Mean/Median/Mode Imputation\n",
        "\n",
        "For any “NA” value in a given column, replace “NA” with the mean, median, or mode.\n",
        "\n",
        "**Pros**:\n",
        "- Quick\n",
        "- Easy to implement\n",
        "- Seems reasonable\n",
        "\n",
        "**Cons**:\n",
        "- Can significantly distort histogram\n",
        "- Underestimates variance\n",
        "- Should only be considered if data is MCAR"
      ]
    },
    {
      "cell_type": "markdown",
      "metadata": {
        "id": "BBZIROPDf1Gm"
      },
      "source": [
        "#### Mean Imputation"
      ]
    },
    {
      "cell_type": "code",
      "execution_count": null,
      "metadata": {
        "scrolled": true,
        "id": "Ilo0Tw3Of1Gn",
        "outputId": "725b0b8f-b5d3-4a4f-bbcb-2d13fb12abd4",
        "colab": {
          "base_uri": "https://localhost:8080/"
        }
      },
      "outputs": [
        {
          "output_type": "execute_result",
          "data": {
            "text/plain": [
              "children      0\n",
              "age          30\n",
              "partnered     0\n",
              "income        0\n",
              "dtype: int64"
            ]
          },
          "metadata": {},
          "execution_count": 8
        }
      ],
      "source": [
        "# Which columns have missing values?\n",
        "income_missing.isnull().sum()"
      ]
    },
    {
      "cell_type": "code",
      "execution_count": null,
      "metadata": {
        "id": "YMSOq3ykf1Gn"
      },
      "outputs": [],
      "source": [
        "# Let's impute missing values in the age column with the mean\n",
        "mean_age = np.mean(income_missing['age'])"
      ]
    },
    {
      "cell_type": "code",
      "execution_count": null,
      "metadata": {
        "id": "rFdLJagDf1Go",
        "outputId": "acbffb66-ace7-4192-e5f4-1b9d5c56939f",
        "colab": {
          "base_uri": "https://localhost:8080/"
        }
      },
      "outputs": [
        {
          "output_type": "execute_result",
          "data": {
            "text/plain": [
              "39.5"
            ]
          },
          "metadata": {},
          "execution_count": 10
        }
      ],
      "source": [
        "mean_age"
      ]
    },
    {
      "cell_type": "code",
      "execution_count": null,
      "metadata": {
        "id": "HE4BROlDf1Go"
      },
      "outputs": [],
      "source": [
        "income_missing['age_mean_imputed']=income_missing['age'].fillna(mean_age)"
      ]
    },
    {
      "cell_type": "code",
      "execution_count": null,
      "metadata": {
        "id": "yLAhJ6uif1Go",
        "outputId": "2cb2fc96-ca25-42b5-bc3f-b659e66b21d3",
        "colab": {
          "base_uri": "https://localhost:8080/",
          "height": 545
        }
      },
      "outputs": [
        {
          "output_type": "display_data",
          "data": {
            "text/plain": [
              "<Figure size 1152x648 with 2 Axes>"
            ],
            "image/png": "[encoded data removed]"
          },
          "metadata": {}
        }
      ],
      "source": [
        "compare_histograms(imputed_column = income_missing['age_mean_imputed'],\n",
        "                   original_column = income['age'],\n",
        "                   x_label = 'Age',\n",
        "                   y_label = 'Frequency')"
      ]
    },
    {
      "cell_type": "markdown",
      "metadata": {
        "id": "rkq9ONRZf1Gp"
      },
      "source": [
        "We are underestimating the variance here.\n",
        "\n",
        "\n",
        "Why is this a bad thing?\n",
        "- If we underestimate variance in a confidence interval, our confidence interval gets smaller for the same level of confidence!\n",
        "    - Our results artificially look more precise... but only because we imputed the mean!\n",
        "- If we underestimate the variance in a hypothesis test, our p-value will artificially get smaller.\n",
        "    - Our p-value may look significant... but only because we imputed the mean!"
      ]
    },
    {
      "cell_type": "markdown",
      "metadata": {
        "id": "qZyc2woGf1Gp"
      },
      "source": [
        "#### Median Imputation"
      ]
    },
    {
      "cell_type": "code",
      "execution_count": null,
      "metadata": {
        "id": "if_B56tgf1Gp"
      },
      "outputs": [],
      "source": [
        "# Let's impute missing values in the age column with the median\n",
        "med_age = np.median(income_missing['age'].dropna())"
      ]
    },
    {
      "cell_type": "code",
      "execution_count": null,
      "metadata": {
        "id": "M7toMyRhf1Gp",
        "outputId": "dfceaa1d-82e2-4ca7-850a-3472601e902b",
        "colab": {
          "base_uri": "https://localhost:8080/"
        }
      },
      "outputs": [
        {
          "output_type": "execute_result",
          "data": {
            "text/plain": [
              "40.5"
            ]
          },
          "metadata": {},
          "execution_count": 14
        }
      ],
      "source": [
        "med_age"
      ]
    },
    {
      "cell_type": "code",
      "execution_count": null,
      "metadata": {
        "id": "yt5ENra8f1Gq"
      },
      "outputs": [],
      "source": [
        "income_missing['age_med_imputed']=income_missing['age'].fillna(med_age)"
      ]
    },
    {
      "cell_type": "code",
      "execution_count": null,
      "metadata": {
        "id": "Kva6nzwnf1Gq",
        "outputId": "6fd413c9-6dc7-4c5e-c19e-e8a2c6a4f5d5",
        "colab": {
          "base_uri": "https://localhost:8080/",
          "height": 545
        }
      },
      "outputs": [
        {
          "output_type": "display_data",
          "data": {
            "text/plain": [
              "<Figure size 1152x648 with 2 Axes>"
            ],
            "image/png": "[encoded data removed]"
          },
          "metadata": {}
        }
      ],
      "source": [
        "compare_histograms(imputed_column = income_missing['age_med_imputed'],\n",
        "                   original_column = income['age'],\n",
        "                   x_label = 'Age',\n",
        "                   y_label = 'Frequency')"
      ]
    },
    {
      "cell_type": "markdown",
      "metadata": {
        "id": "W7N7mEnsf1Gq"
      },
      "source": [
        "#### Mode Imputation"
      ]
    },
    {
      "cell_type": "code",
      "execution_count": null,
      "metadata": {
        "id": "OTRPpYE5f1Gr"
      },
      "outputs": [],
      "source": [
        "# Let's impute missing values in the age column with the mode\n",
        "mode_age = statistics.mode(income_missing['age'])"
      ]
    },
    {
      "cell_type": "code",
      "execution_count": null,
      "metadata": {
        "id": "He7gum9gf1Gr",
        "outputId": "4edabaac-cabe-48a4-9ae1-c49b0dc09f0b",
        "colab": {
          "base_uri": "https://localhost:8080/"
        }
      },
      "outputs": [
        {
          "output_type": "execute_result",
          "data": {
            "text/plain": [
              "44.0"
            ]
          },
          "metadata": {},
          "execution_count": 18
        }
      ],
      "source": [
        "mode_age"
      ]
    },
    {
      "cell_type": "code",
      "execution_count": null,
      "metadata": {
        "id": "aR_XzfZ9f1Gr"
      },
      "outputs": [],
      "source": [
        "income_missing['age_mode_imputed']=income_missing['age'].fillna(mode_age)"
      ]
    },
    {
      "cell_type": "code",
      "execution_count": null,
      "metadata": {
        "id": "DkQBTKnMf1Gr",
        "outputId": "baee3591-e7f7-4ecb-e430-607921995029",
        "colab": {
          "base_uri": "https://localhost:8080/",
          "height": 545
        }
      },
      "outputs": [
        {
          "output_type": "display_data",
          "data": {
            "text/plain": [
              "<Figure size 1152x648 with 2 Axes>"
            ],
            "image/png": "[encoded data removed]"
          },
          "metadata": {}
        }
      ],
      "source": [
        "compare_histograms(imputed_column = income_missing['age_mode_imputed'],\n",
        "                   original_column = income['age'],\n",
        "                   x_label = 'Age',\n",
        "                   y_label = 'Frequency')"
      ]
    },
    {
      "cell_type": "markdown",
      "metadata": {
        "id": "T6XMV2RRf1Gs"
      },
      "source": [
        "### Make your life easier -> Simple Imputer in sklearn\n",
        "\n",
        "Note: Train-test-split BEFORE doing this if you are going to model later to avoid data leakage!\n",
        "\n",
        "Documentation [here](https://scikit-learn.org/stable/modules/generated/sklearn.impute.SimpleImputer.html#sklearn.impute.SimpleImputer)."
      ]
    },
    {
      "cell_type": "code",
      "execution_count": null,
      "metadata": {
        "id": "QMvFyq5zf1Gs"
      },
      "outputs": [],
      "source": [
        "# import simple imputer\n",
        "from sklearn.impute import SimpleImputer"
      ]
    },
    {
      "cell_type": "code",
      "execution_count": null,
      "metadata": {
        "id": "V7y2PX94f1Gs"
      },
      "outputs": [],
      "source": [
        "# re-load data\n",
        "income_missing = pd.read_csv('/content/income_missing.csv') "
      ]
    },
    {
      "cell_type": "code",
      "execution_count": null,
      "metadata": {
        "scrolled": true,
        "id": "vRTlCH5Wf1Gs"
      },
      "outputs": [],
      "source": [
        "imp = SimpleImputer(strategy = 'mean')\n",
        "imp_income_missing = imp.fit_transform(income_missing)\n"
      ]
    },
    {
      "cell_type": "code",
      "execution_count": null,
      "metadata": {
        "id": "ducNrLCKf1Gs",
        "outputId": "320c0487-d233-490e-cd42-3e8381e006f2",
        "colab": {
          "base_uri": "https://localhost:8080/",
          "height": 363
        }
      },
      "outputs": [
        {
          "output_type": "execute_result",
          "data": {
            "text/plain": [
              "   children   age  partnered        income\n",
              "0       1.0  35.0        1.0  56531.361287\n",
              "1       2.0  58.0        1.0  93026.182530\n",
              "2       0.0  49.0        1.0  42693.010819\n",
              "3       0.0  44.0        1.0  83680.128218\n",
              "4       1.0  26.0        0.0  28845.520835\n",
              "5       1.0  26.0        1.0  24898.840890\n",
              "6       2.0  22.0        1.0  67152.008080\n",
              "7       2.0  55.0        1.0  35047.373500\n",
              "8       5.0  44.0        1.0  17245.869659\n",
              "9       1.0  39.5        1.0  75749.529176"
            ],
            "text/html": [
              "\n",
              "  <div id=\"df-4652a839-47c6-4453-8563-f0f00da6023d\">\n",
              "    <div class=\"colab-df-container\">\n",
              "      <div>\n",
              "<style scoped>\n",
              "    .dataframe tbody tr th:only-of-type {\n",
              "        vertical-align: middle;\n",
              "    }\n",
              "\n",
              "    .dataframe tbody tr th {\n",
              "        vertical-align: top;\n",
              "    }\n",
              "\n",
              "    .dataframe thead th {\n",
              "        text-align: right;\n",
              "    }\n",
              "</style>\n",
              "<table border=\"1\" class=\"dataframe\">\n",
              "  <thead>\n",
              "    <tr style=\"text-align: right;\">\n",
              "      <th></th>\n",
              "      <th>children</th>\n",
              "      <th>age</th>\n",
              "      <th>partnered</th>\n",
              "      <th>income</th>\n",
              "    </tr>\n",
              "  </thead>\n",
              "  <tbody>\n",
              "    <tr>\n",
              "      <th>0</th>\n",
              "      <td>1.0</td>\n",
              "      <td>35.0</td>\n",
              "      <td>1.0</td>\n",
              "      <td>56531.361287</td>\n",
              "    </tr>\n",
              "    <tr>\n",
              "      <th>1</th>\n",
              "      <td>2.0</td>\n",
              "      <td>58.0</td>\n",
              "      <td>1.0</td>\n",
              "      <td>93026.182530</td>\n",
              "    </tr>\n",
              "    <tr>\n",
              "      <th>2</th>\n",
              "      <td>0.0</td>\n",
              "      <td>49.0</td>\n",
              "      <td>1.0</td>\n",
              "      <td>42693.010819</td>\n",
              "    </tr>\n",
              "    <tr>\n",
              "      <th>3</th>\n",
              "      <td>0.0</td>\n",
              "      <td>44.0</td>\n",
              "      <td>1.0</td>\n",
              "      <td>83680.128218</td>\n",
              "    </tr>\n",
              "    <tr>\n",
              "      <th>4</th>\n",
              "      <td>1.0</td>\n",
              "      <td>26.0</td>\n",
              "      <td>0.0</td>\n",
              "      <td>28845.520835</td>\n",
              "    </tr>\n",
              "    <tr>\n",
              "      <th>5</th>\n",
              "      <td>1.0</td>\n",
              "      <td>26.0</td>\n",
              "      <td>1.0</td>\n",
              "      <td>24898.840890</td>\n",
              "    </tr>\n",
              "    <tr>\n",
              "      <th>6</th>\n",
              "      <td>2.0</td>\n",
              "      <td>22.0</td>\n",
              "      <td>1.0</td>\n",
              "      <td>67152.008080</td>\n",
              "    </tr>\n",
              "    <tr>\n",
              "      <th>7</th>\n",
              "      <td>2.0</td>\n",
              "      <td>55.0</td>\n",
              "      <td>1.0</td>\n",
              "      <td>35047.373500</td>\n",
              "    </tr>\n",
              "    <tr>\n",
              "      <th>8</th>\n",
              "      <td>5.0</td>\n",
              "      <td>44.0</td>\n",
              "      <td>1.0</td>\n",
              "      <td>17245.869659</td>\n",
              "    </tr>\n",
              "    <tr>\n",
              "      <th>9</th>\n",
              "      <td>1.0</td>\n",
              "      <td>39.5</td>\n",
              "      <td>1.0</td>\n",
              "      <td>75749.529176</td>\n",
              "    </tr>\n",
              "  </tbody>\n",
              "</table>\n",
              "</div>\n",
              "      <button class=\"colab-df-convert\" onclick=\"convertToInteractive('df-4652a839-47c6-4453-8563-f0f00da6023d')\"\n",
              "              title=\"Convert this dataframe to an interactive table.\"\n",
              "              style=\"display:none;\">\n",
              "        \n",
              "  <svg xmlns=\"http://www.w3.org/2000/svg\" height=\"24px\"viewBox=\"0 0 24 24\"\n",
              "       width=\"24px\">\n",
              "    <path d=\"M0 0h24v24H0V0z\" fill=\"none\"/>\n",
              "    <path d=\"M18.56 5.44l.94 2.06.94-2.06 2.06-.94-2.06-.94-.94-2.06-.94 2.06-2.06.94zm-11 1L8.5 8.5l.94-2.06 2.06-.94-2.06-.94L8.5 2.5l-.94 2.06-2.06.94zm10 10l.94 2.06.94-2.06 2.06-.94-2.06-.94-.94-2.06-.94 2.06-2.06.94z\"/><path d=\"M17.41 7.96l-1.37-1.37c-.4-.4-.92-.59-1.43-.59-.52 0-1.04.2-1.43.59L10.3 9.45l-7.72 7.72c-.78.78-.78 2.05 0 2.83L4 21.41c.39.39.9.59 1.41.59.51 0 1.02-.2 1.41-.59l7.78-7.78 2.81-2.81c.8-.78.8-2.07 0-2.86zM5.41 20L4 18.59l7.72-7.72 1.47 1.35L5.41 20z\"/>\n",
              "  </svg>\n",
              "      </button>\n",
              "      \n",
              "  <style>\n",
              "    .colab-df-container {\n",
              "      display:flex;\n",
              "      flex-wrap:wrap;\n",
              "      gap: 12px;\n",
              "    }\n",
              "\n",
              "    .colab-df-convert {\n",
              "      background-color: #E8F0FE;\n",
              "      border: none;\n",
              "      border-radius: 50%;\n",
              "      cursor: pointer;\n",
              "      display: none;\n",
              "      fill: #1967D2;\n",
              "      height: 32px;\n",
              "      padding: 0 0 0 0;\n",
              "      width: 32px;\n",
              "    }\n",
              "\n",
              "    .colab-df-convert:hover {\n",
              "      background-color: #E2EBFA;\n",
              "      box-shadow: 0px 1px 2px rgba(60, 64, 67, 0.3), 0px 1px 3px 1px rgba(60, 64, 67, 0.15);\n",
              "      fill: #174EA6;\n",
              "    }\n",
              "\n",
              "    [theme=dark] .colab-df-convert {\n",
              "      background-color: #3B4455;\n",
              "      fill: #D2E3FC;\n",
              "    }\n",
              "\n",
              "    [theme=dark] .colab-df-convert:hover {\n",
              "      background-color: #434B5C;\n",
              "      box-shadow: 0px 1px 3px 1px rgba(0, 0, 0, 0.15);\n",
              "      filter: drop-shadow(0px 1px 2px rgba(0, 0, 0, 0.3));\n",
              "      fill: #FFFFFF;\n",
              "    }\n",
              "  </style>\n",
              "\n",
              "      <script>\n",
              "        const buttonEl =\n",
              "          document.querySelector('#df-4652a839-47c6-4453-8563-f0f00da6023d button.colab-df-convert');\n",
              "        buttonEl.style.display =\n",
              "          google.colab.kernel.accessAllowed ? 'block' : 'none';\n",
              "\n",
              "        async function convertToInteractive(key) {\n",
              "          const element = document.querySelector('#df-4652a839-47c6-4453-8563-f0f00da6023d');\n",
              "          const dataTable =\n",
              "            await google.colab.kernel.invokeFunction('convertToInteractive',\n",
              "                                                     [key], {});\n",
              "          if (!dataTable) return;\n",
              "\n",
              "          const docLinkHtml = 'Like what you see? Visit the ' +\n",
              "            '<a target=\"_blank\" href=https://colab.research.google.com/notebooks/data_table.ipynb>data table notebook</a>'\n",
              "            + ' to learn more about interactive tables.';\n",
              "          element.innerHTML = '';\n",
              "          dataTable['output_type'] = 'display_data';\n",
              "          await google.colab.output.renderOutput(dataTable, element);\n",
              "          const docLink = document.createElement('div');\n",
              "          docLink.innerHTML = docLinkHtml;\n",
              "          element.appendChild(docLink);\n",
              "        }\n",
              "      </script>\n",
              "    </div>\n",
              "  </div>\n",
              "  "
            ]
          },
          "metadata": {},
          "execution_count": 24
        }
      ],
      "source": [
        "pd.DataFrame(imp_income_missing, columns = income_missing.columns).head(10)"
      ]
    },
    {
      "cell_type": "markdown",
      "metadata": {
        "id": "m_pHXyhXf1Gs"
      },
      "source": [
        "### Method 3: Single Regression Imputation\n",
        "\n",
        "Train a model on the rows of your data that are fully observed.\n",
        "- Suppose I’m missing income for some people, but have observed age and highest level of education for everybody.\n",
        "- X = age and highest level of education, Y = income.\n",
        "- Fit a model.\n",
        "- For any “NA” value in a given column, replace “NA” with predicted value from that model.\n",
        "\n",
        "**Pros**:\n",
        "- Seems reasonable\n",
        "- A little more nuanced than mean/median/mode imputation\n",
        "\n",
        "**Cons**:\n",
        "- Still distorts histogram\n",
        "- Underestimates variance\n",
        "- Should only be considered if data is MCAR or MAR."
      ]
    },
    {
      "cell_type": "code",
      "execution_count": null,
      "metadata": {
        "id": "vo_HQwd7f1Gt"
      },
      "outputs": [],
      "source": [
        "# re-load data\n",
        "income_missing = pd.read_csv('/content/income_missing.csv') "
      ]
    },
    {
      "cell_type": "code",
      "execution_count": null,
      "metadata": {
        "id": "KF_-zz7Qf1Gt"
      },
      "outputs": [],
      "source": [
        "# Import linear regression\n",
        "from sklearn.linear_model import LinearRegression"
      ]
    },
    {
      "cell_type": "code",
      "execution_count": null,
      "metadata": {
        "id": "9E7GnyYZf1Gt"
      },
      "outputs": [],
      "source": [
        "# Save new dataframe without any missing values\n",
        "\n",
        "income_new = income_missing.dropna()"
      ]
    },
    {
      "cell_type": "code",
      "execution_count": null,
      "metadata": {
        "id": "4sUsVeg5f1Gt"
      },
      "outputs": [],
      "source": []
    },
    {
      "cell_type": "code",
      "execution_count": null,
      "metadata": {
        "id": "jY_zRwRWf1Gu",
        "outputId": "18e5c0eb-6ac3-472b-cfbb-23ecfd258d64",
        "colab": {
          "base_uri": "https://localhost:8080/"
        }
      },
      "outputs": [
        {
          "output_type": "execute_result",
          "data": {
            "text/plain": [
              "LinearRegression()"
            ]
          },
          "metadata": {},
          "execution_count": 28
        }
      ],
      "source": [
        "# Set up model\n",
        "X_columns = income_new[['children','partnered','income']]\n",
        "impute_column = income_new['age']\n",
        "\n",
        "# Instantiate\n",
        "\n",
        "model = LinearRegression()\n",
        "\n",
        "# Fit\n",
        "\n",
        "model.fit(X_columns,impute_column)"
      ]
    },
    {
      "cell_type": "code",
      "execution_count": null,
      "metadata": {
        "id": "tIPrRBmmf1Gu"
      },
      "outputs": [],
      "source": [
        "# save indices of missing values\n",
        "missing_idx = income_missing.index[income_missing['age'].isnull()]"
      ]
    },
    {
      "cell_type": "code",
      "execution_count": null,
      "metadata": {
        "id": "O-zulZFWf1Gu"
      },
      "outputs": [],
      "source": [
        "# Impute missing values with the prediciton from the model\n",
        "income_missing['age_regression_imputed'] = [income_missing.loc[i,'age'] if i not in missing_idx\n",
        "     else model.predict(pd.DataFrame(income_missing.loc[i,['children', 'partnered', 'income']]).T)[0]\n",
        "     for i in range(income_missing.shape[0])]"
      ]
    },
    {
      "cell_type": "code",
      "execution_count": null,
      "metadata": {
        "id": "pBWX1TKVf1Gu",
        "outputId": "f64215d2-9179-4015-ce1f-8ac5eb7348e9",
        "colab": {
          "base_uri": "https://localhost:8080/",
          "height": 545
        }
      },
      "outputs": [
        {
          "output_type": "display_data",
          "data": {
            "text/plain": [
              "<Figure size 1152x648 with 2 Axes>"
            ],
            "image/png": "[encoded data removed]"
          },
          "metadata": {}
        }
      ],
      "source": [
        "compare_histograms(imputed_column = income_missing['age_regression_imputed'],\n",
        "                   original_column = income['age'],\n",
        "                   x_label = 'Age',\n",
        "                   y_label = 'Frequency')"
      ]
    },
    {
      "cell_type": "markdown",
      "metadata": {
        "id": "QBxJgxvLf1Gu"
      },
      "source": [
        "![](../images/deterministic_imputation.png)\n",
        "\n",
        "[source](http://www.stat.columbia.edu/~gelman/arm/missing.pdf)"
      ]
    },
    {
      "cell_type": "markdown",
      "metadata": {
        "id": "40_yGoB0f1Gu"
      },
      "source": [
        "### Make your life easier -> Iterative Imputer in sklearn\n",
        "\n",
        "Documentation [here](https://scikit-learn.org/stable/modules/generated/sklearn.impute.IterativeImputer.html#sklearn.impute.IterativeImputer).\n",
        "\n",
        "From [sklearn](https://scikit-learn.org/stable/modules/generated/sklearn.impute.IterativeImputer.html#sklearn.impute.IterativeImputer): \n",
        "> Note: This estimator is still experimental for now: the predictions and the API might change without any deprecation cycle. To use it, you need to explicitly import enable_iterative_imputer:\n",
        "\n",
        "```python\n",
        "# explicitly require this experimental feature\n",
        "from sklearn.experimental import enable_iterative_imputer  \n",
        "# now you can import normally from sklearn.impute\n",
        "from sklearn.impute import IterativeImputer\n",
        "```\n",
        "\n",
        "Again, make sure to fit this only on training data if you are using this for a model (you can transform testing data)."
      ]
    },
    {
      "cell_type": "code",
      "execution_count": null,
      "metadata": {
        "id": "6Nd3dIpPf1Gv"
      },
      "outputs": [],
      "source": [
        "# imports\n",
        "from sklearn.experimental import enable_iterative_imputer \n",
        "from sklearn.impute import IterativeImputer\n",
        "from sklearn.linear_model import LinearRegression"
      ]
    },
    {
      "cell_type": "code",
      "execution_count": null,
      "metadata": {
        "id": "JWRBE32Af1Gv"
      },
      "outputs": [],
      "source": [
        "# re-load data\n",
        "income_missing = pd.read_csv('/content/income_missing.csv') "
      ]
    },
    {
      "cell_type": "code",
      "execution_count": null,
      "metadata": {
        "scrolled": false,
        "id": "2WvUs9EMf1Gv"
      },
      "outputs": [],
      "source": [
        "it_imp = IterativeImputer(estimator = LinearRegression())\n",
        "it_imp_income_missing = it_imp.fit_transform(income_missing)\n",
        "it_imp_income_missing = pd.DataFrame(it_imp_income_missing, columns = income_missing.columns)"
      ]
    },
    {
      "cell_type": "code",
      "execution_count": null,
      "metadata": {
        "id": "BE6APjOrf1Gv",
        "outputId": "12f23fe7-ee27-4a5f-dec4-9ca5fe293cfc",
        "colab": {
          "base_uri": "https://localhost:8080/",
          "height": 545
        }
      },
      "outputs": [
        {
          "output_type": "display_data",
          "data": {
            "text/plain": [
              "<Figure size 1152x648 with 2 Axes>"
            ],
            "image/png": "[encoded data removed]"
          },
          "metadata": {}
        }
      ],
      "source": [
        "compare_histograms(imputed_column = it_imp_income_missing['age'],\n",
        "                   original_column = income['age'],\n",
        "                   x_label = 'Age',\n",
        "                   y_label = 'Frequency')"
      ]
    },
    {
      "cell_type": "code",
      "execution_count": null,
      "metadata": {
        "id": "D_43wopBf1Gw"
      },
      "outputs": [],
      "source": [
        "# try it with the defaul model\n",
        "income_missing = pd.read_csv('/content/income_missing.csv') \n",
        "it_imp = IterativeImputer()\n",
        "it_imp_income_missing = it_imp.fit_transform(income_missing)\n",
        "it_imp_income_missing = pd.DataFrame(it_imp_income_missing, columns = income_missing.columns)\n"
      ]
    },
    {
      "cell_type": "code",
      "execution_count": null,
      "metadata": {
        "id": "cKHiZxCXf1Gw",
        "outputId": "9dc39f68-8f93-4892-fbd1-1c06d5bbbf51",
        "colab": {
          "base_uri": "https://localhost:8080/",
          "height": 545
        }
      },
      "outputs": [
        {
          "output_type": "display_data",
          "data": {
            "text/plain": [
              "<Figure size 1152x648 with 2 Axes>"
            ],
            "image/png": "[encoded data removed]"
          },
          "metadata": {}
        }
      ],
      "source": [
        "compare_histograms(imputed_column = it_imp_income_missing['age'],\n",
        "                   original_column = income['age'],\n",
        "                   x_label = 'Age',\n",
        "                   y_label = 'Frequency')"
      ]
    },
    {
      "cell_type": "markdown",
      "metadata": {
        "id": "r7sxQnxVf1Gw"
      },
      "source": [
        "### Method 4: Nearest Neighbors Imputation\n",
        "\n",
        "Documentation [here](https://scikit-learn.org/stable/modules/generated/sklearn.impute.KNNImputer.html#sklearn.impute.KNNImputer)."
      ]
    },
    {
      "cell_type": "code",
      "execution_count": null,
      "metadata": {
        "id": "qIoWnPZWf1Gw"
      },
      "outputs": [],
      "source": [
        "# import it\n",
        "from sklearn.impute import KNNImputer"
      ]
    },
    {
      "cell_type": "code",
      "execution_count": null,
      "metadata": {
        "id": "KtzjsXqhf1Gw"
      },
      "outputs": [],
      "source": [
        "# re-load data\n",
        "income_missing = pd.read_csv('/content/income_missing.csv') "
      ]
    },
    {
      "cell_type": "code",
      "execution_count": null,
      "metadata": {
        "id": "tE4_Izt2f1Gx"
      },
      "outputs": [],
      "source": [
        "knn_imp = KNNImputer()\n",
        "knn_imp_income_missing = knn_imp.fit_transform(income_missing)\n",
        "knn_imp_income_missing = pd.DataFrame(knn_imp_income_missing, columns = income_missing.columns)"
      ]
    },
    {
      "cell_type": "code",
      "execution_count": null,
      "metadata": {
        "id": "mRGjFg60f1Gx",
        "outputId": "2a67febb-cb3d-43a9-fef7-586d87b2516f",
        "colab": {
          "base_uri": "https://localhost:8080/",
          "height": 545
        }
      },
      "outputs": [
        {
          "output_type": "display_data",
          "data": {
            "text/plain": [
              "<Figure size 1152x648 with 2 Axes>"
            ],
            "image/png": "[encoded data removed]"
          },
          "metadata": {}
        }
      ],
      "source": [
        "compare_histograms(imputed_column = knn_imp_income_missing['age'],\n",
        "                   original_column = income['age'],\n",
        "                   x_label = 'Age',\n",
        "                   y_label = 'Frequency')"
      ]
    },
    {
      "cell_type": "markdown",
      "metadata": {
        "id": "rWDO9FgEf1Gx"
      },
      "source": [
        "### Method 5: Multiple Imputation\n",
        "\n",
        "If we want to account for the randomness in our data, we can fill in missing values with some amount of randomness/uncertainty.\n",
        "\n",
        "Replacing an NA with one value treats things like we know the true value.\n",
        "\n",
        "Therefore, we need to impute multiple times.\n",
        "- We will make multiple copies (say 10) of our dataset.\n",
        "- We will use [random regression imputation](https://statisticsglobe.com/regression-imputation-stochastic-vs-deterministic/) to generate one value for each NA in each dataset.\n",
        "- Once each of our 10 datasets are complete, we will do our “final model” or “final analysis” on each dataset.\n",
        "- We will then combine the results of our multiple models together, just like we aggregate results in an ensemble model.\n",
        "\n",
        "![](../images/proper_imputation.png)\n",
        "\n",
        "\n",
        "If you’re **generating predictions**, you can just average your predictions together in a regression problem or select the plurality class in a classification problem.\n",
        "\n",
        "If your goal is to do **inference** (e.g. understand how X affects Y) and are fitting a linear model to each dataset, then you get a slope and y-intercept for each model.\n",
        "- There are a set of tools, called Rubin’s rules, that will allow you to take the slopes and y-intercepts from each model and combine them together.\n",
        "- Check out documentation in the repo if interested!\n",
        "\n",
        "[IterativeImputer](https://scikit-learn.org/stable/modules/impute.html#multiple-vs-single-imputation) in sklearn can help with this!"
      ]
    },
    {
      "cell_type": "markdown",
      "metadata": {
        "id": "VUsCz63zf1Gx"
      },
      "source": [
        "### Missing Indicator Column\n",
        "\n",
        "We can add a column about which values were imputed/missing and use that as a feature in our model. This can help when there is a pattern in what is missing and our target and may help our model.\n",
        "\n",
        "See another example of this [here](https://nbviewer.jupyter.org/github/justmarkham/scikit-learn-tips/blob/master/notebooks/09_add_missing_indicator.ipynb).\n",
        "\n",
        "There are several ways we can do this:\n",
        "1. Set `add_indicator = True` in Simple Imputer or Iterative Imputer if you are using these:\n",
        "```python\n",
        "imputer = SimpleImputer(add_indicator=True)\n",
        "imputer.fit_transform(X)\n",
        "```\n",
        "2. Use the `MissingIndicator` transformer in [sklearn](https://scikit-learn.org/stable/modules/generated/sklearn.impute.MissingIndicator.html#sklearn.impute.MissingIndicator)."
      ]
    },
    {
      "cell_type": "code",
      "execution_count": null,
      "metadata": {
        "id": "caT7BRmMf1Gx"
      },
      "outputs": [],
      "source": [
        "# re-load data\n",
        "income_missing = pd.read_csv('/content/income_missing.csv') "
      ]
    },
    {
      "cell_type": "code",
      "execution_count": null,
      "metadata": {
        "id": "x4PkXoEUf1Gx"
      },
      "outputs": [],
      "source": []
    },
    {
      "cell_type": "markdown",
      "metadata": {
        "id": "JQsn3G-af1Gy"
      },
      "source": [
        "---\n",
        "### To the slides!\n",
        "---"
      ]
    },
    {
      "cell_type": "markdown",
      "metadata": {
        "id": "1AErzXiQf1Gy"
      },
      "source": [
        "### BONUS: Pattern Submodel Approach\n",
        "\n",
        "Big Picture: We will break our dataset into subsets based on missingness pattern. We will then build one model on each subset, creating many different models.\n",
        "\n",
        "![](./images/pattern_submodel.jpeg)\n",
        "\n",
        "[image source](https://opendatascience.com/data-imputation-beyond-mean-median-and-mode/)\n",
        "\n",
        "**Pros**:\n",
        "- The pattern submodel method will outperform imputation methods when your data are NMAR, and will perform about as well as imputation methods when your data are MCAR or MAR.\n",
        "- You can generate predictions for test observations containing missing data.\n",
        "- It does not require missingness assumptions!\n",
        "\n",
        "**Cons**:\n",
        "- This is not a well-understood method for inference.\n",
        "\n",
        "Read more about this method [here](https://academic.oup.com/biostatistics/article/21/2/236/5092384).\n",
        "\n",
        "See an example of this [here](https://github.com/sarahmercaldo/MissingDataAndPrediction) - note that this example is done in R."
      ]
    }
  ],
  "metadata": {
    "kernelspec": {
      "display_name": "Python 3 (ipykernel)",
      "language": "python",
      "name": "python3"
    },
    "language_info": {
      "codemirror_mode": {
        "name": "ipython",
        "version": 3
      },
      "file_extension": ".py",
      "mimetype": "text/x-python",
      "name": "python",
      "nbconvert_exporter": "python",
      "pygments_lexer": "ipython3",
      "version": "3.9.7"
    },
    "colab": {
      "provenance": []
    }
  },
  "nbformat": 4,
  "nbformat_minor": 0
}