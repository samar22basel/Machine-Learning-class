{
  "cells": [
    {
      "cell_type": "markdown",
      "metadata": {
        "id": "XjhxTTViBtWX"
      },
      "source": [
        "\n",
        "\n",
        "# Hyperparameters, GridSearch, and Pipelines\n",
        "\n",
        "\n",
        "---\n",
        "\n",
        "![](https://snag.gy/aYcCt2.jpg)\n",
        "\n",
        "### Learning Objectives\n",
        "- Describe what the terms hyperparameters, GridSearch, and pipeline mean.\n",
        "- Apply `sklearn`'s `GridSearchCV` object.\n",
        "- Use attributes of the GridSearch object.\n",
        "- Describe the pitfalls of searching large hyperparameter spaces.\n",
        "- Build pipelines."
      ]
    },
    {
      "cell_type": "code",
      "execution_count": null,
      "metadata": {
        "id": "wwzj0GxlBtWb"
      },
      "outputs": [],
      "source": [
        "# imports\n",
        "\n",
        "import numpy as np\n",
        "import pandas as pd\n",
        "import matplotlib.pyplot as plt\n",
        "import seaborn as sns\n",
        "\n",
        "from sklearn.model_selection import train_test_split, cross_val_score, GridSearchCV\n",
        "\n",
        "from sklearn.preprocessing import StandardScaler\n",
        "from sklearn.neighbors import KNeighborsClassifier\n",
        "from sklearn.pipeline import Pipeline"
      ]
    },
    {
      "cell_type": "code",
      "execution_count": null,
      "metadata": {
        "id": "uqb8_WsJBtWd",
        "outputId": "d33332fe-f45e-49ed-9136-39d4ef7b4706"
      },
      "outputs": [
        {
          "data": {
            "text/html": [
              "<div>\n",
              "<style scoped>\n",
              "    .dataframe tbody tr th:only-of-type {\n",
              "        vertical-align: middle;\n",
              "    }\n",
              "\n",
              "    .dataframe tbody tr th {\n",
              "        vertical-align: top;\n",
              "    }\n",
              "\n",
              "    .dataframe thead th {\n",
              "        text-align: right;\n",
              "    }\n",
              "</style>\n",
              "<table border=\"1\" class=\"dataframe\">\n",
              "  <thead>\n",
              "    <tr style=\"text-align: right;\">\n",
              "      <th></th>\n",
              "      <th>country</th>\n",
              "      <th>region</th>\n",
              "      <th>lifeMale</th>\n",
              "      <th>lifeFemale</th>\n",
              "      <th>infantMortality</th>\n",
              "      <th>GDPperCapita</th>\n",
              "    </tr>\n",
              "  </thead>\n",
              "  <tbody>\n",
              "    <tr>\n",
              "      <th>0</th>\n",
              "      <td>Afghanistan</td>\n",
              "      <td>Asia</td>\n",
              "      <td>45.0</td>\n",
              "      <td>46.0</td>\n",
              "      <td>154</td>\n",
              "      <td>2848</td>\n",
              "    </tr>\n",
              "    <tr>\n",
              "      <th>1</th>\n",
              "      <td>Albania</td>\n",
              "      <td>Europe</td>\n",
              "      <td>68.0</td>\n",
              "      <td>74.0</td>\n",
              "      <td>32</td>\n",
              "      <td>863</td>\n",
              "    </tr>\n",
              "    <tr>\n",
              "      <th>2</th>\n",
              "      <td>Algeria</td>\n",
              "      <td>Africa</td>\n",
              "      <td>67.5</td>\n",
              "      <td>70.3</td>\n",
              "      <td>44</td>\n",
              "      <td>1531</td>\n",
              "    </tr>\n",
              "    <tr>\n",
              "      <th>3</th>\n",
              "      <td>Angola</td>\n",
              "      <td>Africa</td>\n",
              "      <td>44.9</td>\n",
              "      <td>48.1</td>\n",
              "      <td>124</td>\n",
              "      <td>355</td>\n",
              "    </tr>\n",
              "    <tr>\n",
              "      <th>4</th>\n",
              "      <td>Argentina</td>\n",
              "      <td>America</td>\n",
              "      <td>69.6</td>\n",
              "      <td>76.8</td>\n",
              "      <td>22</td>\n",
              "      <td>8055</td>\n",
              "    </tr>\n",
              "  </tbody>\n",
              "</table>\n",
              "</div>"
            ],
            "text/plain": [
              "       country   region  lifeMale  lifeFemale  infantMortality  GDPperCapita\n",
              "0  Afghanistan     Asia      45.0        46.0              154          2848\n",
              "1      Albania   Europe      68.0        74.0               32           863\n",
              "2      Algeria   Africa      67.5        70.3               44          1531\n",
              "3       Angola   Africa      44.9        48.1              124           355\n",
              "4    Argentina  America      69.6        76.8               22          8055"
            ]
          },
          "execution_count": 2,
          "metadata": {},
          "output_type": "execute_result"
        }
      ],
      "source": [
        "# Read in data.\n",
        "un_data = pd.read_csv('./data/UNdata.csv')\n",
        "\n",
        "# Examine first five rows.\n",
        "un_data.head()"
      ]
    },
    {
      "cell_type": "code",
      "execution_count": null,
      "metadata": {
        "id": "7Cw_2GfEBtWe",
        "outputId": "a1cf7be3-0141-4dc9-84a8-c1962e09681b"
      },
      "outputs": [
        {
          "data": {
            "text/html": [
              "<div>\n",
              "<style scoped>\n",
              "    .dataframe tbody tr th:only-of-type {\n",
              "        vertical-align: middle;\n",
              "    }\n",
              "\n",
              "    .dataframe tbody tr th {\n",
              "        vertical-align: top;\n",
              "    }\n",
              "\n",
              "    .dataframe thead th {\n",
              "        text-align: right;\n",
              "    }\n",
              "</style>\n",
              "<table border=\"1\" class=\"dataframe\">\n",
              "  <thead>\n",
              "    <tr style=\"text-align: right;\">\n",
              "      <th></th>\n",
              "      <th>country</th>\n",
              "      <th>region</th>\n",
              "      <th>lifeMale</th>\n",
              "      <th>lifeFemale</th>\n",
              "      <th>infantMortality</th>\n",
              "      <th>GDPperCapita</th>\n",
              "    </tr>\n",
              "  </thead>\n",
              "  <tbody>\n",
              "    <tr>\n",
              "      <th>151</th>\n",
              "      <td>Singapore</td>\n",
              "      <td>Asia</td>\n",
              "      <td>75.1</td>\n",
              "      <td>79.5</td>\n",
              "      <td>5</td>\n",
              "      <td>25581</td>\n",
              "    </tr>\n",
              "  </tbody>\n",
              "</table>\n",
              "</div>"
            ],
            "text/plain": [
              "       country region  lifeMale  lifeFemale  infantMortality  GDPperCapita\n",
              "151  Singapore   Asia      75.1        79.5                5         25581"
            ]
          },
          "execution_count": 3,
          "metadata": {},
          "output_type": "execute_result"
        }
      ],
      "source": [
        "un_data[un_data['country']=='Singapore']"
      ]
    },
    {
      "cell_type": "code",
      "execution_count": null,
      "metadata": {
        "id": "5W-0tQNkBtWe",
        "outputId": "dd869118-18dc-42f1-e0a1-0026ef3d35b8"
      },
      "outputs": [
        {
          "data": {
            "text/html": [
              "<div>\n",
              "<style scoped>\n",
              "    .dataframe tbody tr th:only-of-type {\n",
              "        vertical-align: middle;\n",
              "    }\n",
              "\n",
              "    .dataframe tbody tr th {\n",
              "        vertical-align: top;\n",
              "    }\n",
              "\n",
              "    .dataframe thead th {\n",
              "        text-align: right;\n",
              "    }\n",
              "</style>\n",
              "<table border=\"1\" class=\"dataframe\">\n",
              "  <thead>\n",
              "    <tr style=\"text-align: right;\">\n",
              "      <th></th>\n",
              "      <th>country</th>\n",
              "      <th>region</th>\n",
              "      <th>lifeMale</th>\n",
              "      <th>lifeFemale</th>\n",
              "      <th>infantMortality</th>\n",
              "      <th>GDPperCapita</th>\n",
              "    </tr>\n",
              "  </thead>\n",
              "  <tbody>\n",
              "    <tr>\n",
              "      <th>142</th>\n",
              "      <td>Russia</td>\n",
              "      <td>Europe</td>\n",
              "      <td>58.0</td>\n",
              "      <td>71.5</td>\n",
              "      <td>19</td>\n",
              "      <td>2451</td>\n",
              "    </tr>\n",
              "  </tbody>\n",
              "</table>\n",
              "</div>"
            ],
            "text/plain": [
              "    country  region  lifeMale  lifeFemale  infantMortality  GDPperCapita\n",
              "142  Russia  Europe      58.0        71.5               19          2451"
            ]
          },
          "execution_count": 4,
          "metadata": {},
          "output_type": "execute_result"
        }
      ],
      "source": [
        "un_data[un_data['country']=='Russia']"
      ]
    },
    {
      "cell_type": "code",
      "execution_count": null,
      "metadata": {
        "id": "PgidOVwIBtWf",
        "outputId": "762c8d58-2dfc-4c3e-d216-a7341a5a0700"
      },
      "outputs": [
        {
          "data": {
            "text/html": [
              "<div>\n",
              "<style scoped>\n",
              "    .dataframe tbody tr th:only-of-type {\n",
              "        vertical-align: middle;\n",
              "    }\n",
              "\n",
              "    .dataframe tbody tr th {\n",
              "        vertical-align: top;\n",
              "    }\n",
              "\n",
              "    .dataframe thead th {\n",
              "        text-align: right;\n",
              "    }\n",
              "</style>\n",
              "<table border=\"1\" class=\"dataframe\">\n",
              "  <thead>\n",
              "    <tr style=\"text-align: right;\">\n",
              "      <th></th>\n",
              "      <th>country</th>\n",
              "      <th>region</th>\n",
              "      <th>lifeMale</th>\n",
              "      <th>lifeFemale</th>\n",
              "      <th>infantMortality</th>\n",
              "      <th>GDPperCapita</th>\n",
              "    </tr>\n",
              "  </thead>\n",
              "  <tbody>\n",
              "    <tr>\n",
              "      <th>74</th>\n",
              "      <td>India</td>\n",
              "      <td>Asia</td>\n",
              "      <td>62.1</td>\n",
              "      <td>62.7</td>\n",
              "      <td>72</td>\n",
              "      <td>365</td>\n",
              "    </tr>\n",
              "  </tbody>\n",
              "</table>\n",
              "</div>"
            ],
            "text/plain": [
              "   country region  lifeMale  lifeFemale  infantMortality  GDPperCapita\n",
              "74   India   Asia      62.1        62.7               72           365"
            ]
          },
          "execution_count": 5,
          "metadata": {},
          "output_type": "execute_result"
        }
      ],
      "source": [
        "un_data[un_data['country']=='India']"
      ]
    },
    {
      "cell_type": "markdown",
      "metadata": {
        "id": "OQFvwHbmBtWf"
      },
      "source": [
        "## United Nations Data\n",
        "\n",
        "- `country`: the name of the nation\n",
        "- `region`: the region of the world (Africa, America, Asia, Europe, Oceania)\n",
        "- `lifeMale`: the life expectancy of males\n",
        "- `lifeFemale`: the life expectancy of females\n",
        "- `infantMortality`: the infant mortality rate (generally reported per 1,000 live births)\n",
        "- `GDPperCapita`: the Gross Domestic Product per person"
      ]
    },
    {
      "cell_type": "code",
      "execution_count": null,
      "metadata": {
        "id": "HBWkIVCHBtWg",
        "outputId": "c30ae6e0-f184-4749-9552-10ca87c1671e"
      },
      "outputs": [
        {
          "data": {
            "text/plain": [
              "country            0\n",
              "region             0\n",
              "lifeMale           0\n",
              "lifeFemale         0\n",
              "infantMortality    0\n",
              "GDPperCapita       0\n",
              "dtype: int64"
            ]
          },
          "execution_count": 6,
          "metadata": {},
          "output_type": "execute_result"
        }
      ],
      "source": [
        "# Check for missing values.\n",
        "un_data.isnull().sum()\n",
        "\n"
      ]
    },
    {
      "cell_type": "code",
      "execution_count": null,
      "metadata": {
        "id": "rfSJWQR4BtWh",
        "outputId": "f755bf01-7bf7-43fe-85c2-605cf7fa7838"
      },
      "outputs": [
        {
          "data": {
            "text/html": [
              "<div>\n",
              "<style scoped>\n",
              "    .dataframe tbody tr th:only-of-type {\n",
              "        vertical-align: middle;\n",
              "    }\n",
              "\n",
              "    .dataframe tbody tr th {\n",
              "        vertical-align: top;\n",
              "    }\n",
              "\n",
              "    .dataframe thead th {\n",
              "        text-align: right;\n",
              "    }\n",
              "</style>\n",
              "<table border=\"1\" class=\"dataframe\">\n",
              "  <thead>\n",
              "    <tr style=\"text-align: right;\">\n",
              "      <th></th>\n",
              "      <th>country</th>\n",
              "      <th>region</th>\n",
              "      <th>lifeMale</th>\n",
              "      <th>lifeFemale</th>\n",
              "      <th>infantMortality</th>\n",
              "      <th>GDPperCapita</th>\n",
              "    </tr>\n",
              "  </thead>\n",
              "  <tbody>\n",
              "    <tr>\n",
              "      <th>0</th>\n",
              "      <td>Afghanistan</td>\n",
              "      <td>Asia</td>\n",
              "      <td>45.0</td>\n",
              "      <td>46.0</td>\n",
              "      <td>154</td>\n",
              "      <td>2848</td>\n",
              "    </tr>\n",
              "    <tr>\n",
              "      <th>1</th>\n",
              "      <td>Albania</td>\n",
              "      <td>Europe</td>\n",
              "      <td>68.0</td>\n",
              "      <td>74.0</td>\n",
              "      <td>32</td>\n",
              "      <td>863</td>\n",
              "    </tr>\n",
              "    <tr>\n",
              "      <th>2</th>\n",
              "      <td>Algeria</td>\n",
              "      <td>Africa</td>\n",
              "      <td>67.5</td>\n",
              "      <td>70.3</td>\n",
              "      <td>44</td>\n",
              "      <td>1531</td>\n",
              "    </tr>\n",
              "    <tr>\n",
              "      <th>3</th>\n",
              "      <td>Angola</td>\n",
              "      <td>Africa</td>\n",
              "      <td>44.9</td>\n",
              "      <td>48.1</td>\n",
              "      <td>124</td>\n",
              "      <td>355</td>\n",
              "    </tr>\n",
              "    <tr>\n",
              "      <th>4</th>\n",
              "      <td>Argentina</td>\n",
              "      <td>America</td>\n",
              "      <td>69.6</td>\n",
              "      <td>76.8</td>\n",
              "      <td>22</td>\n",
              "      <td>8055</td>\n",
              "    </tr>\n",
              "  </tbody>\n",
              "</table>\n",
              "</div>"
            ],
            "text/plain": [
              "       country   region  lifeMale  lifeFemale  infantMortality  GDPperCapita\n",
              "0  Afghanistan     Asia      45.0        46.0              154          2848\n",
              "1      Albania   Europe      68.0        74.0               32           863\n",
              "2      Algeria   Africa      67.5        70.3               44          1531\n",
              "3       Angola   Africa      44.9        48.1              124           355\n",
              "4    Argentina  America      69.6        76.8               22          8055"
            ]
          },
          "execution_count": 7,
          "metadata": {},
          "output_type": "execute_result"
        }
      ],
      "source": [
        "un_data.head()"
      ]
    },
    {
      "cell_type": "code",
      "execution_count": null,
      "metadata": {
        "id": "DRCXlc4uBtWh"
      },
      "outputs": [],
      "source": [
        "# Set country to be the index.\n",
        "un_data.set_index('country', inplace = True)"
      ]
    },
    {
      "cell_type": "code",
      "execution_count": null,
      "metadata": {
        "id": "q0mSKkbYBtWi",
        "outputId": "6df16af7-5a11-420f-f358-765cef6c6ae0"
      },
      "outputs": [
        {
          "data": {
            "text/html": [
              "<div>\n",
              "<style scoped>\n",
              "    .dataframe tbody tr th:only-of-type {\n",
              "        vertical-align: middle;\n",
              "    }\n",
              "\n",
              "    .dataframe tbody tr th {\n",
              "        vertical-align: top;\n",
              "    }\n",
              "\n",
              "    .dataframe thead th {\n",
              "        text-align: right;\n",
              "    }\n",
              "</style>\n",
              "<table border=\"1\" class=\"dataframe\">\n",
              "  <thead>\n",
              "    <tr style=\"text-align: right;\">\n",
              "      <th></th>\n",
              "      <th>region</th>\n",
              "      <th>lifeMale</th>\n",
              "      <th>lifeFemale</th>\n",
              "      <th>infantMortality</th>\n",
              "      <th>GDPperCapita</th>\n",
              "    </tr>\n",
              "    <tr>\n",
              "      <th>country</th>\n",
              "      <th></th>\n",
              "      <th></th>\n",
              "      <th></th>\n",
              "      <th></th>\n",
              "      <th></th>\n",
              "    </tr>\n",
              "  </thead>\n",
              "  <tbody>\n",
              "    <tr>\n",
              "      <th>Afghanistan</th>\n",
              "      <td>Asia</td>\n",
              "      <td>45.0</td>\n",
              "      <td>46.0</td>\n",
              "      <td>154</td>\n",
              "      <td>2848</td>\n",
              "    </tr>\n",
              "    <tr>\n",
              "      <th>Albania</th>\n",
              "      <td>Europe</td>\n",
              "      <td>68.0</td>\n",
              "      <td>74.0</td>\n",
              "      <td>32</td>\n",
              "      <td>863</td>\n",
              "    </tr>\n",
              "    <tr>\n",
              "      <th>Algeria</th>\n",
              "      <td>Africa</td>\n",
              "      <td>67.5</td>\n",
              "      <td>70.3</td>\n",
              "      <td>44</td>\n",
              "      <td>1531</td>\n",
              "    </tr>\n",
              "    <tr>\n",
              "      <th>Angola</th>\n",
              "      <td>Africa</td>\n",
              "      <td>44.9</td>\n",
              "      <td>48.1</td>\n",
              "      <td>124</td>\n",
              "      <td>355</td>\n",
              "    </tr>\n",
              "    <tr>\n",
              "      <th>Argentina</th>\n",
              "      <td>America</td>\n",
              "      <td>69.6</td>\n",
              "      <td>76.8</td>\n",
              "      <td>22</td>\n",
              "      <td>8055</td>\n",
              "    </tr>\n",
              "  </tbody>\n",
              "</table>\n",
              "</div>"
            ],
            "text/plain": [
              "              region  lifeMale  lifeFemale  infantMortality  GDPperCapita\n",
              "country                                                                  \n",
              "Afghanistan     Asia      45.0        46.0              154          2848\n",
              "Albania       Europe      68.0        74.0               32           863\n",
              "Algeria       Africa      67.5        70.3               44          1531\n",
              "Angola        Africa      44.9        48.1              124           355\n",
              "Argentina    America      69.6        76.8               22          8055"
            ]
          },
          "execution_count": 9,
          "metadata": {},
          "output_type": "execute_result"
        }
      ],
      "source": [
        "un_data.head()"
      ]
    },
    {
      "cell_type": "code",
      "execution_count": null,
      "metadata": {
        "id": "wyARoUIQBtWi"
      },
      "outputs": [],
      "source": [
        "un_data = pd.get_dummies(un_data, columns = ['region'], drop_first = True)"
      ]
    },
    {
      "cell_type": "code",
      "execution_count": null,
      "metadata": {
        "id": "wymR_8q0BtWj",
        "outputId": "50401423-a522-4d32-a547-bf9009ae20de"
      },
      "outputs": [
        {
          "data": {
            "text/html": [
              "<div>\n",
              "<style scoped>\n",
              "    .dataframe tbody tr th:only-of-type {\n",
              "        vertical-align: middle;\n",
              "    }\n",
              "\n",
              "    .dataframe tbody tr th {\n",
              "        vertical-align: top;\n",
              "    }\n",
              "\n",
              "    .dataframe thead th {\n",
              "        text-align: right;\n",
              "    }\n",
              "</style>\n",
              "<table border=\"1\" class=\"dataframe\">\n",
              "  <thead>\n",
              "    <tr style=\"text-align: right;\">\n",
              "      <th></th>\n",
              "      <th>lifeMale</th>\n",
              "      <th>lifeFemale</th>\n",
              "      <th>infantMortality</th>\n",
              "      <th>GDPperCapita</th>\n",
              "      <th>region_America</th>\n",
              "      <th>region_Asia</th>\n",
              "      <th>region_Europe</th>\n",
              "      <th>region_Oceania</th>\n",
              "    </tr>\n",
              "    <tr>\n",
              "      <th>country</th>\n",
              "      <th></th>\n",
              "      <th></th>\n",
              "      <th></th>\n",
              "      <th></th>\n",
              "      <th></th>\n",
              "      <th></th>\n",
              "      <th></th>\n",
              "      <th></th>\n",
              "    </tr>\n",
              "  </thead>\n",
              "  <tbody>\n",
              "    <tr>\n",
              "      <th>Afghanistan</th>\n",
              "      <td>45.0</td>\n",
              "      <td>46.0</td>\n",
              "      <td>154</td>\n",
              "      <td>2848</td>\n",
              "      <td>0</td>\n",
              "      <td>1</td>\n",
              "      <td>0</td>\n",
              "      <td>0</td>\n",
              "    </tr>\n",
              "    <tr>\n",
              "      <th>Albania</th>\n",
              "      <td>68.0</td>\n",
              "      <td>74.0</td>\n",
              "      <td>32</td>\n",
              "      <td>863</td>\n",
              "      <td>0</td>\n",
              "      <td>0</td>\n",
              "      <td>1</td>\n",
              "      <td>0</td>\n",
              "    </tr>\n",
              "    <tr>\n",
              "      <th>Algeria</th>\n",
              "      <td>67.5</td>\n",
              "      <td>70.3</td>\n",
              "      <td>44</td>\n",
              "      <td>1531</td>\n",
              "      <td>0</td>\n",
              "      <td>0</td>\n",
              "      <td>0</td>\n",
              "      <td>0</td>\n",
              "    </tr>\n",
              "    <tr>\n",
              "      <th>Angola</th>\n",
              "      <td>44.9</td>\n",
              "      <td>48.1</td>\n",
              "      <td>124</td>\n",
              "      <td>355</td>\n",
              "      <td>0</td>\n",
              "      <td>0</td>\n",
              "      <td>0</td>\n",
              "      <td>0</td>\n",
              "    </tr>\n",
              "    <tr>\n",
              "      <th>Argentina</th>\n",
              "      <td>69.6</td>\n",
              "      <td>76.8</td>\n",
              "      <td>22</td>\n",
              "      <td>8055</td>\n",
              "      <td>1</td>\n",
              "      <td>0</td>\n",
              "      <td>0</td>\n",
              "      <td>0</td>\n",
              "    </tr>\n",
              "  </tbody>\n",
              "</table>\n",
              "</div>"
            ],
            "text/plain": [
              "             lifeMale  lifeFemale  infantMortality  GDPperCapita  \\\n",
              "country                                                            \n",
              "Afghanistan      45.0        46.0              154          2848   \n",
              "Albania          68.0        74.0               32           863   \n",
              "Algeria          67.5        70.3               44          1531   \n",
              "Angola           44.9        48.1              124           355   \n",
              "Argentina        69.6        76.8               22          8055   \n",
              "\n",
              "             region_America  region_Asia  region_Europe  region_Oceania  \n",
              "country                                                                  \n",
              "Afghanistan               0            1              0               0  \n",
              "Albania                   0            0              1               0  \n",
              "Algeria                   0            0              0               0  \n",
              "Angola                    0            0              0               0  \n",
              "Argentina                 1            0              0               0  "
            ]
          },
          "execution_count": 11,
          "metadata": {},
          "output_type": "execute_result"
        }
      ],
      "source": [
        "un_data.head()"
      ]
    },
    {
      "cell_type": "code",
      "execution_count": null,
      "metadata": {
        "id": "9u0y5r7OBtWj"
      },
      "outputs": [],
      "source": [
        "# Dummy region.\n"
      ]
    },
    {
      "cell_type": "markdown",
      "metadata": {
        "id": "-FYlaB47BtWk"
      },
      "source": [
        "<details><summary>What is our reference category for this dummy variable?</summary>\n",
        "\n",
        "- Africa!\n",
        "- There is no dummy variable for Africa in our data, meaning that all dummy variables would be interpreted **relative to Africa**.\n",
        "</details>"
      ]
    },
    {
      "cell_type": "markdown",
      "metadata": {
        "id": "UZV2vYISBtWk"
      },
      "source": [
        "### Create $Y$ variable"
      ]
    },
    {
      "cell_type": "code",
      "execution_count": null,
      "metadata": {
        "id": "-ItLRqHrBtWl"
      },
      "outputs": [],
      "source": [
        "# Create a column with 1 if the female life expectancy is greater\n",
        "# than the male life expectancy.\n",
        "un_data['females_are_strong_as_hell'] = (un_data['lifeFemale']>un_data['lifeMale']).astype(int)\n",
        "\n",
        "# The column name is a reference to the \n",
        "# Netflix series \"The Unbreakable Kimmy Schmidt.\""
      ]
    },
    {
      "cell_type": "code",
      "execution_count": null,
      "metadata": {
        "id": "tTw_uLkmBtWl",
        "outputId": "41f91496-abdd-4784-e3a6-198a3f1b459b"
      },
      "outputs": [
        {
          "data": {
            "text/html": [
              "<div>\n",
              "<style scoped>\n",
              "    .dataframe tbody tr th:only-of-type {\n",
              "        vertical-align: middle;\n",
              "    }\n",
              "\n",
              "    .dataframe tbody tr th {\n",
              "        vertical-align: top;\n",
              "    }\n",
              "\n",
              "    .dataframe thead th {\n",
              "        text-align: right;\n",
              "    }\n",
              "</style>\n",
              "<table border=\"1\" class=\"dataframe\">\n",
              "  <thead>\n",
              "    <tr style=\"text-align: right;\">\n",
              "      <th></th>\n",
              "      <th>lifeMale</th>\n",
              "      <th>lifeFemale</th>\n",
              "      <th>infantMortality</th>\n",
              "      <th>GDPperCapita</th>\n",
              "      <th>region_America</th>\n",
              "      <th>region_Asia</th>\n",
              "      <th>region_Europe</th>\n",
              "      <th>region_Oceania</th>\n",
              "      <th>females_are_strong_as_hell</th>\n",
              "    </tr>\n",
              "    <tr>\n",
              "      <th>country</th>\n",
              "      <th></th>\n",
              "      <th></th>\n",
              "      <th></th>\n",
              "      <th></th>\n",
              "      <th></th>\n",
              "      <th></th>\n",
              "      <th></th>\n",
              "      <th></th>\n",
              "      <th></th>\n",
              "    </tr>\n",
              "  </thead>\n",
              "  <tbody>\n",
              "    <tr>\n",
              "      <th>Afghanistan</th>\n",
              "      <td>45.0</td>\n",
              "      <td>46.0</td>\n",
              "      <td>154</td>\n",
              "      <td>2848</td>\n",
              "      <td>0</td>\n",
              "      <td>1</td>\n",
              "      <td>0</td>\n",
              "      <td>0</td>\n",
              "      <td>1</td>\n",
              "    </tr>\n",
              "    <tr>\n",
              "      <th>Albania</th>\n",
              "      <td>68.0</td>\n",
              "      <td>74.0</td>\n",
              "      <td>32</td>\n",
              "      <td>863</td>\n",
              "      <td>0</td>\n",
              "      <td>0</td>\n",
              "      <td>1</td>\n",
              "      <td>0</td>\n",
              "      <td>1</td>\n",
              "    </tr>\n",
              "    <tr>\n",
              "      <th>Algeria</th>\n",
              "      <td>67.5</td>\n",
              "      <td>70.3</td>\n",
              "      <td>44</td>\n",
              "      <td>1531</td>\n",
              "      <td>0</td>\n",
              "      <td>0</td>\n",
              "      <td>0</td>\n",
              "      <td>0</td>\n",
              "      <td>1</td>\n",
              "    </tr>\n",
              "    <tr>\n",
              "      <th>Angola</th>\n",
              "      <td>44.9</td>\n",
              "      <td>48.1</td>\n",
              "      <td>124</td>\n",
              "      <td>355</td>\n",
              "      <td>0</td>\n",
              "      <td>0</td>\n",
              "      <td>0</td>\n",
              "      <td>0</td>\n",
              "      <td>1</td>\n",
              "    </tr>\n",
              "    <tr>\n",
              "      <th>Argentina</th>\n",
              "      <td>69.6</td>\n",
              "      <td>76.8</td>\n",
              "      <td>22</td>\n",
              "      <td>8055</td>\n",
              "      <td>1</td>\n",
              "      <td>0</td>\n",
              "      <td>0</td>\n",
              "      <td>0</td>\n",
              "      <td>1</td>\n",
              "    </tr>\n",
              "  </tbody>\n",
              "</table>\n",
              "</div>"
            ],
            "text/plain": [
              "             lifeMale  lifeFemale  infantMortality  GDPperCapita  \\\n",
              "country                                                            \n",
              "Afghanistan      45.0        46.0              154          2848   \n",
              "Albania          68.0        74.0               32           863   \n",
              "Algeria          67.5        70.3               44          1531   \n",
              "Angola           44.9        48.1              124           355   \n",
              "Argentina        69.6        76.8               22          8055   \n",
              "\n",
              "             region_America  region_Asia  region_Europe  region_Oceania  \\\n",
              "country                                                                   \n",
              "Afghanistan               0            1              0               0   \n",
              "Albania                   0            0              1               0   \n",
              "Algeria                   0            0              0               0   \n",
              "Angola                    0            0              0               0   \n",
              "Argentina                 1            0              0               0   \n",
              "\n",
              "             females_are_strong_as_hell  \n",
              "country                                  \n",
              "Afghanistan                           1  \n",
              "Albania                               1  \n",
              "Algeria                               1  \n",
              "Angola                                1  \n",
              "Argentina                             1  "
            ]
          },
          "execution_count": 14,
          "metadata": {},
          "output_type": "execute_result"
        }
      ],
      "source": [
        "un_data.head()"
      ]
    },
    {
      "cell_type": "code",
      "execution_count": null,
      "metadata": {
        "id": "UOiq_qPvBtWl",
        "outputId": "7858ea9b-b9ad-44e8-ebf7-de9c077afb7f"
      },
      "outputs": [
        {
          "data": {
            "text/plain": [
              "1    0.989362\n",
              "0    0.010638\n",
              "Name: females_are_strong_as_hell, dtype: float64"
            ]
          },
          "execution_count": 15,
          "metadata": {},
          "output_type": "execute_result"
        }
      ],
      "source": [
        "# What should we check next?\n",
        "\n",
        "un_data['females_are_strong_as_hell'].value_counts(normalize=True)\n"
      ]
    },
    {
      "cell_type": "markdown",
      "metadata": {
        "id": "8Gidt558BtWm"
      },
      "source": [
        "<details><summary>Do you have any concerns about the above?</summary>\n",
        "    \n",
        "- Our classes are severely unbalanced.\n",
        "- We should check out our tools for handling unbalanced classes. (e.g. moving our classification threshold, implement stratified $k$-fold cross-validation)\n",
        "- Given the relatively low sample size and the small number of the observations in the minority category here, it is unlikely that our model would be able to predict that a nation has a higher male life expectancy.\n",
        "</details>"
      ]
    },
    {
      "cell_type": "code",
      "execution_count": null,
      "metadata": {
        "scrolled": true,
        "id": "vSwu51ZiBtWm",
        "outputId": "001df81c-2c0a-4071-a6be-7ad04923f405"
      },
      "outputs": [
        {
          "data": {
            "text/plain": [
              "0    0.569149\n",
              "1    0.430851\n",
              "Name: females_are_strong_as_hell, dtype: float64"
            ]
          },
          "execution_count": 16,
          "metadata": {},
          "output_type": "execute_result"
        }
      ],
      "source": [
        "# Create a column with 1 if the female life expectancy is 5\n",
        "# or more years longer than the male life expectancy.\n",
        "un_data['females_are_strong_as_hell'] = (un_data['lifeFemale'] >= (un_data['lifeMale'] + 5)).astype(int)\n",
        "\n",
        "# Check the thing we need to check!\n",
        "un_data['females_are_strong_as_hell'].value_counts(normalize=True)"
      ]
    },
    {
      "cell_type": "markdown",
      "metadata": {
        "id": "VRrv_5Y5BtWn"
      },
      "source": [
        "**We are interested in predicting whether or not the female life expectancy of a nation is at least five years greater than the male life expectancy.** This is a classification problem."
      ]
    },
    {
      "cell_type": "markdown",
      "metadata": {
        "id": "USC8XvtGBtWn"
      },
      "source": [
        "### Create the training and testing data"
      ]
    },
    {
      "cell_type": "code",
      "execution_count": null,
      "metadata": {
        "id": "14YAMGhABtWn"
      },
      "outputs": [],
      "source": [
        "# Set up X and y.\n",
        "X = un_data.drop(['females_are_strong_as_hell', 'lifeMale', 'lifeFemale'], axis = 'columns')\n",
        "y = un_data['females_are_strong_as_hell']"
      ]
    },
    {
      "cell_type": "code",
      "execution_count": null,
      "metadata": {
        "id": "hlWG-AvzBtWn"
      },
      "outputs": [],
      "source": [
        "# Split our data into training and testing sets.\n",
        "\n",
        "X_train, X_test, y_train, y_test = train_test_split(X,\n",
        "                                                    y,\n",
        "                                                    test_size = 0.33,\n",
        "                                                    random_state = 42,\n",
        "                                                    stratify = y) # Note the stratify argument here!"
      ]
    },
    {
      "cell_type": "code",
      "execution_count": null,
      "metadata": {
        "id": "HX7B9SGfBtWn",
        "outputId": "7e8d18a7-e0df-418e-c4d5-cc7119864b1a"
      },
      "outputs": [
        {
          "name": "stdout",
          "output_type": "stream",
          "text": [
            "0    0.568\n",
            "1    0.432\n",
            "Name: females_are_strong_as_hell, dtype: float64\n",
            "0    0.571429\n",
            "1    0.428571\n",
            "Name: females_are_strong_as_hell, dtype: float64\n"
          ]
        }
      ],
      "source": [
        "print(y_train.value_counts(normalize = True))\n",
        "print(y_test.value_counts(normalize = True))"
      ]
    },
    {
      "cell_type": "markdown",
      "metadata": {
        "id": "CxNL6GlRBtWo"
      },
      "source": [
        "<details><summary>Before we fit a k-Nearest Neighbors model, what do we need to do? Why?</summary>\n",
        "    \n",
        "- Standardize our data!\n",
        "- If we *don't* standardize our data, then features that have larger spreads (e.g. higher ranges or higher standard deviations) will have a disproportionate influence on our model.\n",
        "- If all of your variables are already on the same scale, then scaling is not necessary.\n",
        "</details>"
      ]
    },
    {
      "cell_type": "code",
      "execution_count": null,
      "metadata": {
        "id": "lJMOgswDBtWo",
        "outputId": "06e62b0d-e80a-4add-bd6f-5a8d9770cf6d"
      },
      "outputs": [
        {
          "data": {
            "text/html": [
              "<div>\n",
              "<style scoped>\n",
              "    .dataframe tbody tr th:only-of-type {\n",
              "        vertical-align: middle;\n",
              "    }\n",
              "\n",
              "    .dataframe tbody tr th {\n",
              "        vertical-align: top;\n",
              "    }\n",
              "\n",
              "    .dataframe thead th {\n",
              "        text-align: right;\n",
              "    }\n",
              "</style>\n",
              "<table border=\"1\" class=\"dataframe\">\n",
              "  <thead>\n",
              "    <tr style=\"text-align: right;\">\n",
              "      <th></th>\n",
              "      <th>lifeMale</th>\n",
              "      <th>lifeFemale</th>\n",
              "      <th>infantMortality</th>\n",
              "      <th>GDPperCapita</th>\n",
              "      <th>region_America</th>\n",
              "      <th>region_Asia</th>\n",
              "      <th>region_Europe</th>\n",
              "      <th>region_Oceania</th>\n",
              "      <th>females_are_strong_as_hell</th>\n",
              "    </tr>\n",
              "    <tr>\n",
              "      <th>country</th>\n",
              "      <th></th>\n",
              "      <th></th>\n",
              "      <th></th>\n",
              "      <th></th>\n",
              "      <th></th>\n",
              "      <th></th>\n",
              "      <th></th>\n",
              "      <th></th>\n",
              "      <th></th>\n",
              "    </tr>\n",
              "  </thead>\n",
              "  <tbody>\n",
              "    <tr>\n",
              "      <th>Afghanistan</th>\n",
              "      <td>45.0</td>\n",
              "      <td>46.0</td>\n",
              "      <td>154</td>\n",
              "      <td>2848</td>\n",
              "      <td>0</td>\n",
              "      <td>1</td>\n",
              "      <td>0</td>\n",
              "      <td>0</td>\n",
              "      <td>0</td>\n",
              "    </tr>\n",
              "    <tr>\n",
              "      <th>Albania</th>\n",
              "      <td>68.0</td>\n",
              "      <td>74.0</td>\n",
              "      <td>32</td>\n",
              "      <td>863</td>\n",
              "      <td>0</td>\n",
              "      <td>0</td>\n",
              "      <td>1</td>\n",
              "      <td>0</td>\n",
              "      <td>1</td>\n",
              "    </tr>\n",
              "    <tr>\n",
              "      <th>Algeria</th>\n",
              "      <td>67.5</td>\n",
              "      <td>70.3</td>\n",
              "      <td>44</td>\n",
              "      <td>1531</td>\n",
              "      <td>0</td>\n",
              "      <td>0</td>\n",
              "      <td>0</td>\n",
              "      <td>0</td>\n",
              "      <td>0</td>\n",
              "    </tr>\n",
              "    <tr>\n",
              "      <th>Angola</th>\n",
              "      <td>44.9</td>\n",
              "      <td>48.1</td>\n",
              "      <td>124</td>\n",
              "      <td>355</td>\n",
              "      <td>0</td>\n",
              "      <td>0</td>\n",
              "      <td>0</td>\n",
              "      <td>0</td>\n",
              "      <td>0</td>\n",
              "    </tr>\n",
              "    <tr>\n",
              "      <th>Argentina</th>\n",
              "      <td>69.6</td>\n",
              "      <td>76.8</td>\n",
              "      <td>22</td>\n",
              "      <td>8055</td>\n",
              "      <td>1</td>\n",
              "      <td>0</td>\n",
              "      <td>0</td>\n",
              "      <td>0</td>\n",
              "      <td>1</td>\n",
              "    </tr>\n",
              "  </tbody>\n",
              "</table>\n",
              "</div>"
            ],
            "text/plain": [
              "             lifeMale  lifeFemale  infantMortality  GDPperCapita  \\\n",
              "country                                                            \n",
              "Afghanistan      45.0        46.0              154          2848   \n",
              "Albania          68.0        74.0               32           863   \n",
              "Algeria          67.5        70.3               44          1531   \n",
              "Angola           44.9        48.1              124           355   \n",
              "Argentina        69.6        76.8               22          8055   \n",
              "\n",
              "             region_America  region_Asia  region_Europe  region_Oceania  \\\n",
              "country                                                                   \n",
              "Afghanistan               0            1              0               0   \n",
              "Albania                   0            0              1               0   \n",
              "Algeria                   0            0              0               0   \n",
              "Angola                    0            0              0               0   \n",
              "Argentina                 1            0              0               0   \n",
              "\n",
              "             females_are_strong_as_hell  \n",
              "country                                  \n",
              "Afghanistan                           0  \n",
              "Albania                               1  \n",
              "Algeria                               0  \n",
              "Angola                                0  \n",
              "Argentina                             1  "
            ]
          },
          "execution_count": 20,
          "metadata": {},
          "output_type": "execute_result"
        }
      ],
      "source": [
        "un_data.head()"
      ]
    },
    {
      "cell_type": "code",
      "execution_count": null,
      "metadata": {
        "scrolled": true,
        "id": "qslMFZQ1BtWo"
      },
      "outputs": [],
      "source": [
        "# Instantiate.\n",
        "ss = StandardScaler()\n",
        "\n",
        "# Fit and transform.\n",
        " \n",
        "X_train_sc = ss.fit_transform(X_train)\n",
        "\n",
        "\n",
        "# Transform.\n",
        "X_test_sc = ss.transform(X_test)"
      ]
    },
    {
      "cell_type": "markdown",
      "metadata": {
        "id": "KhXE1ooxBtWo"
      },
      "source": [
        "## Fit the Default kNN\n",
        "\n",
        "Below we fit a default `KNeighborsClassifier` to predict `y`. ([Here is the documentation.](https://scikit-learn.org/stable/modules/generated/sklearn.neighbors.KNeighborsClassifier.html))"
      ]
    },
    {
      "cell_type": "markdown",
      "metadata": {
        "id": "ZS_pbxykBtWo"
      },
      "source": [
        "<details><summary>What is the default number of neighbors used in kNN?</summary>\n",
        "    \n",
        "- 5.\n",
        "</details>"
      ]
    },
    {
      "cell_type": "code",
      "execution_count": null,
      "metadata": {
        "id": "GnkADpTGBtWp",
        "outputId": "ee9497e2-7a3b-4799-b2fa-2954da3dba5d"
      },
      "outputs": [
        {
          "data": {
            "text/plain": [
              "KNeighborsClassifier()"
            ]
          },
          "execution_count": 22,
          "metadata": {},
          "output_type": "execute_result"
        }
      ],
      "source": [
        "# Instantiate.\n",
        "knn = KNeighborsClassifier()\n",
        "\n",
        "# Fit.\n",
        "\n",
        "knn.fit(X_train_sc,y_train)"
      ]
    },
    {
      "cell_type": "code",
      "execution_count": null,
      "metadata": {
        "id": "yQKvHOvEBtWp",
        "outputId": "21ad45aa-9954-4a07-96ee-04776d8e2ca8"
      },
      "outputs": [
        {
          "data": {
            "text/plain": [
              "0.7619047619047619"
            ]
          },
          "execution_count": 23,
          "metadata": {},
          "output_type": "execute_result"
        }
      ],
      "source": [
        "# Evaluate.\n",
        "knn.score(X_test_sc,y_test)\n"
      ]
    },
    {
      "cell_type": "code",
      "execution_count": null,
      "metadata": {
        "id": "TfZt2CERBtWp",
        "outputId": "5c0b2ffe-ef4e-4963-cac1-c3edb916bf76"
      },
      "outputs": [
        {
          "data": {
            "text/plain": [
              "0.848"
            ]
          },
          "execution_count": 24,
          "metadata": {},
          "output_type": "execute_result"
        }
      ],
      "source": [
        "knn.score(X_train_sc,y_train)"
      ]
    },
    {
      "cell_type": "markdown",
      "metadata": {
        "id": "GXO17Z2PBtWp"
      },
      "source": [
        "<details><summary>What score is this?</summary>\n",
        "\n",
        "- Accuracy.\n",
        "</details>"
      ]
    },
    {
      "cell_type": "code",
      "execution_count": null,
      "metadata": {
        "id": "dwBYDLjtBtWp"
      },
      "outputs": [],
      "source": [
        "# Evaluate against the baseline.\n"
      ]
    },
    {
      "cell_type": "markdown",
      "metadata": {
        "id": "h-0lYM2oBtWq"
      },
      "source": [
        "<details><summary>Is selecting k = 5 a good choice? Is it the best choice?</summary>\n",
        "\n",
        "- We don't know!\n",
        "- $k$ is a hyperparameter.\n",
        "</details>"
      ]
    },
    {
      "cell_type": "markdown",
      "metadata": {
        "id": "vDV401X9BtWq"
      },
      "source": [
        "## What are \"hyperparameters?\"\n",
        "\n",
        "Models often have built-in quantities that we can use to fine-tune our results. \n",
        "- What value of $k$ do we select?\n",
        "- What distance metric do we select?\n",
        "- Do we use LASSO or Ridge regularization?\n",
        "- What value of $\\alpha$ or $C$ do we use?\n",
        "\n",
        "These are quantities our model **cannot** learn... **we must decide on these ourselves**!\n",
        "\n",
        "> These are different from statistical parameters, which are quantities a model _can_ learn.\n",
        "\n",
        "However, different values for hyperparameters can result in substantially different models. \n",
        "- Let's [visualize fits for different values of $k$](http://scott.fortmann-roe.com/docs/BiasVariance.html) in $k$-nearest neighbors."
      ]
    },
    {
      "cell_type": "markdown",
      "metadata": {
        "id": "E-_6U5qzBtWq"
      },
      "source": [
        "<details><summary>We want to find the optimal values for our hyperparameters. How do you think we might do this?</summary>\n",
        "\n",
        "- Try many different values of hyperparameters and see which ones perform the best on our data.\n",
        "</details>"
      ]
    },
    {
      "cell_type": "markdown",
      "metadata": {
        "id": "2eRmrtOLBtWq"
      },
      "source": [
        "## Searching for the Best Hyperparameters\n",
        "\n",
        "Our default kNN performs quite poorly on the test data. But what if we changed the number of neighbors? The weighting? The distance metric?\n",
        "\n",
        "These are all hyperparameters of kNN. How would we do this manually? We would need to evaluate on the training data the set of hyperparameters that perform best, and then use this set of hyperparameters to fit the final model and score on the testing set."
      ]
    },
    {
      "cell_type": "markdown",
      "metadata": {
        "id": "DaVMydItBtWq"
      },
      "source": [
        "**One method of searching for the optimal set of hyperparameters is called GridSearching.**\n",
        "\n",
        "GridSearching gets its name from the fact that we are searching over a \"grid\" of hyperparameters. For example, imagine the `n_neighbors` hyperparameters as the columns and `weights` as the rows. This makes a grid. We check the accuracy for all combinations of hyperparameters on the grid.\n",
        "\n",
        "![](./images/grid.jpg)"
      ]
    },
    {
      "cell_type": "markdown",
      "metadata": {
        "id": "As__jHfNBtWq"
      },
      "source": [
        "### Using `GridSearchCV`\n",
        "\n",
        "This would be an annoying process to have to do manually. Luckily `sklearn` comes in handy:\n",
        "\n",
        "```python\n",
        "from sklearn.model_selection import GridSearchCV\n",
        "```\n",
        "\n",
        "The `GridSearchCV` has a handful of important arguments:\n",
        "\n",
        "| Argument | Description |\n",
        "| --- | ---|\n",
        "| **`estimator`** | The sklearn instance of the model to fit on |\n",
        "| **`param_grid`** | A dictionary where keys are hyperparameters for the model and values are lists of values to test |\n",
        "| **`cv`** | The number of internal cross-validation folds to run for each set of hyperparameters |\n",
        "| **`n_jobs`** | How many cores to use on your computer to run the folds (-1 means use all cores) |\n",
        "| **`verbose`** | How much output to display (0 is none, 1 is limited, 2 is printouts for every internal fit) |\n",
        "\n",
        "\n",
        "Below is an example for how one might set up the GridSearch for our kNN:\n",
        "\n",
        "```python\n",
        "knn_parameters = {\n",
        "    'n_neighbors':[2,3],\n",
        "    'weights':['uniform','distance'],\n",
        "    'p':[1,2]\n",
        "}\n",
        "\n",
        "knn_gridsearcher = GridSearchCV(KNeighborsClassifier(), knn_parameters, verbose=1)\n",
        "knn_gridsearcher.fit(X_train, y_train)\n",
        "```\n",
        "\n",
        "**Try out the `sklearn` GridSearch below on the training data.** [You can find the GridSearchCV documentation here.](https://scikit-learn.org/stable/modules/generated/sklearn.model_selection.GridSearchCV.html)"
      ]
    },
    {
      "cell_type": "code",
      "execution_count": null,
      "metadata": {
        "id": "4gd42WQIBtWr"
      },
      "outputs": [],
      "source": [
        "# Create dictionary of hyperparameters.\n",
        "# The keys MUST match the names of the arguments!\n",
        "knn_params = {\n",
        "    'n_neighbors': range(1, 51, 10),\n",
        "    'metric': ['euclidean', 'manhattan']\n",
        "}"
      ]
    },
    {
      "cell_type": "code",
      "execution_count": null,
      "metadata": {
        "id": "BpiGp6trBtWr"
      },
      "outputs": [],
      "source": [
        "# Instantiate our GridSearchCV object.\n",
        "knn_gridsearch = GridSearchCV( KNeighborsClassifier()  # What is the model we want to fit?\n",
        "                              , knn_params # What is the dictionary of hyperparameters?\n",
        "                              , cv = 5 # What number of folds in CV will we use?\n",
        "                              , verbose=1)"
      ]
    },
    {
      "cell_type": "code",
      "execution_count": null,
      "metadata": {
        "id": "BlUg88AQBtWr",
        "outputId": "32fac877-215e-43f1-b7e9-e9b3551acb78"
      },
      "outputs": [
        {
          "name": "stdout",
          "output_type": "stream",
          "text": [
            "Fitting 5 folds for each of 10 candidates, totalling 50 fits\n"
          ]
        },
        {
          "data": {
            "text/plain": [
              "GridSearchCV(cv=5, estimator=KNeighborsClassifier(),\n",
              "             param_grid={'metric': ['euclidean', 'manhattan'],\n",
              "                         'n_neighbors': range(1, 51, 10)},\n",
              "             verbose=1)"
            ]
          },
          "execution_count": 28,
          "metadata": {},
          "output_type": "execute_result"
        }
      ],
      "source": [
        "# Fit the GridSearchCV object to the data\n",
        "knn_gridsearch.fit (X_train_sc, y_train)"
      ]
    },
    {
      "cell_type": "markdown",
      "metadata": {
        "id": "EsWI9YiPBtWr"
      },
      "source": [
        "### Examining the Results of the GridSearch\n",
        "\n",
        "Once the GridSearch has fit (this can take awhile!) we can pull out a variety of information and useful objects from the GridSearch object, stored as attributes:\n",
        "\n",
        "| Property | Description |\n",
        "| --- | ---|\n",
        "| **`results.param_grid`** | Displays hyperparameters searched over. |\n",
        "| **`results.best_score_`** | Best mean cross-validated score achieved. |\n",
        "| **`results.best_estimator_`** | Reference to model with best score.  Is usable / callable. |\n",
        "| **`results.best_params_`** | The hyperparameters that have been found to perform with the best score. |\n",
        "| **`results.grid_scores_`** | Display score attributes with corresponding hyperparameters. | "
      ]
    },
    {
      "cell_type": "code",
      "execution_count": null,
      "metadata": {
        "scrolled": true,
        "id": "EJCn7Ov7BtWs",
        "outputId": "3c0aa76f-0dd0-43f4-f53f-08b4f31eb7fc"
      },
      "outputs": [
        {
          "data": {
            "text/plain": [
              "0.784"
            ]
          },
          "execution_count": 29,
          "metadata": {},
          "output_type": "execute_result"
        }
      ],
      "source": [
        "# Print out the score.\n",
        "# from documentation: Mean cross-validated score of the best_estimator\n",
        "# https://scikit-learn.org/stable/modules/generated/sklearn.model_selection.GridSearchCV.html\n",
        "\n",
        "knn_gridsearch.best_score_"
      ]
    },
    {
      "cell_type": "code",
      "execution_count": null,
      "metadata": {
        "id": "i9fJTVcBBtWs",
        "outputId": "7ebf0d13-d760-4c2d-d7d4-7bbeb8bda260"
      },
      "outputs": [
        {
          "data": {
            "text/plain": [
              "{'metric': 'euclidean', 'n_neighbors': 1}"
            ]
          },
          "execution_count": 30,
          "metadata": {},
          "output_type": "execute_result"
        }
      ],
      "source": [
        "# Print out the set of hyperparameters that achieved the best score.\n",
        "knn_gridsearch.best_params_"
      ]
    },
    {
      "cell_type": "code",
      "execution_count": null,
      "metadata": {
        "id": "3dYQrRL4BtWs",
        "outputId": "d19a9835-cd3e-48ab-8a85-111b99b1d0bc"
      },
      "outputs": [
        {
          "data": {
            "text/plain": [
              "0.7619047619047619"
            ]
          },
          "execution_count": 31,
          "metadata": {},
          "output_type": "execute_result"
        }
      ],
      "source": [
        "# Evaluate the best fit model on the test data.\n",
        "\n",
        "knn_gridsearch.score(X_test_sc,y_test)\n"
      ]
    },
    {
      "cell_type": "code",
      "execution_count": null,
      "metadata": {
        "id": "OdTx7VhDBtWs",
        "outputId": "47498054-668f-4b18-c203-e968348fceb0"
      },
      "outputs": [
        {
          "data": {
            "text/plain": [
              "1.0"
            ]
          },
          "execution_count": 32,
          "metadata": {},
          "output_type": "execute_result"
        }
      ],
      "source": [
        "knn_gridsearch.score(X_train_sc,y_train)"
      ]
    },
    {
      "cell_type": "markdown",
      "metadata": {
        "id": "XUF_kNh9BtWs"
      },
      "source": [
        "**Let's see everything!**"
      ]
    },
    {
      "cell_type": "code",
      "execution_count": null,
      "metadata": {
        "id": "JZfUJrikBtWs",
        "outputId": "123ee4b0-f070-43c1-9b3e-97bb9ac04748"
      },
      "outputs": [
        {
          "data": {
            "text/html": [
              "<div>\n",
              "<style scoped>\n",
              "    .dataframe tbody tr th:only-of-type {\n",
              "        vertical-align: middle;\n",
              "    }\n",
              "\n",
              "    .dataframe tbody tr th {\n",
              "        vertical-align: top;\n",
              "    }\n",
              "\n",
              "    .dataframe thead th {\n",
              "        text-align: right;\n",
              "    }\n",
              "</style>\n",
              "<table border=\"1\" class=\"dataframe\">\n",
              "  <thead>\n",
              "    <tr style=\"text-align: right;\">\n",
              "      <th></th>\n",
              "      <th>mean_fit_time</th>\n",
              "      <th>std_fit_time</th>\n",
              "      <th>mean_score_time</th>\n",
              "      <th>std_score_time</th>\n",
              "      <th>param_metric</th>\n",
              "      <th>param_n_neighbors</th>\n",
              "      <th>params</th>\n",
              "      <th>split0_test_score</th>\n",
              "      <th>split1_test_score</th>\n",
              "      <th>split2_test_score</th>\n",
              "      <th>split3_test_score</th>\n",
              "      <th>split4_test_score</th>\n",
              "      <th>mean_test_score</th>\n",
              "      <th>std_test_score</th>\n",
              "      <th>rank_test_score</th>\n",
              "    </tr>\n",
              "  </thead>\n",
              "  <tbody>\n",
              "    <tr>\n",
              "      <th>0</th>\n",
              "      <td>0.001736</td>\n",
              "      <td>0.001061</td>\n",
              "      <td>0.002356</td>\n",
              "      <td>0.000336</td>\n",
              "      <td>euclidean</td>\n",
              "      <td>1</td>\n",
              "      <td>{'metric': 'euclidean', 'n_neighbors': 1}</td>\n",
              "      <td>0.76</td>\n",
              "      <td>0.84</td>\n",
              "      <td>0.92</td>\n",
              "      <td>0.72</td>\n",
              "      <td>0.68</td>\n",
              "      <td>0.784</td>\n",
              "      <td>0.086163</td>\n",
              "      <td>1</td>\n",
              "    </tr>\n",
              "    <tr>\n",
              "      <th>2</th>\n",
              "      <td>0.001199</td>\n",
              "      <td>0.000215</td>\n",
              "      <td>0.003170</td>\n",
              "      <td>0.000952</td>\n",
              "      <td>euclidean</td>\n",
              "      <td>21</td>\n",
              "      <td>{'metric': 'euclidean', 'n_neighbors': 21}</td>\n",
              "      <td>0.84</td>\n",
              "      <td>0.84</td>\n",
              "      <td>0.76</td>\n",
              "      <td>0.72</td>\n",
              "      <td>0.72</td>\n",
              "      <td>0.776</td>\n",
              "      <td>0.054259</td>\n",
              "      <td>2</td>\n",
              "    </tr>\n",
              "    <tr>\n",
              "      <th>5</th>\n",
              "      <td>0.001320</td>\n",
              "      <td>0.000463</td>\n",
              "      <td>0.002409</td>\n",
              "      <td>0.000362</td>\n",
              "      <td>manhattan</td>\n",
              "      <td>1</td>\n",
              "      <td>{'metric': 'manhattan', 'n_neighbors': 1}</td>\n",
              "      <td>0.76</td>\n",
              "      <td>0.84</td>\n",
              "      <td>0.92</td>\n",
              "      <td>0.72</td>\n",
              "      <td>0.64</td>\n",
              "      <td>0.776</td>\n",
              "      <td>0.096664</td>\n",
              "      <td>2</td>\n",
              "    </tr>\n",
              "    <tr>\n",
              "      <th>7</th>\n",
              "      <td>0.001225</td>\n",
              "      <td>0.000209</td>\n",
              "      <td>0.002666</td>\n",
              "      <td>0.000502</td>\n",
              "      <td>manhattan</td>\n",
              "      <td>21</td>\n",
              "      <td>{'metric': 'manhattan', 'n_neighbors': 21}</td>\n",
              "      <td>0.84</td>\n",
              "      <td>0.84</td>\n",
              "      <td>0.76</td>\n",
              "      <td>0.72</td>\n",
              "      <td>0.72</td>\n",
              "      <td>0.776</td>\n",
              "      <td>0.054259</td>\n",
              "      <td>2</td>\n",
              "    </tr>\n",
              "    <tr>\n",
              "      <th>6</th>\n",
              "      <td>0.001214</td>\n",
              "      <td>0.000229</td>\n",
              "      <td>0.003635</td>\n",
              "      <td>0.000840</td>\n",
              "      <td>manhattan</td>\n",
              "      <td>11</td>\n",
              "      <td>{'metric': 'manhattan', 'n_neighbors': 11}</td>\n",
              "      <td>0.84</td>\n",
              "      <td>0.84</td>\n",
              "      <td>0.68</td>\n",
              "      <td>0.64</td>\n",
              "      <td>0.68</td>\n",
              "      <td>0.736</td>\n",
              "      <td>0.086163</td>\n",
              "      <td>5</td>\n",
              "    </tr>\n",
              "  </tbody>\n",
              "</table>\n",
              "</div>"
            ],
            "text/plain": [
              "   mean_fit_time  std_fit_time  mean_score_time  std_score_time param_metric  \\\n",
              "0       0.001736      0.001061         0.002356        0.000336    euclidean   \n",
              "2       0.001199      0.000215         0.003170        0.000952    euclidean   \n",
              "5       0.001320      0.000463         0.002409        0.000362    manhattan   \n",
              "7       0.001225      0.000209         0.002666        0.000502    manhattan   \n",
              "6       0.001214      0.000229         0.003635        0.000840    manhattan   \n",
              "\n",
              "  param_n_neighbors                                      params  \\\n",
              "0                 1   {'metric': 'euclidean', 'n_neighbors': 1}   \n",
              "2                21  {'metric': 'euclidean', 'n_neighbors': 21}   \n",
              "5                 1   {'metric': 'manhattan', 'n_neighbors': 1}   \n",
              "7                21  {'metric': 'manhattan', 'n_neighbors': 21}   \n",
              "6                11  {'metric': 'manhattan', 'n_neighbors': 11}   \n",
              "\n",
              "   split0_test_score  split1_test_score  split2_test_score  split3_test_score  \\\n",
              "0               0.76               0.84               0.92               0.72   \n",
              "2               0.84               0.84               0.76               0.72   \n",
              "5               0.76               0.84               0.92               0.72   \n",
              "7               0.84               0.84               0.76               0.72   \n",
              "6               0.84               0.84               0.68               0.64   \n",
              "\n",
              "   split4_test_score  mean_test_score  std_test_score  rank_test_score  \n",
              "0               0.68            0.784        0.086163                1  \n",
              "2               0.72            0.776        0.054259                2  \n",
              "5               0.64            0.776        0.096664                2  \n",
              "7               0.72            0.776        0.054259                2  \n",
              "6               0.68            0.736        0.086163                5  "
            ]
          },
          "execution_count": 33,
          "metadata": {},
          "output_type": "execute_result"
        }
      ],
      "source": [
        "pd.DataFrame(knn_gridsearch.cv_results_).sort_values('rank_test_score').head()"
      ]
    },
    {
      "cell_type": "code",
      "execution_count": null,
      "metadata": {
        "id": "ySiaCFDEBtWt",
        "outputId": "d05c6bc9-36ca-4b43-c972-643bd5f3aba0"
      },
      "outputs": [
        {
          "data": {
            "image/png": "[encoded data removed]",
            "text/plain": [
              "<Figure size 432x288 with 1 Axes>"
            ]
          },
          "metadata": {
            "needs_background": "light"
          },
          "output_type": "display_data"
        }
      ],
      "source": [
        "gs_df = pd.DataFrame(knn_gridsearch.cv_results_)\n",
        "gs_df = gs_df[gs_df['param_metric'] == 'euclidean']\n",
        "gs_df.plot(x='param_n_neighbors', y='mean_test_score');"
      ]
    },
    {
      "cell_type": "markdown",
      "metadata": {
        "id": "4kQ4IjYXBtWt"
      },
      "source": [
        "## A Word of Caution on GridSearching\n",
        "\n",
        "`sklearn` models often have many hyperparameters with many different possible values. It may be tempting to search over a wide variety of them. In general, this is not wise."
      ]
    },
    {
      "cell_type": "markdown",
      "metadata": {
        "id": "iaoqW5llBtWt"
      },
      "source": [
        "<details><summary>Why not?</summary>\n",
        "\n",
        "- Remember that GridSearch searches over **all possible combinations of hyperparameters in the parameter dictionary!**\n",
        "\n",
        "Imagine that we had this as our parameter dictionary:\n",
        "\n",
        "```python\n",
        "parameter_grid = {\n",
        "    'n_neighbors': range(1, 151),\n",
        "    'weights': ['uniform', 'distance', custom_function],\n",
        "    'algorithm': ['ball_tree', 'kd_tree', 'brute', 'auto'],\n",
        "    'leaf_size': range(1, 152),\n",
        "    'metric': ['minkowski', 'euclidean'],\n",
        "    'p': [1, 2]\n",
        "}\n",
        "```\n",
        "\n",
        "**How many different combinations will need to be tested?**\n",
        "\n",
        "| Parameter | Number of Chosen Values |\n",
        "| --- | --- |\n",
        "| **n_neighbors** | 150 |\n",
        "| **weights** | 3 |\n",
        "| **algorithm** | 4 |\n",
        "| **leaf_size** | 151 |\n",
        "| **metric** | 2 |\n",
        "| **p** | 2 |\n",
        "| <br>_150 \\* 3 \\* 4 \\* 151 \\* 2 \\* 2 = n combinations_ <br><br>| _1,087,200_ |\n",
        "\n",
        "If we select `cv = 5`, we would fit 1,087,200 models on five folds, meaning we fit 5,436,000 models!\n",
        "\n",
        "If you're not careful, GridSearching can quickly scale out of hand computationally.\n",
        "\n",
        "> **It is extremely important to understand what the hyperparameters do and think critically about what ranges are useful and relevant to your model!**\n",
        "</details>"
      ]
    },
    {
      "cell_type": "markdown",
      "metadata": {
        "id": "6O7nK0JkBtWt"
      },
      "source": [
        "## A brief detour: estimators and transformers.\n",
        "**Estimators** and **transformers** are two types of classes in `sklearn`.\n",
        "\n",
        "We've seen several examples of each so far.\n",
        "\n",
        "### Scikit-Learn Estimators\n",
        "Estimators are essentially _models_. They fit this format:\n",
        "\n",
        "```python\n",
        "# Instantiate.\n",
        "model = LinearRegression(params)\n",
        "# Fit.\n",
        "model.fit(X_train, y_train)\n",
        "# Predict.\n",
        "y_pred = model.predict(X_test)\n",
        "```\n",
        "\n",
        "Estimators have a **fit** and **predict** method.\n",
        "\n",
        "### Scikit-Learn Transformers\n",
        "Transformers are not models. They transform your data using similar syntax to estimators. They work like this:\n",
        "\n",
        "```python\n",
        "# Instantiate.\n",
        "ss = StandardScaler(params)\n",
        "# Fit.\n",
        "ss.fit(X_train)\n",
        "# Transform.\n",
        "X_transformed = ss.transform(X_train)\n",
        "```\n",
        "\n",
        "Instead of `fit` and `predict`, they have **fit** and **transform** methods. In fact, since you fit and transform together so often, they have a shortcut:\n",
        "\n",
        "```python\n",
        "ss = StandardScaler(params)\n",
        "X_transformed = ss.fit_transform(X_train)\n",
        "```\n",
        "\n",
        "We've seen a few transformers, including `StandardScaler()` and `PolynomialFeatures()`. There's also `OneHotEncoder()` for dummy encoding and `LabelEncoder()` for factorizing variables. Later we'll see `PCA()`, which is also a transformer."
      ]
    },
    {
      "cell_type": "markdown",
      "metadata": {
        "id": "RHs-AslUBtWt"
      },
      "source": [
        "### Why is this relevant?\n",
        "\n",
        "Check out the [StandardScaler documentation](https://scikit-learn.org/stable/modules/generated/sklearn.preprocessing.StandardScaler.html).\n",
        "\n",
        "Transformers may have hyperparameters as well - **but we can't GridSearch over a transformer**! There's no way to get an accuracy (or other) score from just a transformer, since a transformer can't predict!\n",
        "\n",
        "\n",
        "![](./images/grid.jpg)\n",
        "\n",
        "In addition, the acronym ETL, meaning \"extract, transform, load,\" is a very common one in data science. When we gather data from one or more places, there might be **a lot** of preprocessing going on.\n",
        "\n",
        "Oftentimes, we'll want to apply several transformers to a dataset, *then* build a model. \n",
        "- If you do all of these preprocessing steps independently, your code can be messy and it'll be prone to errors!\n",
        "- It can be challenging to consistently recreate this process."
      ]
    },
    {
      "cell_type": "markdown",
      "metadata": {
        "id": "RQH21b7pBtWt"
      },
      "source": [
        "## Pipelines\n",
        "![](./images/pipe.png)\n",
        "\n",
        "Pipelines will allow us to do two things:\n",
        "1. Chain many transformers together before ending in an estimator.\n",
        "2. Allow us to GridSearch over a transformer's hyperparameters."
      ]
    },
    {
      "cell_type": "code",
      "execution_count": null,
      "metadata": {
        "id": "ohYHs_GOBtWu"
      },
      "outputs": [],
      "source": [
        "# Instantiate a StandardScaler + kNN pipeline.\n",
        "pipe = Pipeline([ \n",
        "    ('ss', StandardScaler()),\n",
        "    ('knn', KNeighborsClassifier())\n",
        "])"
      ]
    },
    {
      "cell_type": "code",
      "execution_count": null,
      "metadata": {
        "id": "mvp1GJ2dBtWu",
        "outputId": "fce8f73e-e4bf-416e-a5e0-a62f8296c830"
      },
      "outputs": [
        {
          "data": {
            "text/plain": [
              "Pipeline(steps=[('ss', StandardScaler()), ('knn', KNeighborsClassifier())])"
            ]
          },
          "execution_count": 36,
          "metadata": {},
          "output_type": "execute_result"
        }
      ],
      "source": [
        "# Fit.\n",
        "\n",
        "pipe.fit(X_train, y_train)\n"
      ]
    },
    {
      "cell_type": "code",
      "execution_count": null,
      "metadata": {
        "id": "oOarPYRLBtWu",
        "outputId": "09d8a1a4-6ded-4b0e-be92-599aa7d320b1"
      },
      "outputs": [
        {
          "data": {
            "text/plain": [
              "0.7619047619047619"
            ]
          },
          "execution_count": 37,
          "metadata": {},
          "output_type": "execute_result"
        }
      ],
      "source": [
        "# Evaluate.\n",
        "\n",
        "pipe.score(X_test, y_test)\n"
      ]
    },
    {
      "cell_type": "code",
      "execution_count": null,
      "metadata": {
        "id": "2SwtltW8BtWu",
        "outputId": "5285dc1d-7eaa-4807-c01f-cbcdf816620b"
      },
      "outputs": [
        {
          "data": {
            "text/plain": [
              "{'memory': None,\n",
              " 'steps': [('ss', StandardScaler()), ('knn', KNeighborsClassifier())],\n",
              " 'verbose': False,\n",
              " 'ss': StandardScaler(),\n",
              " 'knn': KNeighborsClassifier(),\n",
              " 'ss__copy': True,\n",
              " 'ss__with_mean': True,\n",
              " 'ss__with_std': True,\n",
              " 'knn__algorithm': 'auto',\n",
              " 'knn__leaf_size': 30,\n",
              " 'knn__metric': 'minkowski',\n",
              " 'knn__metric_params': None,\n",
              " 'knn__n_jobs': None,\n",
              " 'knn__n_neighbors': 5,\n",
              " 'knn__p': 2,\n",
              " 'knn__weights': 'uniform'}"
            ]
          },
          "execution_count": 38,
          "metadata": {},
          "output_type": "execute_result"
        }
      ],
      "source": [
        "# Get params - yes, you can GridSearchCV over these!\n",
        "# Notice the naming convention of pipe arguments.\n",
        "\n",
        "pipe.get_params()"
      ]
    },
    {
      "cell_type": "code",
      "execution_count": null,
      "metadata": {
        "id": "zfIoikscBtWu",
        "outputId": "bb005253-31f6-4265-f8b6-757932605199"
      },
      "outputs": [
        {
          "ename": "TypeError",
          "evalue": "All intermediate steps should be transformers and implement fit and transform or be the string 'passthrough' 'KNeighborsClassifier()' (type <class 'sklearn.neighbors._classification.KNeighborsClassifier'>) doesn't",
          "output_type": "error",
          "traceback": [
            "\u001b[0;31m---------------------------------------------------------------------------\u001b[0m",
            "\u001b[0;31mTypeError\u001b[0m                                 Traceback (most recent call last)",
            "\u001b[0;32m/var/folders/x8/6bbbnrxs1y395dj4c47r996c0000gn/T/ipykernel_59778/4265527689.py\u001b[0m in \u001b[0;36m<module>\u001b[0;34m\u001b[0m\n\u001b[1;32m      1\u001b[0m \u001b[0;31m# Instantiate pipeline object.\u001b[0m\u001b[0;34m\u001b[0m\u001b[0;34m\u001b[0m\u001b[0m\n\u001b[0;32m----> 2\u001b[0;31m pipe_2 = Pipeline([\n\u001b[0m\u001b[1;32m      3\u001b[0m     \u001b[0;34m(\u001b[0m\u001b[0;34m'knn'\u001b[0m\u001b[0;34m,\u001b[0m \u001b[0mKNeighborsClassifier\u001b[0m\u001b[0;34m(\u001b[0m\u001b[0;34m)\u001b[0m\u001b[0;34m)\u001b[0m\u001b[0;34m,\u001b[0m\u001b[0;34m\u001b[0m\u001b[0;34m\u001b[0m\u001b[0m\n\u001b[1;32m      4\u001b[0m     \u001b[0;34m(\u001b[0m\u001b[0;34m'ss'\u001b[0m\u001b[0;34m,\u001b[0m \u001b[0mStandardScaler\u001b[0m\u001b[0;34m(\u001b[0m\u001b[0;34m)\u001b[0m\u001b[0;34m)\u001b[0m\u001b[0;34m\u001b[0m\u001b[0;34m\u001b[0m\u001b[0m\n\u001b[1;32m      5\u001b[0m ])\n",
            "\u001b[0;32m~/opt/anaconda3/lib/python3.9/site-packages/sklearn/utils/validation.py\u001b[0m in \u001b[0;36minner_f\u001b[0;34m(*args, **kwargs)\u001b[0m\n\u001b[1;32m     61\u001b[0m             \u001b[0mextra_args\u001b[0m \u001b[0;34m=\u001b[0m \u001b[0mlen\u001b[0m\u001b[0;34m(\u001b[0m\u001b[0margs\u001b[0m\u001b[0;34m)\u001b[0m \u001b[0;34m-\u001b[0m \u001b[0mlen\u001b[0m\u001b[0;34m(\u001b[0m\u001b[0mall_args\u001b[0m\u001b[0;34m)\u001b[0m\u001b[0;34m\u001b[0m\u001b[0;34m\u001b[0m\u001b[0m\n\u001b[1;32m     62\u001b[0m             \u001b[0;32mif\u001b[0m \u001b[0mextra_args\u001b[0m \u001b[0;34m<=\u001b[0m \u001b[0;36m0\u001b[0m\u001b[0;34m:\u001b[0m\u001b[0;34m\u001b[0m\u001b[0;34m\u001b[0m\u001b[0m\n\u001b[0;32m---> 63\u001b[0;31m                 \u001b[0;32mreturn\u001b[0m \u001b[0mf\u001b[0m\u001b[0;34m(\u001b[0m\u001b[0;34m*\u001b[0m\u001b[0margs\u001b[0m\u001b[0;34m,\u001b[0m \u001b[0;34m**\u001b[0m\u001b[0mkwargs\u001b[0m\u001b[0;34m)\u001b[0m\u001b[0;34m\u001b[0m\u001b[0;34m\u001b[0m\u001b[0m\n\u001b[0m\u001b[1;32m     64\u001b[0m \u001b[0;34m\u001b[0m\u001b[0m\n\u001b[1;32m     65\u001b[0m             \u001b[0;31m# extra_args > 0\u001b[0m\u001b[0;34m\u001b[0m\u001b[0;34m\u001b[0m\u001b[0m\n",
            "\u001b[0;32m~/opt/anaconda3/lib/python3.9/site-packages/sklearn/pipeline.py\u001b[0m in \u001b[0;36m__init__\u001b[0;34m(self, steps, memory, verbose)\u001b[0m\n\u001b[1;32m    116\u001b[0m         \u001b[0mself\u001b[0m\u001b[0;34m.\u001b[0m\u001b[0mmemory\u001b[0m \u001b[0;34m=\u001b[0m \u001b[0mmemory\u001b[0m\u001b[0;34m\u001b[0m\u001b[0;34m\u001b[0m\u001b[0m\n\u001b[1;32m    117\u001b[0m         \u001b[0mself\u001b[0m\u001b[0;34m.\u001b[0m\u001b[0mverbose\u001b[0m \u001b[0;34m=\u001b[0m \u001b[0mverbose\u001b[0m\u001b[0;34m\u001b[0m\u001b[0;34m\u001b[0m\u001b[0m\n\u001b[0;32m--> 118\u001b[0;31m         \u001b[0mself\u001b[0m\u001b[0;34m.\u001b[0m\u001b[0m_validate_steps\u001b[0m\u001b[0;34m(\u001b[0m\u001b[0;34m)\u001b[0m\u001b[0;34m\u001b[0m\u001b[0;34m\u001b[0m\u001b[0m\n\u001b[0m\u001b[1;32m    119\u001b[0m \u001b[0;34m\u001b[0m\u001b[0m\n\u001b[1;32m    120\u001b[0m     \u001b[0;32mdef\u001b[0m \u001b[0mget_params\u001b[0m\u001b[0;34m(\u001b[0m\u001b[0mself\u001b[0m\u001b[0;34m,\u001b[0m \u001b[0mdeep\u001b[0m\u001b[0;34m=\u001b[0m\u001b[0;32mTrue\u001b[0m\u001b[0;34m)\u001b[0m\u001b[0;34m:\u001b[0m\u001b[0;34m\u001b[0m\u001b[0;34m\u001b[0m\u001b[0m\n",
            "\u001b[0;32m~/opt/anaconda3/lib/python3.9/site-packages/sklearn/pipeline.py\u001b[0m in \u001b[0;36m_validate_steps\u001b[0;34m(self)\u001b[0m\n\u001b[1;32m    166\u001b[0m             if (not (hasattr(t, \"fit\") or hasattr(t, \"fit_transform\")) or not\n\u001b[1;32m    167\u001b[0m                     hasattr(t, \"transform\")):\n\u001b[0;32m--> 168\u001b[0;31m                 raise TypeError(\"All intermediate steps should be \"\n\u001b[0m\u001b[1;32m    169\u001b[0m                                 \u001b[0;34m\"transformers and implement fit and transform \"\u001b[0m\u001b[0;34m\u001b[0m\u001b[0;34m\u001b[0m\u001b[0m\n\u001b[1;32m    170\u001b[0m                                 \u001b[0;34m\"or be the string 'passthrough' \"\u001b[0m\u001b[0;34m\u001b[0m\u001b[0;34m\u001b[0m\u001b[0m\n",
            "\u001b[0;31mTypeError\u001b[0m: All intermediate steps should be transformers and implement fit and transform or be the string 'passthrough' 'KNeighborsClassifier()' (type <class 'sklearn.neighbors._classification.KNeighborsClassifier'>) doesn't"
          ]
        }
      ],
      "source": [
        "# Instantiate pipeline object.\n",
        "pipe_2 = Pipeline([\n",
        "    ('knn', KNeighborsClassifier()),\n",
        "    ('ss', StandardScaler())\n",
        "])"
      ]
    },
    {
      "cell_type": "code",
      "execution_count": null,
      "metadata": {
        "id": "8Ns8-cUFBtWv"
      },
      "outputs": [],
      "source": [
        "# Define dictionary of hyperparameters.\n",
        "pipe_2_params = {\n",
        "    'ss__with_mean': [True,False],\n",
        "    'ss__with_std': [True,False],\n",
        "    'knn__p': [1,2],\n",
        "    'knn__n_neighbors': [3,5,10],\n",
        "    'knn__weights': ['uniform','distance']\n",
        "}"
      ]
    },
    {
      "cell_type": "code",
      "execution_count": null,
      "metadata": {
        "id": "pWE5Fc4aBtWv"
      },
      "outputs": [],
      "source": [
        "# Instantiate our GridSearchCV object.\n",
        "pipe_2_gridsearch = GridSearchCV(pipe_2, # What is the model we want to fit?\n",
        "                                 pipe_2_params, # What is the dictionary of hyperparameters?\n",
        "                                 cv=5, # What number of folds in CV will we use?\n",
        "                                 verbose=1)"
      ]
    },
    {
      "cell_type": "code",
      "execution_count": null,
      "metadata": {
        "id": "xsL9G8D9BtWv"
      },
      "outputs": [],
      "source": [
        "# Fit the GridSearchCV object to the data.\n",
        "pipe_2_gridsearch.fit(X_train, y_train);"
      ]
    },
    {
      "cell_type": "code",
      "execution_count": null,
      "metadata": {
        "id": "xwfrul1fBtWv"
      },
      "outputs": [],
      "source": [
        "# Print out best score.\n",
        "# from documentation: Mean cross-validated score of the best_estimator\n",
        "# https://scikit-learn.org/stable/modules/generated/sklearn.model_selection.GridSearchCV.html\n",
        "\n",
        "pipe_2_gridsearch.best_score_"
      ]
    },
    {
      "cell_type": "code",
      "execution_count": null,
      "metadata": {
        "id": "fBzTnhE8BtWv"
      },
      "outputs": [],
      "source": [
        "# Print out best estimator.\n",
        "pipe_2_gridsearch.best_estimator_"
      ]
    },
    {
      "cell_type": "code",
      "execution_count": null,
      "metadata": {
        "id": "eeplsA7IBtWv"
      },
      "outputs": [],
      "source": [
        "# Evaluate the best model on the test data.\n",
        "pipe_2_gridsearch.score(X_test,y_test)"
      ]
    },
    {
      "cell_type": "markdown",
      "metadata": {
        "id": "EhcFnGJWBtWw"
      },
      "source": [
        "<details><summary>What would you conclude from this output?</summary>\n",
        "    \n",
        "- Our model performs slightly better when cross-validated on our training data than on our testing data, but the difference is pretty small.\n",
        "- There may be slight overfitting.\n",
        "- GridSearching gets us the best performing model on the training set; we always have to take care to not overfit!\n",
        "</details>"
      ]
    },
    {
      "cell_type": "markdown",
      "metadata": {
        "id": "PBpNx2qPBtWw"
      },
      "source": [
        "## Interview Question"
      ]
    },
    {
      "cell_type": "markdown",
      "metadata": {
        "id": "-6u-I28FBtWw"
      },
      "source": [
        "<details><summary>What is the difference between hyperparameters and statistical parameters?</summary>\n",
        "    \n",
        "- Statistical parameters are quantities that a model can learn or estimate. Examples include $\\beta_0$ and $\\beta_1$ in a linear model.\n",
        "- Hyperparameters are quantities our model cannot learn, but affect the fit of our model. Examples include $k$ in $k$-nearest neighbors and $alpha$ in regularization.\n",
        "</details>"
      ]
    },
    {
      "cell_type": "markdown",
      "metadata": {
        "collapsed": true,
        "id": "qzsEazDBBtWw"
      },
      "source": [
        "## (BONUS) RandomizedSearchCV + Visualizing Results\n",
        "\n",
        "When you're exploring a particularly high number of different hyperparameters, it can be advantageous to do a randomized search instead of a GridSearch.\n",
        "\n",
        "`from sklearn.model_selection import RandomizedSearchCV`\n",
        "\n",
        "A good blog post on GridSearch, RandomizedSearch, and visualizing the outputs of these methods [can be found here](https://towardsdatascience.com/using-3d-visualizations-to-tune-hyperparameters-of-ml-models-with-python-ba2885eab2e9).\n",
        "\n",
        "Another good example on RandomizedSearch [here](https://github.com/justmarkham/scikit-learn-tips/blob/master/notebooks/17_randomized_search.ipynb)."
      ]
    },
    {
      "cell_type": "markdown",
      "metadata": {
        "id": "PEzIN1I-BtWw"
      },
      "source": [
        "## (BONUS) make_pipeline\n",
        "\n",
        "`make_pipeline` does the same thing as `pipeline`, but does not require you to name your steps!\n",
        "\n",
        "`from sklearn.pipeline import make_pipeline`\n",
        "\n",
        "See an explanation of the difference between the two [here](https://github.com/justmarkham/scikit-learn-tips/blob/master/notebooks/12_pipeline_vs_make_pipeline.ipynb) and see an example of it used [here](https://github.com/justmarkham/scikit-learn-tips/blob/master/notebooks/08_pipeline.ipynb)."
      ]
    },
    {
      "cell_type": "markdown",
      "metadata": {
        "id": "89yje4h-BtWw"
      },
      "source": [
        "## (BONUS) Named Steps\n",
        "\n",
        "GridSearch not giving you all of the information you need? Want to see what is happening in the intermediate steps in a pipeline? Use the `named_steps` attribute! An example of how to use this can be found [here](https://github.com/justmarkham/scikit-learn-tips/blob/master/notebooks/13_examine_pipeline_steps.ipynb)."
      ]
    }
  ],
  "metadata": {
    "kernelspec": {
      "display_name": "Python 3 (ipykernel)",
      "language": "python",
      "name": "python3"
    },
    "language_info": {
      "codemirror_mode": {
        "name": "ipython",
        "version": 3
      },
      "file_extension": ".py",
      "mimetype": "text/x-python",
      "name": "python",
      "nbconvert_exporter": "python",
      "pygments_lexer": "ipython3",
      "version": "3.9.7"
    },
    "colab": {
      "provenance": []
    }
  },
  "nbformat": 4,
  "nbformat_minor": 0
}