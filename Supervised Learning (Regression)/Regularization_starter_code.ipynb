{
  "cells": [
    {
      "cell_type": "markdown",
      "metadata": {
        "id": "I5PNPAExduqM"
      },
      "source": [
        "\n",
        "\n",
        "# Introduction to Regularization\n",
        "\n"
      ]
    },
    {
      "cell_type": "markdown",
      "metadata": {
        "id": "YWFJFEeqduqO"
      },
      "source": [
        "## Learning Objectives\n",
        "\n",
        "1. Describe what a loss function is.\n",
        "2. Define regularization.\n",
        "3. Describe and differentiate LASSO and Ridge regularization.\n",
        "4. Understand how regularization affects the bias-variance tradeoff.\n",
        "5. Implement LASSO regression and Ridge regression."
      ]
    },
    {
      "cell_type": "markdown",
      "metadata": {
        "id": "rf1waHxDduqO"
      },
      "source": [
        "## Review\n",
        "\n",
        "<details><summary>What is the bias-variance tradeoff?</summary>\n",
        "\n",
        "- Mean squared error can be decomposed into a bias component plus a variance component (plus a systematic error, but we don't have control over this part, so we often ignore it).\n",
        "- The bias-variance tradeoff refers to the fact that taking steps to minimize bias usually comes at the expense of an increase in variance. Similarly, taking steps to minimize variance usually comes at the expense of an increase in bias.\n",
        "\n",
        "</details>\n",
        "\n",
        "---\n",
        "\n",
        "<details><summary>What evidence/information would lead me to believe that my model suffers from high variance?</summary>\n",
        "    \n",
        "- After splitting my data into training and testing sets, if I see that my model performs way better on my training set than my testing set, this means that my model is not generalizing very well to \"new\" data.\n",
        "- An example might be where our training MSE is substantially lower than our testing MSE, or where our training R-squared is substantially higher than our testing R-squared.\n",
        "</details>"
      ]
    },
    {
      "cell_type": "markdown",
      "metadata": {
        "id": "6ZfYYsmxduqP"
      },
      "source": [
        "## Why is high variance bad?\n",
        "\n",
        "High variance is bad because it means that our model doesn't generalize well to new data. This means that our model looks as though it performs well on our training data but won't perform as well on new, unseen data.\n",
        "\n",
        "---\n",
        "<details><summary>How might we try to fix a model that suffers from high variance?</summary>\n",
        "\n",
        "- Gather more data. (Although this is usually expensive and time-consuming.)\n",
        "- Drop features.\n",
        "- Make our existing features less complex. (i.e. get rid of interaction terms or higher order terms.)\n",
        "- Choose a simpler model.\n",
        "- Regularization!\n",
        "</details>"
      ]
    },
    {
      "cell_type": "markdown",
      "metadata": {
        "id": "3hJc7wHnduqP"
      },
      "source": [
        "## Pop Math Quiz\n",
        "\n",
        "### Problem 1\n",
        "**What is the value of $b$ that minimizes...**\n",
        "\n",
        "$$ (y - b)^2 $$\n",
        "\n",
        "<details><summary></summary>\n",
        "When $b = y$, this expression has value 0. Since it's squared, it can't go below that.\n",
        "</details>\n",
        "\n",
        "### Problem 2\n",
        "**What is the value of $b$ that minimizes...**\n",
        "\n",
        "$$ (y - b)^2 + \\alpha b^2 $$\n",
        "\n",
        "where $\\alpha > 0$?\n",
        "\n",
        "<details><summary></summary>\n",
        "This is more complicated, isn't it? You can use calculus and come up with an answer:\n",
        "    \n",
        "$$ \\hat{b} = \\frac{y}{1 + \\alpha} $$\n",
        "\n",
        "But what is the effect of $\\alpha$ on our solution?\n",
        "</details>"
      ]
    },
    {
      "cell_type": "markdown",
      "metadata": {
        "id": "cKC3Wm62duqQ"
      },
      "source": [
        "## Overview of regularization\n",
        "\n",
        "---\n",
        "\n",
        "**Regularizing** regression models is to:\n",
        "- **automatically** avoid overfitting \n",
        "- **while** we fit our model\n",
        "- by adding a \"penalty\" to our loss function.\n",
        "\n",
        "### Before regularziation (OLS):\n",
        "\n",
        "$$\n",
        "\\begin{align}\n",
        "\\text{minimize: MSE} &= \\textstyle\\frac{1}{n}\\sum (y_i - \\hat{y}_i)^2 \\\\ \\\\\n",
        "                     &= \\textstyle\\frac{1}{n}\\|\\mathbf{y} - \\hat{\\mathbf{y}}\\|^2 \\\\ \\\\\n",
        "                     &= \\textstyle\\frac{1}{n}\\|\\mathbf{y} - \\mathbf{X\\beta}\\|^2\n",
        "\\end{align}\n",
        "$$\n",
        "\n",
        "### After regularization (Ridge):\n",
        "\n",
        "$$\n",
        "\\begin{align}\n",
        "\\text{minimize: MSE + penalty} &= \\textstyle\\frac{1}{n}\\sum (y_i - \\hat{y}_i)^2 + \\alpha \\sum \\beta_j^2 \\\\ \\\\\n",
        "                               &= \\textstyle\\frac{1}{n}\\|\\mathbf{y} - \\hat{\\mathbf{y}}\\|^2 + \\alpha \\|\\beta\\|^2 \\\\ \\\\\n",
        "                               &= \\textstyle\\frac{1}{n}\\|\\mathbf{y} - \\mathbf{X}\\hat{\\beta}\\|^2 + \\alpha \\|\\beta\\|^2\n",
        "\\end{align}\n",
        "$$\n",
        "\n",
        "Adding this penalty term onto the end and then minimizing has a similar effect to the one described above. That is, **ridge regression shrinks our regression coefficients closer to zero to make our model simpler**. We are accepting more bias in exchange for decreased variance. We'll be tasked with picking the \"best\" $\\alpha$ that optimizes this bias-variance tradeoff.\n",
        "\n",
        "### Other Variations\n",
        "\n",
        "| Name | Loss Function |\n",
        "| --- | --- |\n",
        "| OLS | MSE |\n",
        "| Ridge Regression | MSE + $\\alpha\\|\\beta\\|^2_2$ |\n",
        "| LASSO Regression | MSE + $\\alpha\\|\\beta\\|_1$ |\n",
        "| $L_q$-Regression | MSE + $\\alpha\\|\\beta\\|^q_q$ |\n",
        "\n",
        "### Sidenote on notation:\n",
        "We'll be using $\\alpha$ to denote our **regularization parameter**, since that's what Scikit-Learn uses. However, this is contrary to data science literature. It is normally denoted with a $\\lambda$. Why? Only Google knows.\n",
        "\n",
        "### [Neat parameter space visualization!](https://timothykbook.shinyapps.io/RegularizationPlot/)"
      ]
    },
    {
      "cell_type": "markdown",
      "metadata": {
        "id": "3cA7d9LuduqQ"
      },
      "source": [
        "## What is the effect of regularization?\n",
        "\n",
        "---\n",
        "\n",
        "**To demonstrate the effects of regularization, we will be using a dataset on wine quality.**\n",
        "\n",
        "### Load the wine .csv\n",
        "\n",
        "This version has red and white wines concatenated together and tagged with a binary 1/0 indicator (1 is red wine). There are many other variables purportedly related to the rated quality of the wine."
      ]
    },
    {
      "cell_type": "code",
      "execution_count": null,
      "metadata": {
        "id": "glEPXwtzduqR"
      },
      "outputs": [],
      "source": [
        "import pandas as pd\n",
        "import numpy as np\n",
        "import matplotlib.pyplot as plt\n",
        "import seaborn as sns\n",
        "\n",
        "sns.set_style('darkgrid')"
      ]
    },
    {
      "cell_type": "code",
      "execution_count": null,
      "metadata": {
        "id": "9DFp8dRmduqS"
      },
      "outputs": [],
      "source": [
        "# Load in the wine .csv.\n",
        "wine = pd.read_csv('/content/winequality_merged.csv')\n",
        "\n",
        "# Convert all columns to lowercase and replace spaces in column names.\n",
        "wine.columns = wine.columns.str.lower().str.replace(' ', '_')"
      ]
    },
    {
      "cell_type": "code",
      "execution_count": null,
      "metadata": {
        "scrolled": true,
        "colab": {
          "base_uri": "https://localhost:8080/",
          "height": 740
        },
        "id": "vQ9rtBNnduqS",
        "outputId": "112c0bbe-6a17-412f-face-604b8f2a9b05"
      },
      "outputs": [
        {
          "output_type": "execute_result",
          "data": {
            "text/plain": [
              "    fixed_acidity  volatile_acidity  citric_acid  residual_sugar  chlorides  \\\n",
              "0             7.4             0.700         0.00             1.9      0.076   \n",
              "1             7.8             0.880         0.00             2.6      0.098   \n",
              "2             7.8             0.760         0.04             2.3      0.092   \n",
              "3            11.2             0.280         0.56             1.9      0.075   \n",
              "4             7.4             0.700         0.00             1.9      0.076   \n",
              "5             7.4             0.660         0.00             1.8      0.075   \n",
              "6             7.9             0.600         0.06             1.6      0.069   \n",
              "7             7.3             0.650         0.00             1.2      0.065   \n",
              "8             7.8             0.580         0.02             2.0      0.073   \n",
              "9             7.5             0.500         0.36             6.1      0.071   \n",
              "10            6.7             0.580         0.08             1.8      0.097   \n",
              "11            7.5             0.500         0.36             6.1      0.071   \n",
              "12            5.6             0.615         0.00             1.6      0.089   \n",
              "13            7.8             0.610         0.29             1.6      0.114   \n",
              "14            8.9             0.620         0.18             3.8      0.176   \n",
              "15            8.9             0.620         0.19             3.9      0.170   \n",
              "16            8.5             0.280         0.56             1.8      0.092   \n",
              "17            8.1             0.560         0.28             1.7      0.368   \n",
              "18            7.4             0.590         0.08             4.4      0.086   \n",
              "19            7.9             0.320         0.51             1.8      0.341   \n",
              "\n",
              "    free_sulfur_dioxide  total_sulfur_dioxide  density    ph  sulphates  \\\n",
              "0                  11.0                  34.0   0.9978  3.51       0.56   \n",
              "1                  25.0                  67.0   0.9968  3.20       0.68   \n",
              "2                  15.0                  54.0   0.9970  3.26       0.65   \n",
              "3                  17.0                  60.0   0.9980  3.16       0.58   \n",
              "4                  11.0                  34.0   0.9978  3.51       0.56   \n",
              "5                  13.0                  40.0   0.9978  3.51       0.56   \n",
              "6                  15.0                  59.0   0.9964  3.30       0.46   \n",
              "7                  15.0                  21.0   0.9946  3.39       0.47   \n",
              "8                   9.0                  18.0   0.9968  3.36       0.57   \n",
              "9                  17.0                 102.0   0.9978  3.35       0.80   \n",
              "10                 15.0                  65.0   0.9959  3.28       0.54   \n",
              "11                 17.0                 102.0   0.9978  3.35       0.80   \n",
              "12                 16.0                  59.0   0.9943  3.58       0.52   \n",
              "13                  9.0                  29.0   0.9974  3.26       1.56   \n",
              "14                 52.0                 145.0   0.9986  3.16       0.88   \n",
              "15                 51.0                 148.0   0.9986  3.17       0.93   \n",
              "16                 35.0                 103.0   0.9969  3.30       0.75   \n",
              "17                 16.0                  56.0   0.9968  3.11       1.28   \n",
              "18                  6.0                  29.0   0.9974  3.38       0.50   \n",
              "19                 17.0                  56.0   0.9969  3.04       1.08   \n",
              "\n",
              "    alcohol  quality  red_wine  \n",
              "0       9.4        5         1  \n",
              "1       9.8        5         1  \n",
              "2       9.8        5         1  \n",
              "3       9.8        6         1  \n",
              "4       9.4        5         1  \n",
              "5       9.4        5         1  \n",
              "6       9.4        5         1  \n",
              "7      10.0        7         1  \n",
              "8       9.5        7         1  \n",
              "9      10.5        5         1  \n",
              "10      9.2        5         1  \n",
              "11     10.5        5         1  \n",
              "12      9.9        5         1  \n",
              "13      9.1        5         1  \n",
              "14      9.2        5         1  \n",
              "15      9.2        5         1  \n",
              "16     10.5        7         1  \n",
              "17      9.3        5         1  \n",
              "18      9.0        4         1  \n",
              "19      9.2        6         1  "
            ],
            "text/html": [
              "\n",
              "  <div id=\"df-a0aebcb4-b1eb-47ba-a378-360e2565ff97\">\n",
              "    <div class=\"colab-df-container\">\n",
              "      <div>\n",
              "<style scoped>\n",
              "    .dataframe tbody tr th:only-of-type {\n",
              "        vertical-align: middle;\n",
              "    }\n",
              "\n",
              "    .dataframe tbody tr th {\n",
              "        vertical-align: top;\n",
              "    }\n",
              "\n",
              "    .dataframe thead th {\n",
              "        text-align: right;\n",
              "    }\n",
              "</style>\n",
              "<table border=\"1\" class=\"dataframe\">\n",
              "  <thead>\n",
              "    <tr style=\"text-align: right;\">\n",
              "      <th></th>\n",
              "      <th>fixed_acidity</th>\n",
              "      <th>volatile_acidity</th>\n",
              "      <th>citric_acid</th>\n",
              "      <th>residual_sugar</th>\n",
              "      <th>chlorides</th>\n",
              "      <th>free_sulfur_dioxide</th>\n",
              "      <th>total_sulfur_dioxide</th>\n",
              "      <th>density</th>\n",
              "      <th>ph</th>\n",
              "      <th>sulphates</th>\n",
              "      <th>alcohol</th>\n",
              "      <th>quality</th>\n",
              "      <th>red_wine</th>\n",
              "    </tr>\n",
              "  </thead>\n",
              "  <tbody>\n",
              "    <tr>\n",
              "      <th>0</th>\n",
              "      <td>7.4</td>\n",
              "      <td>0.700</td>\n",
              "      <td>0.00</td>\n",
              "      <td>1.9</td>\n",
              "      <td>0.076</td>\n",
              "      <td>11.0</td>\n",
              "      <td>34.0</td>\n",
              "      <td>0.9978</td>\n",
              "      <td>3.51</td>\n",
              "      <td>0.56</td>\n",
              "      <td>9.4</td>\n",
              "      <td>5</td>\n",
              "      <td>1</td>\n",
              "    </tr>\n",
              "    <tr>\n",
              "      <th>1</th>\n",
              "      <td>7.8</td>\n",
              "      <td>0.880</td>\n",
              "      <td>0.00</td>\n",
              "      <td>2.6</td>\n",
              "      <td>0.098</td>\n",
              "      <td>25.0</td>\n",
              "      <td>67.0</td>\n",
              "      <td>0.9968</td>\n",
              "      <td>3.20</td>\n",
              "      <td>0.68</td>\n",
              "      <td>9.8</td>\n",
              "      <td>5</td>\n",
              "      <td>1</td>\n",
              "    </tr>\n",
              "    <tr>\n",
              "      <th>2</th>\n",
              "      <td>7.8</td>\n",
              "      <td>0.760</td>\n",
              "      <td>0.04</td>\n",
              "      <td>2.3</td>\n",
              "      <td>0.092</td>\n",
              "      <td>15.0</td>\n",
              "      <td>54.0</td>\n",
              "      <td>0.9970</td>\n",
              "      <td>3.26</td>\n",
              "      <td>0.65</td>\n",
              "      <td>9.8</td>\n",
              "      <td>5</td>\n",
              "      <td>1</td>\n",
              "    </tr>\n",
              "    <tr>\n",
              "      <th>3</th>\n",
              "      <td>11.2</td>\n",
              "      <td>0.280</td>\n",
              "      <td>0.56</td>\n",
              "      <td>1.9</td>\n",
              "      <td>0.075</td>\n",
              "      <td>17.0</td>\n",
              "      <td>60.0</td>\n",
              "      <td>0.9980</td>\n",
              "      <td>3.16</td>\n",
              "      <td>0.58</td>\n",
              "      <td>9.8</td>\n",
              "      <td>6</td>\n",
              "      <td>1</td>\n",
              "    </tr>\n",
              "    <tr>\n",
              "      <th>4</th>\n",
              "      <td>7.4</td>\n",
              "      <td>0.700</td>\n",
              "      <td>0.00</td>\n",
              "      <td>1.9</td>\n",
              "      <td>0.076</td>\n",
              "      <td>11.0</td>\n",
              "      <td>34.0</td>\n",
              "      <td>0.9978</td>\n",
              "      <td>3.51</td>\n",
              "      <td>0.56</td>\n",
              "      <td>9.4</td>\n",
              "      <td>5</td>\n",
              "      <td>1</td>\n",
              "    </tr>\n",
              "    <tr>\n",
              "      <th>5</th>\n",
              "      <td>7.4</td>\n",
              "      <td>0.660</td>\n",
              "      <td>0.00</td>\n",
              "      <td>1.8</td>\n",
              "      <td>0.075</td>\n",
              "      <td>13.0</td>\n",
              "      <td>40.0</td>\n",
              "      <td>0.9978</td>\n",
              "      <td>3.51</td>\n",
              "      <td>0.56</td>\n",
              "      <td>9.4</td>\n",
              "      <td>5</td>\n",
              "      <td>1</td>\n",
              "    </tr>\n",
              "    <tr>\n",
              "      <th>6</th>\n",
              "      <td>7.9</td>\n",
              "      <td>0.600</td>\n",
              "      <td>0.06</td>\n",
              "      <td>1.6</td>\n",
              "      <td>0.069</td>\n",
              "      <td>15.0</td>\n",
              "      <td>59.0</td>\n",
              "      <td>0.9964</td>\n",
              "      <td>3.30</td>\n",
              "      <td>0.46</td>\n",
              "      <td>9.4</td>\n",
              "      <td>5</td>\n",
              "      <td>1</td>\n",
              "    </tr>\n",
              "    <tr>\n",
              "      <th>7</th>\n",
              "      <td>7.3</td>\n",
              "      <td>0.650</td>\n",
              "      <td>0.00</td>\n",
              "      <td>1.2</td>\n",
              "      <td>0.065</td>\n",
              "      <td>15.0</td>\n",
              "      <td>21.0</td>\n",
              "      <td>0.9946</td>\n",
              "      <td>3.39</td>\n",
              "      <td>0.47</td>\n",
              "      <td>10.0</td>\n",
              "      <td>7</td>\n",
              "      <td>1</td>\n",
              "    </tr>\n",
              "    <tr>\n",
              "      <th>8</th>\n",
              "      <td>7.8</td>\n",
              "      <td>0.580</td>\n",
              "      <td>0.02</td>\n",
              "      <td>2.0</td>\n",
              "      <td>0.073</td>\n",
              "      <td>9.0</td>\n",
              "      <td>18.0</td>\n",
              "      <td>0.9968</td>\n",
              "      <td>3.36</td>\n",
              "      <td>0.57</td>\n",
              "      <td>9.5</td>\n",
              "      <td>7</td>\n",
              "      <td>1</td>\n",
              "    </tr>\n",
              "    <tr>\n",
              "      <th>9</th>\n",
              "      <td>7.5</td>\n",
              "      <td>0.500</td>\n",
              "      <td>0.36</td>\n",
              "      <td>6.1</td>\n",
              "      <td>0.071</td>\n",
              "      <td>17.0</td>\n",
              "      <td>102.0</td>\n",
              "      <td>0.9978</td>\n",
              "      <td>3.35</td>\n",
              "      <td>0.80</td>\n",
              "      <td>10.5</td>\n",
              "      <td>5</td>\n",
              "      <td>1</td>\n",
              "    </tr>\n",
              "    <tr>\n",
              "      <th>10</th>\n",
              "      <td>6.7</td>\n",
              "      <td>0.580</td>\n",
              "      <td>0.08</td>\n",
              "      <td>1.8</td>\n",
              "      <td>0.097</td>\n",
              "      <td>15.0</td>\n",
              "      <td>65.0</td>\n",
              "      <td>0.9959</td>\n",
              "      <td>3.28</td>\n",
              "      <td>0.54</td>\n",
              "      <td>9.2</td>\n",
              "      <td>5</td>\n",
              "      <td>1</td>\n",
              "    </tr>\n",
              "    <tr>\n",
              "      <th>11</th>\n",
              "      <td>7.5</td>\n",
              "      <td>0.500</td>\n",
              "      <td>0.36</td>\n",
              "      <td>6.1</td>\n",
              "      <td>0.071</td>\n",
              "      <td>17.0</td>\n",
              "      <td>102.0</td>\n",
              "      <td>0.9978</td>\n",
              "      <td>3.35</td>\n",
              "      <td>0.80</td>\n",
              "      <td>10.5</td>\n",
              "      <td>5</td>\n",
              "      <td>1</td>\n",
              "    </tr>\n",
              "    <tr>\n",
              "      <th>12</th>\n",
              "      <td>5.6</td>\n",
              "      <td>0.615</td>\n",
              "      <td>0.00</td>\n",
              "      <td>1.6</td>\n",
              "      <td>0.089</td>\n",
              "      <td>16.0</td>\n",
              "      <td>59.0</td>\n",
              "      <td>0.9943</td>\n",
              "      <td>3.58</td>\n",
              "      <td>0.52</td>\n",
              "      <td>9.9</td>\n",
              "      <td>5</td>\n",
              "      <td>1</td>\n",
              "    </tr>\n",
              "    <tr>\n",
              "      <th>13</th>\n",
              "      <td>7.8</td>\n",
              "      <td>0.610</td>\n",
              "      <td>0.29</td>\n",
              "      <td>1.6</td>\n",
              "      <td>0.114</td>\n",
              "      <td>9.0</td>\n",
              "      <td>29.0</td>\n",
              "      <td>0.9974</td>\n",
              "      <td>3.26</td>\n",
              "      <td>1.56</td>\n",
              "      <td>9.1</td>\n",
              "      <td>5</td>\n",
              "      <td>1</td>\n",
              "    </tr>\n",
              "    <tr>\n",
              "      <th>14</th>\n",
              "      <td>8.9</td>\n",
              "      <td>0.620</td>\n",
              "      <td>0.18</td>\n",
              "      <td>3.8</td>\n",
              "      <td>0.176</td>\n",
              "      <td>52.0</td>\n",
              "      <td>145.0</td>\n",
              "      <td>0.9986</td>\n",
              "      <td>3.16</td>\n",
              "      <td>0.88</td>\n",
              "      <td>9.2</td>\n",
              "      <td>5</td>\n",
              "      <td>1</td>\n",
              "    </tr>\n",
              "    <tr>\n",
              "      <th>15</th>\n",
              "      <td>8.9</td>\n",
              "      <td>0.620</td>\n",
              "      <td>0.19</td>\n",
              "      <td>3.9</td>\n",
              "      <td>0.170</td>\n",
              "      <td>51.0</td>\n",
              "      <td>148.0</td>\n",
              "      <td>0.9986</td>\n",
              "      <td>3.17</td>\n",
              "      <td>0.93</td>\n",
              "      <td>9.2</td>\n",
              "      <td>5</td>\n",
              "      <td>1</td>\n",
              "    </tr>\n",
              "    <tr>\n",
              "      <th>16</th>\n",
              "      <td>8.5</td>\n",
              "      <td>0.280</td>\n",
              "      <td>0.56</td>\n",
              "      <td>1.8</td>\n",
              "      <td>0.092</td>\n",
              "      <td>35.0</td>\n",
              "      <td>103.0</td>\n",
              "      <td>0.9969</td>\n",
              "      <td>3.30</td>\n",
              "      <td>0.75</td>\n",
              "      <td>10.5</td>\n",
              "      <td>7</td>\n",
              "      <td>1</td>\n",
              "    </tr>\n",
              "    <tr>\n",
              "      <th>17</th>\n",
              "      <td>8.1</td>\n",
              "      <td>0.560</td>\n",
              "      <td>0.28</td>\n",
              "      <td>1.7</td>\n",
              "      <td>0.368</td>\n",
              "      <td>16.0</td>\n",
              "      <td>56.0</td>\n",
              "      <td>0.9968</td>\n",
              "      <td>3.11</td>\n",
              "      <td>1.28</td>\n",
              "      <td>9.3</td>\n",
              "      <td>5</td>\n",
              "      <td>1</td>\n",
              "    </tr>\n",
              "    <tr>\n",
              "      <th>18</th>\n",
              "      <td>7.4</td>\n",
              "      <td>0.590</td>\n",
              "      <td>0.08</td>\n",
              "      <td>4.4</td>\n",
              "      <td>0.086</td>\n",
              "      <td>6.0</td>\n",
              "      <td>29.0</td>\n",
              "      <td>0.9974</td>\n",
              "      <td>3.38</td>\n",
              "      <td>0.50</td>\n",
              "      <td>9.0</td>\n",
              "      <td>4</td>\n",
              "      <td>1</td>\n",
              "    </tr>\n",
              "    <tr>\n",
              "      <th>19</th>\n",
              "      <td>7.9</td>\n",
              "      <td>0.320</td>\n",
              "      <td>0.51</td>\n",
              "      <td>1.8</td>\n",
              "      <td>0.341</td>\n",
              "      <td>17.0</td>\n",
              "      <td>56.0</td>\n",
              "      <td>0.9969</td>\n",
              "      <td>3.04</td>\n",
              "      <td>1.08</td>\n",
              "      <td>9.2</td>\n",
              "      <td>6</td>\n",
              "      <td>1</td>\n",
              "    </tr>\n",
              "  </tbody>\n",
              "</table>\n",
              "</div>\n",
              "      <button class=\"colab-df-convert\" onclick=\"convertToInteractive('df-a0aebcb4-b1eb-47ba-a378-360e2565ff97')\"\n",
              "              title=\"Convert this dataframe to an interactive table.\"\n",
              "              style=\"display:none;\">\n",
              "        \n",
              "  <svg xmlns=\"http://www.w3.org/2000/svg\" height=\"24px\"viewBox=\"0 0 24 24\"\n",
              "       width=\"24px\">\n",
              "    <path d=\"M0 0h24v24H0V0z\" fill=\"none\"/>\n",
              "    <path d=\"M18.56 5.44l.94 2.06.94-2.06 2.06-.94-2.06-.94-.94-2.06-.94 2.06-2.06.94zm-11 1L8.5 8.5l.94-2.06 2.06-.94-2.06-.94L8.5 2.5l-.94 2.06-2.06.94zm10 10l.94 2.06.94-2.06 2.06-.94-2.06-.94-.94-2.06-.94 2.06-2.06.94z\"/><path d=\"M17.41 7.96l-1.37-1.37c-.4-.4-.92-.59-1.43-.59-.52 0-1.04.2-1.43.59L10.3 9.45l-7.72 7.72c-.78.78-.78 2.05 0 2.83L4 21.41c.39.39.9.59 1.41.59.51 0 1.02-.2 1.41-.59l7.78-7.78 2.81-2.81c.8-.78.8-2.07 0-2.86zM5.41 20L4 18.59l7.72-7.72 1.47 1.35L5.41 20z\"/>\n",
              "  </svg>\n",
              "      </button>\n",
              "      \n",
              "  <style>\n",
              "    .colab-df-container {\n",
              "      display:flex;\n",
              "      flex-wrap:wrap;\n",
              "      gap: 12px;\n",
              "    }\n",
              "\n",
              "    .colab-df-convert {\n",
              "      background-color: #E8F0FE;\n",
              "      border: none;\n",
              "      border-radius: 50%;\n",
              "      cursor: pointer;\n",
              "      display: none;\n",
              "      fill: #1967D2;\n",
              "      height: 32px;\n",
              "      padding: 0 0 0 0;\n",
              "      width: 32px;\n",
              "    }\n",
              "\n",
              "    .colab-df-convert:hover {\n",
              "      background-color: #E2EBFA;\n",
              "      box-shadow: 0px 1px 2px rgba(60, 64, 67, 0.3), 0px 1px 3px 1px rgba(60, 64, 67, 0.15);\n",
              "      fill: #174EA6;\n",
              "    }\n",
              "\n",
              "    [theme=dark] .colab-df-convert {\n",
              "      background-color: #3B4455;\n",
              "      fill: #D2E3FC;\n",
              "    }\n",
              "\n",
              "    [theme=dark] .colab-df-convert:hover {\n",
              "      background-color: #434B5C;\n",
              "      box-shadow: 0px 1px 3px 1px rgba(0, 0, 0, 0.15);\n",
              "      filter: drop-shadow(0px 1px 2px rgba(0, 0, 0, 0.3));\n",
              "      fill: #FFFFFF;\n",
              "    }\n",
              "  </style>\n",
              "\n",
              "      <script>\n",
              "        const buttonEl =\n",
              "          document.querySelector('#df-a0aebcb4-b1eb-47ba-a378-360e2565ff97 button.colab-df-convert');\n",
              "        buttonEl.style.display =\n",
              "          google.colab.kernel.accessAllowed ? 'block' : 'none';\n",
              "\n",
              "        async function convertToInteractive(key) {\n",
              "          const element = document.querySelector('#df-a0aebcb4-b1eb-47ba-a378-360e2565ff97');\n",
              "          const dataTable =\n",
              "            await google.colab.kernel.invokeFunction('convertToInteractive',\n",
              "                                                     [key], {});\n",
              "          if (!dataTable) return;\n",
              "\n",
              "          const docLinkHtml = 'Like what you see? Visit the ' +\n",
              "            '<a target=\"_blank\" href=https://colab.research.google.com/notebooks/data_table.ipynb>data table notebook</a>'\n",
              "            + ' to learn more about interactive tables.';\n",
              "          element.innerHTML = '';\n",
              "          dataTable['output_type'] = 'display_data';\n",
              "          await google.colab.output.renderOutput(dataTable, element);\n",
              "          const docLink = document.createElement('div');\n",
              "          docLink.innerHTML = docLinkHtml;\n",
              "          element.appendChild(docLink);\n",
              "        }\n",
              "      </script>\n",
              "    </div>\n",
              "  </div>\n",
              "  "
            ]
          },
          "metadata": {},
          "execution_count": 45
        }
      ],
      "source": [
        "# Check the first five rows.\n",
        "wine.head(20)"
      ]
    },
    {
      "cell_type": "code",
      "execution_count": null,
      "metadata": {
        "colab": {
          "base_uri": "https://localhost:8080/"
        },
        "id": "A422ti7jduqT",
        "outputId": "f105ef81-dba5-406e-ede5-3b268c99dc18"
      },
      "outputs": [
        {
          "output_type": "execute_result",
          "data": {
            "text/plain": [
              "(6497, 13)"
            ]
          },
          "metadata": {},
          "execution_count": 4
        }
      ],
      "source": [
        "# How big is this dataset?\n",
        "wine.shape"
      ]
    },
    {
      "cell_type": "code",
      "execution_count": null,
      "metadata": {
        "colab": {
          "base_uri": "https://localhost:8080/"
        },
        "id": "iuJgh0tNduqU",
        "outputId": "b7398e3d-5cd2-4334-ee31-2fc164e35e40"
      },
      "outputs": [
        {
          "output_type": "execute_result",
          "data": {
            "text/plain": [
              "fixed_acidity           0\n",
              "volatile_acidity        0\n",
              "citric_acid             0\n",
              "residual_sugar          0\n",
              "chlorides               0\n",
              "free_sulfur_dioxide     0\n",
              "total_sulfur_dioxide    0\n",
              "density                 0\n",
              "ph                      0\n",
              "sulphates               0\n",
              "alcohol                 0\n",
              "quality                 0\n",
              "red_wine                0\n",
              "dtype: int64"
            ]
          },
          "metadata": {},
          "execution_count": 5
        }
      ],
      "source": [
        "# Check for missing values.\n",
        "wine.isnull().sum()"
      ]
    },
    {
      "cell_type": "code",
      "execution_count": null,
      "metadata": {
        "id": "M0p2K66DduqU"
      },
      "outputs": [],
      "source": [
        "from sklearn.preprocessing import PolynomialFeatures\n",
        "\n",
        "# Create X and y.\n",
        "X = wine.drop('quality', axis=1)\n",
        "y = wine['quality']\n",
        "\n",
        "# Instantiate our PolynomialFeatures object to create all two-way terms.\n",
        "# Write the code \n",
        "poly = PolynomialFeatures(degree=2, interaction_only=False, include_bias=False)\n",
        "\n",
        "# Fit and transform our X data.\n",
        "X_overfit=poly.fit_transform(X)"
      ]
    },
    {
      "cell_type": "code",
      "execution_count": null,
      "metadata": {
        "scrolled": true,
        "colab": {
          "base_uri": "https://localhost:8080/"
        },
        "id": "da0aLQwEduqU",
        "outputId": "72c6f22a-5515-4239-8e47-864d4fd8857c"
      },
      "outputs": [
        {
          "output_type": "stream",
          "name": "stderr",
          "text": [
            "/usr/local/lib/python3.7/dist-packages/sklearn/utils/deprecation.py:87: FutureWarning: Function get_feature_names is deprecated; get_feature_names is deprecated in 1.0 and will be removed in 1.2. Please use get_feature_names_out instead.\n",
            "  warnings.warn(msg, category=FutureWarning)\n"
          ]
        },
        {
          "output_type": "execute_result",
          "data": {
            "text/plain": [
              "['fixed_acidity',\n",
              " 'volatile_acidity',\n",
              " 'citric_acid',\n",
              " 'residual_sugar',\n",
              " 'chlorides',\n",
              " 'free_sulfur_dioxide',\n",
              " 'total_sulfur_dioxide',\n",
              " 'density',\n",
              " 'ph',\n",
              " 'sulphates',\n",
              " 'alcohol',\n",
              " 'red_wine',\n",
              " 'fixed_acidity^2',\n",
              " 'fixed_acidity volatile_acidity',\n",
              " 'fixed_acidity citric_acid',\n",
              " 'fixed_acidity residual_sugar',\n",
              " 'fixed_acidity chlorides',\n",
              " 'fixed_acidity free_sulfur_dioxide',\n",
              " 'fixed_acidity total_sulfur_dioxide',\n",
              " 'fixed_acidity density',\n",
              " 'fixed_acidity ph',\n",
              " 'fixed_acidity sulphates',\n",
              " 'fixed_acidity alcohol',\n",
              " 'fixed_acidity red_wine',\n",
              " 'volatile_acidity^2',\n",
              " 'volatile_acidity citric_acid',\n",
              " 'volatile_acidity residual_sugar',\n",
              " 'volatile_acidity chlorides',\n",
              " 'volatile_acidity free_sulfur_dioxide',\n",
              " 'volatile_acidity total_sulfur_dioxide',\n",
              " 'volatile_acidity density',\n",
              " 'volatile_acidity ph',\n",
              " 'volatile_acidity sulphates',\n",
              " 'volatile_acidity alcohol',\n",
              " 'volatile_acidity red_wine',\n",
              " 'citric_acid^2',\n",
              " 'citric_acid residual_sugar',\n",
              " 'citric_acid chlorides',\n",
              " 'citric_acid free_sulfur_dioxide',\n",
              " 'citric_acid total_sulfur_dioxide',\n",
              " 'citric_acid density',\n",
              " 'citric_acid ph',\n",
              " 'citric_acid sulphates',\n",
              " 'citric_acid alcohol',\n",
              " 'citric_acid red_wine',\n",
              " 'residual_sugar^2',\n",
              " 'residual_sugar chlorides',\n",
              " 'residual_sugar free_sulfur_dioxide',\n",
              " 'residual_sugar total_sulfur_dioxide',\n",
              " 'residual_sugar density',\n",
              " 'residual_sugar ph',\n",
              " 'residual_sugar sulphates',\n",
              " 'residual_sugar alcohol',\n",
              " 'residual_sugar red_wine',\n",
              " 'chlorides^2',\n",
              " 'chlorides free_sulfur_dioxide',\n",
              " 'chlorides total_sulfur_dioxide',\n",
              " 'chlorides density',\n",
              " 'chlorides ph',\n",
              " 'chlorides sulphates',\n",
              " 'chlorides alcohol',\n",
              " 'chlorides red_wine',\n",
              " 'free_sulfur_dioxide^2',\n",
              " 'free_sulfur_dioxide total_sulfur_dioxide',\n",
              " 'free_sulfur_dioxide density',\n",
              " 'free_sulfur_dioxide ph',\n",
              " 'free_sulfur_dioxide sulphates',\n",
              " 'free_sulfur_dioxide alcohol',\n",
              " 'free_sulfur_dioxide red_wine',\n",
              " 'total_sulfur_dioxide^2',\n",
              " 'total_sulfur_dioxide density',\n",
              " 'total_sulfur_dioxide ph',\n",
              " 'total_sulfur_dioxide sulphates',\n",
              " 'total_sulfur_dioxide alcohol',\n",
              " 'total_sulfur_dioxide red_wine',\n",
              " 'density^2',\n",
              " 'density ph',\n",
              " 'density sulphates',\n",
              " 'density alcohol',\n",
              " 'density red_wine',\n",
              " 'ph^2',\n",
              " 'ph sulphates',\n",
              " 'ph alcohol',\n",
              " 'ph red_wine',\n",
              " 'sulphates^2',\n",
              " 'sulphates alcohol',\n",
              " 'sulphates red_wine',\n",
              " 'alcohol^2',\n",
              " 'alcohol red_wine',\n",
              " 'red_wine^2']"
            ]
          },
          "metadata": {},
          "execution_count": 47
        }
      ],
      "source": [
        "poly.get_feature_names(X.columns)"
      ]
    },
    {
      "cell_type": "code",
      "execution_count": null,
      "metadata": {
        "colab": {
          "base_uri": "https://localhost:8080/"
        },
        "id": "BHzTLYyOduqU",
        "outputId": "0ea0b840-91c0-4ecf-f487-a79ee602b2de"
      },
      "outputs": [
        {
          "output_type": "execute_result",
          "data": {
            "text/plain": [
              "(6497, 90)"
            ]
          },
          "metadata": {},
          "execution_count": 48
        }
      ],
      "source": [
        "# Check out the dimensions of X_overfit.\n",
        "X_overfit.shape"
      ]
    },
    {
      "cell_type": "markdown",
      "metadata": {
        "id": "k-wTY3DmduqV"
      },
      "source": [
        "#### Let's split our data up into training and testing sets. Why do we split our data into training and testing sets?"
      ]
    },
    {
      "cell_type": "code",
      "execution_count": null,
      "metadata": {
        "id": "FMLzctHKduqV"
      },
      "outputs": [],
      "source": [
        "# Import train_test_split.\n",
        "from sklearn.model_selection import train_test_split\n",
        "from sklearn.preprocessing import StandardScaler"
      ]
    },
    {
      "cell_type": "code",
      "execution_count": null,
      "metadata": {
        "id": "eZRbgIModuqV"
      },
      "outputs": [],
      "source": [
        "# Create train/test splits.\n",
        "X_train, X_test, y_train, y_test = train_test_split(\n",
        "    X_overfit,\n",
        "    y,\n",
        "    test_size=0.7,\n",
        "    random_state=42\n",
        ")"
      ]
    },
    {
      "cell_type": "code",
      "execution_count": null,
      "metadata": {
        "id": "PVkLI6naduqV"
      },
      "outputs": [],
      "source": [
        "# Scale our data.\n",
        "# Relabeling scaled data as \"Z\" is common.\n",
        "# write the code\n",
        "\n",
        "sc = StandardScaler()\n",
        "Z_train= sc.fit_transform(X_train) \n",
        "Z_test= sc.transform(X_test)"
      ]
    },
    {
      "cell_type": "code",
      "execution_count": null,
      "metadata": {
        "colab": {
          "base_uri": "https://localhost:8080/"
        },
        "id": "4dCCdCMkduqW",
        "outputId": "36753517-1340-4c58-cf84-2315de2d0a7b"
      },
      "outputs": [
        {
          "output_type": "stream",
          "name": "stdout",
          "text": [
            "Z_train shape is: (1949, 90)\n",
            "y_train shape is: (1949,)\n",
            "Z_test shape is: (4548, 90)\n",
            "y_test shape is: (4548,)\n"
          ]
        }
      ],
      "source": [
        "print(f'Z_train shape is: {Z_train.shape}')\n",
        "print(f'y_train shape is: {y_train.shape}')\n",
        "print(f'Z_test shape is: {Z_test.shape}')\n",
        "print(f'y_test shape is: {y_test.shape}')"
      ]
    },
    {
      "cell_type": "markdown",
      "metadata": {
        "id": "M0kq5NvFduqW"
      },
      "source": [
        "## Standardizing predictors is required\n",
        "\n",
        "Let's remind ourselves of our new loss function:\n",
        "\n",
        "$$MSE + \\alpha \\|\\beta\\|^2$$\n",
        "\n",
        "<details><summary>Why do you think regularization is required?</summary>\n",
        "Recall that the size of each coefficient depends on the scale of its corresponding variable. Our penalty term depends on these coefficients. Scaling is required so that the regularization penalizes each variable equally fairly.\n",
        "</details>"
      ]
    },
    {
      "cell_type": "markdown",
      "metadata": {
        "id": "rgOy-OCTduqW"
      },
      "source": [
        "## But First: OLS"
      ]
    },
    {
      "cell_type": "code",
      "execution_count": null,
      "metadata": {
        "id": "cbR-UTBPduqX"
      },
      "outputs": [],
      "source": [
        "# Import the appropriate library and fit our OLS model.\n",
        "\n",
        "from sklearn.linear_model import LinearRegression"
      ]
    },
    {
      "cell_type": "code",
      "execution_count": null,
      "metadata": {
        "colab": {
          "base_uri": "https://localhost:8080/"
        },
        "id": "Mfm-JeM5duqX",
        "outputId": "680e9681-f475-4f9f-b05e-a56e90513a48"
      },
      "outputs": [
        {
          "output_type": "execute_result",
          "data": {
            "text/plain": [
              "LinearRegression()"
            ]
          },
          "metadata": {},
          "execution_count": 54
        }
      ],
      "source": [
        "ols = LinearRegression()\n",
        "ols.fit(Z_train,y_train)"
      ]
    },
    {
      "cell_type": "code",
      "execution_count": null,
      "metadata": {
        "colab": {
          "base_uri": "https://localhost:8080/"
        },
        "id": "uRrQzQyXduqX",
        "outputId": "beb5cd07-e57e-43cf-b750-ae584303de61"
      },
      "outputs": [
        {
          "output_type": "stream",
          "name": "stdout",
          "text": [
            "0.4069819524268262\n",
            "0.2202154703984347\n"
          ]
        }
      ],
      "source": [
        "# How does the model score on the training and test data?\n",
        "print(ols.score(Z_train,y_train))\n",
        "print(ols.score(Z_test,y_test))"
      ]
    },
    {
      "cell_type": "code",
      "execution_count": null,
      "metadata": {
        "colab": {
          "base_uri": "https://localhost:8080/"
        },
        "id": "alx8ifEmduqX",
        "outputId": "f4f9116b-4658-42c4-cdc3-e5cea607702d"
      },
      "outputs": [
        {
          "output_type": "execute_result",
          "data": {
            "text/plain": [
              "array([-6.25749886e+01, -3.02971610e+01, -5.01103963e+01, -1.31671753e+02,\n",
              "       -6.05594065e+01, -6.69469156e+01,  1.06254306e+02,  1.17149975e+02,\n",
              "       -3.63264002e+01, -5.28038087e+01,  9.10286690e+01, -2.06348431e-01,\n",
              "       -7.51604769e-01, -1.51877470e-01, -2.69504397e-01, -6.37134850e-01,\n",
              "       -1.46230396e+00, -5.61003144e-01,  6.66040229e-01,  6.43672195e+01,\n",
              "       -1.63465852e-01, -2.26602773e-01,  4.96393198e-01,  3.61062695e-01,\n",
              "       -1.51450896e-02, -5.61980374e-02, -2.76987557e-01,  3.72765182e-02,\n",
              "       -8.77421185e-03,  2.51096607e-01,  2.84960544e+01,  3.51506311e-01,\n",
              "       -1.52413698e-01,  1.45769693e+00,  2.63918881e-01, -1.26622223e-01,\n",
              "       -2.43408218e-01,  1.68109546e-01,  8.29009668e-02,  4.50602888e-02,\n",
              "        5.04419929e+01, -9.30023851e-01, -1.83270244e-01,  1.19871740e+00,\n",
              "       -1.10452250e-01, -1.13190897e+00, -1.43140646e-01, -3.35884795e-01,\n",
              "        6.51264578e-01,  1.37020668e+02, -4.10760519e+00, -4.42930669e-01,\n",
              "        1.96024882e+00, -6.01626316e-04, -7.61869531e-02,  2.23652985e-02,\n",
              "        9.85787647e-03,  6.45538000e+01, -2.87536586e+00, -4.29803772e-01,\n",
              "        3.14710047e-01,  5.30273571e-01, -4.25254962e-01, -6.13732452e-02,\n",
              "        6.79066188e+01, -5.44968749e-01, -1.30674394e-02,  8.75062467e-01,\n",
              "       -2.23554697e-01, -1.58264426e-01, -1.07925318e+02,  1.68698251e+00,\n",
              "       -2.19329916e-01, -9.65456965e-01,  7.90225966e-03, -1.20302370e+02,\n",
              "        3.71343238e+01,  5.29574543e+01, -9.05710724e+01,  1.21392830e+00,\n",
              "       -3.62151613e-01,  3.41483119e-01,  6.92294829e-01, -2.04858829e+00,\n",
              "       -1.44178773e-01,  7.05009344e-01, -1.52124346e-01, -7.72992111e-01,\n",
              "        1.02063677e+00, -2.06348431e-01])"
            ]
          },
          "metadata": {},
          "execution_count": 56
        }
      ],
      "source": [
        "ols.coef_"
      ]
    },
    {
      "cell_type": "markdown",
      "metadata": {
        "id": "kZFpLHnGduqY"
      },
      "source": [
        "(THREAD) What do these $R^2$s tell you?"
      ]
    },
    {
      "cell_type": "markdown",
      "metadata": {
        "id": "WkA-oBw8duqY"
      },
      "source": [
        "## And Now: Ridge\n",
        "\n",
        "### Let's think about this...\n",
        "\n",
        "$$ \\|\\mathbf{y} - \\mathbf{X}\\beta\\|^2 + \\alpha\\|\\beta\\|^2 $$\n",
        "\n",
        "<details><summary>What's the optimal value of $\\beta$ when $\\alpha = 0$?</summary>\n",
        "Our problem reduces to OLS, so it's the good old fashioned OLS solution! For the math nerds playing along from home, that's:\n",
        "    \n",
        "$$ \\hat{\\beta} = (\\mathbf{X}^T\\mathbf{X})^{-1}\\mathbf{X}^T\\mathbf{y} $$\n",
        "</details>\n",
        "\n",
        "<details><summary>What's the optimal value of $\\beta$ when $\\alpha = \\infty$?</summary>\n",
        "Anything besides $\\hat{\\beta} = \\mathbf{0}$ will cause our whole loss function to be $\\infty$. So, it must be that $\\hat{\\beta} = \\mathbf{0}$!\n",
        "</details>\n",
        "\n",
        "<details><summary>Some facts...</summary>\n",
        "$\\alpha$ is a constant for the _strength_ of the regularization parameter. The higher the value, the greater the impact of this new component in the loss function. If the value was zero, we would revert back to just the least squares loss function. If the value was a billion, however, the residual sum of squares component would have a much smaller effect on the loss/cost than the regularization term.\n",
        "</details>"
      ]
    },
    {
      "cell_type": "markdown",
      "metadata": {
        "id": "vLVzktnzduqY"
      },
      "source": [
        "### We can look at a traceplot to see this:\n",
        "\n",
        "<img src=\"https://www.cvxpy.org/_images/ridge_regression_11_0.svg\" style=\"float: left; margin: 20px; height: 500px\">\n"
      ]
    },
    {
      "cell_type": "markdown",
      "metadata": {
        "id": "pYomWbTqduqY"
      },
      "source": [
        "### Ok, so which $\\alpha$ is best?\n",
        "\n",
        "We'll primarily choose the optimal $\\alpha$ via **cross validation**."
      ]
    },
    {
      "cell_type": "code",
      "execution_count": null,
      "metadata": {
        "id": "X_kK-bEIduqZ"
      },
      "outputs": [],
      "source": [
        "# Ridge regressor lives here:\n",
        "from sklearn.linear_model import Ridge"
      ]
    },
    {
      "cell_type": "code",
      "execution_count": null,
      "metadata": {
        "colab": {
          "base_uri": "https://localhost:8080/"
        },
        "id": "-mNrh8LYduqZ",
        "outputId": "adf7d379-3e04-4c89-ffcc-b99374741fdf"
      },
      "outputs": [
        {
          "output_type": "stream",
          "name": "stdout",
          "text": [
            "0.37708346347575294\n",
            "0.24423639703200817\n"
          ]
        }
      ],
      "source": [
        "# Instantiate.\n",
        "ridge_model = Ridge(alpha=10)\n",
        "\n",
        "# Fit.\n",
        "ridge_model.fit(Z_train,y_train)\n",
        "\n",
        "# Evaluate model using R2.\n",
        "print(ridge_model.score(Z_train,y_train))\n",
        "print(ridge_model.score(Z_test,y_test))\n"
      ]
    },
    {
      "cell_type": "markdown",
      "metadata": {
        "id": "xS78K5kZduqZ"
      },
      "source": [
        "(THREAD) What do these $R^2$s tell you?"
      ]
    },
    {
      "cell_type": "markdown",
      "metadata": {
        "id": "diDL8ydFduqa"
      },
      "source": [
        "## Brute-forcing the answer"
      ]
    },
    {
      "cell_type": "code",
      "execution_count": null,
      "metadata": {
        "id": "DHV_bCWKduqa"
      },
      "outputs": [],
      "source": [
        "from sklearn.linear_model import RidgeCV"
      ]
    },
    {
      "cell_type": "code",
      "execution_count": null,
      "metadata": {
        "id": "1u3vHcToduqa"
      },
      "outputs": [],
      "source": [
        "# Set up a list of ridge alphas to check.\n",
        "# np.logspace generates 100 values equally between 0 and 5,\n",
        "# then converts them to alphas between 10^0 and 10^5.\n",
        "r_alpha = np.logspace(0,5,100)\n",
        "\n",
        "# Cross-validate over our list of ridge alphas.\n",
        "ridge_cv = RidgeCV(alphas = r_alpha, scoring= 'r2', cv = 5)\n",
        "\n",
        "# Fit model using best ridge alpha!\n",
        "ridge_cv = ridge_cv.fit(Z_train,y_train)"
      ]
    },
    {
      "cell_type": "code",
      "execution_count": null,
      "metadata": {
        "colab": {
          "base_uri": "https://localhost:8080/"
        },
        "id": "MO-F5xTYduqa",
        "outputId": "e381885a-d2ff-49e6-c8d1-d183e17bf0f5"
      },
      "outputs": [
        {
          "output_type": "execute_result",
          "data": {
            "text/plain": [
              "RidgeCV(alphas=array([1.00000000e+00, 1.12332403e+00, 1.26185688e+00, 1.41747416e+00,\n",
              "       1.59228279e+00, 1.78864953e+00, 2.00923300e+00, 2.25701972e+00,\n",
              "       2.53536449e+00, 2.84803587e+00, 3.19926714e+00, 3.59381366e+00,\n",
              "       4.03701726e+00, 4.53487851e+00, 5.09413801e+00, 5.72236766e+00,\n",
              "       6.42807312e+00, 7.22080902e+00, 8.11130831e+00, 9.11162756e+00,\n",
              "       1.02353102e+01, 1.14975700e+0...\n",
              "       6.89261210e+03, 7.74263683e+03, 8.69749003e+03, 9.77009957e+03,\n",
              "       1.09749877e+04, 1.23284674e+04, 1.38488637e+04, 1.55567614e+04,\n",
              "       1.74752840e+04, 1.96304065e+04, 2.20513074e+04, 2.47707636e+04,\n",
              "       2.78255940e+04, 3.12571585e+04, 3.51119173e+04, 3.94420606e+04,\n",
              "       4.43062146e+04, 4.97702356e+04, 5.59081018e+04, 6.28029144e+04,\n",
              "       7.05480231e+04, 7.92482898e+04, 8.90215085e+04, 1.00000000e+05]),\n",
              "        cv=5, scoring='r2')"
            ]
          },
          "metadata": {},
          "execution_count": 60
        }
      ],
      "source": [
        "# Here is the optimal value of alpha\n",
        "ridge_cv\n"
      ]
    },
    {
      "cell_type": "markdown",
      "metadata": {
        "id": "mHliwKT4duqb"
      },
      "source": [
        "Our `ridge_model` object is actually already the model with the optimal $\\alpha$. Let's get the corresponding value of $R^2$."
      ]
    },
    {
      "cell_type": "code",
      "execution_count": null,
      "metadata": {
        "colab": {
          "base_uri": "https://localhost:8080/"
        },
        "id": "ApdcVT7hduqb",
        "outputId": "7f223bfb-9d9d-4e4f-a5b6-ea88a464707a"
      },
      "outputs": [
        {
          "output_type": "stream",
          "name": "stdout",
          "text": [
            "0.34845153627219094\n",
            "0.2948887163699778\n"
          ]
        }
      ],
      "source": [
        "print(ridge_cv.score(Z_train,y_train))\n",
        "print(ridge_cv.score(Z_test,y_test))"
      ]
    },
    {
      "cell_type": "markdown",
      "metadata": {
        "id": "yHsSXIK4duqb"
      },
      "source": [
        "(THREAD) What do these $R^2$s tell you?"
      ]
    },
    {
      "cell_type": "markdown",
      "metadata": {
        "id": "zFHwgkZcduqb"
      },
      "source": [
        "## Defining the LASSO\n",
        "\n",
        "LASSO regression is largely the same as ridge, except with a different penalty term.\n",
        "\n",
        "$$\n",
        "\\begin{align}\n",
        "\\text{minimize: MSE + penalty} &= \\textstyle\\frac{1}{n}\\sum (y_i - \\hat{y}_i)^2 + \\alpha \\sum |\\beta_j| \\\\ \\\\\n",
        "                               &= \\textstyle\\frac{1}{n}\\|\\mathbf{y} - \\hat{\\mathbf{y}}\\|^2 + \\alpha \\|\\beta\\|_1 \\\\ \\\\\n",
        "                               &= \\textstyle\\frac{1}{n}\\|\\mathbf{y} - \\mathbf{X}\\hat{\\beta}\\|^2 + \\alpha \\|\\beta\\|_1\n",
        "\\end{align}\n",
        "$$\n",
        "\n",
        "The penalty is now made up from the **$\\mathcal{l}_1$-norm**, otherwise known as **Manhattan distance**. It is simply the absolute sum of the vector components.\n",
        "\n",
        "<img src=\"https://www.researchgate.net/publication/343852831/figure/fig2/AS:936836184698880@1600370560185/LASSO-regression-for-the-selection-of-characteristic-parameters-A-Penalty-graph-of.png\" style=\"float: left; margin: 20px; height: 500px\">"
      ]
    },
    {
      "cell_type": "markdown",
      "metadata": {
        "id": "TvEZ-ssdduqb"
      },
      "source": [
        "### The LASSO traceplot looks a little different...\n",
        "But I don't want to show it to you yet! We'll see it soon and discuss what LASSO actually does differently from Ridge."
      ]
    },
    {
      "cell_type": "code",
      "execution_count": null,
      "metadata": {
        "id": "peHZyUdTduqb"
      },
      "outputs": [],
      "source": [
        "# Imports similar to Ridge\n",
        "from sklearn.linear_model import Lasso, LassoCV"
      ]
    },
    {
      "cell_type": "markdown",
      "metadata": {
        "id": "h-gFpg1Iduqc"
      },
      "source": [
        "## LASSO Regression"
      ]
    },
    {
      "cell_type": "code",
      "execution_count": null,
      "metadata": {
        "colab": {
          "base_uri": "https://localhost:8080/"
        },
        "id": "iSbJddOAduqc",
        "outputId": "0c86c075-ddcf-406b-b77d-6ed17dbc81bf"
      },
      "outputs": [
        {
          "output_type": "stream",
          "name": "stdout",
          "text": [
            "====== OLS =======\n",
            "0.4069819524268262\n",
            "0.2202154703984347\n",
            "\n",
            "===== Ridge ======\n",
            "0.34845153627219094\n",
            "0.2948887163699778\n"
          ]
        }
      ],
      "source": [
        "# Reminders\n",
        "print(\" OLS \".center(18, \"=\"))\n",
        "print(ols.score(Z_train, y_train))\n",
        "print(ols.score(Z_test, y_test))\n",
        "print()\n",
        "print(\" Ridge \".center(18, \"=\"))\n",
        "print(ridge_cv.score(Z_train, y_train))\n",
        "print(ridge_cv.score(Z_test, y_test))"
      ]
    },
    {
      "cell_type": "code",
      "execution_count": null,
      "metadata": {
        "colab": {
          "base_uri": "https://localhost:8080/"
        },
        "id": "aKciVokxduqc",
        "outputId": "84ab9ec1-d954-4802-e240-0a910ead3a93"
      },
      "outputs": [
        {
          "output_type": "stream",
          "name": "stderr",
          "text": [
            "/usr/local/lib/python3.7/dist-packages/sklearn/linear_model/_coordinate_descent.py:644: ConvergenceWarning: Objective did not converge. You might want to increase the number of iterations. Duality gap: 0.1390382137094548, tolerance: 0.11911789608723566\n",
            "  positive,\n",
            "/usr/local/lib/python3.7/dist-packages/sklearn/linear_model/_coordinate_descent.py:644: ConvergenceWarning: Objective did not converge. You might want to increase the number of iterations. Duality gap: 0.3877023038289735, tolerance: 0.11911789608723566\n",
            "  positive,\n",
            "/usr/local/lib/python3.7/dist-packages/sklearn/linear_model/_coordinate_descent.py:644: ConvergenceWarning: Objective did not converge. You might want to increase the number of iterations. Duality gap: 0.5703295118405549, tolerance: 0.11911789608723566\n",
            "  positive,\n",
            "/usr/local/lib/python3.7/dist-packages/sklearn/linear_model/_coordinate_descent.py:644: ConvergenceWarning: Objective did not converge. You might want to increase the number of iterations. Duality gap: 0.6072066179021931, tolerance: 0.11911789608723566\n",
            "  positive,\n",
            "/usr/local/lib/python3.7/dist-packages/sklearn/linear_model/_coordinate_descent.py:644: ConvergenceWarning: Objective did not converge. You might want to increase the number of iterations. Duality gap: 0.8239616358332569, tolerance: 0.11911789608723566\n",
            "  positive,\n",
            "/usr/local/lib/python3.7/dist-packages/sklearn/linear_model/_coordinate_descent.py:644: ConvergenceWarning: Objective did not converge. You might want to increase the number of iterations. Duality gap: 0.9263431541817226, tolerance: 0.11911789608723566\n",
            "  positive,\n",
            "/usr/local/lib/python3.7/dist-packages/sklearn/linear_model/_coordinate_descent.py:644: ConvergenceWarning: Objective did not converge. You might want to increase the number of iterations. Duality gap: 0.9381259167682856, tolerance: 0.11911789608723566\n",
            "  positive,\n",
            "/usr/local/lib/python3.7/dist-packages/sklearn/linear_model/_coordinate_descent.py:644: ConvergenceWarning: Objective did not converge. You might want to increase the number of iterations. Duality gap: 0.8321267704614002, tolerance: 0.11911789608723566\n",
            "  positive,\n",
            "/usr/local/lib/python3.7/dist-packages/sklearn/linear_model/_coordinate_descent.py:644: ConvergenceWarning: Objective did not converge. You might want to increase the number of iterations. Duality gap: 0.9585763153248763, tolerance: 0.11911789608723566\n",
            "  positive,\n",
            "/usr/local/lib/python3.7/dist-packages/sklearn/linear_model/_coordinate_descent.py:644: ConvergenceWarning: Objective did not converge. You might want to increase the number of iterations. Duality gap: 1.0990755405698565, tolerance: 0.11911789608723566\n",
            "  positive,\n",
            "/usr/local/lib/python3.7/dist-packages/sklearn/linear_model/_coordinate_descent.py:644: ConvergenceWarning: Objective did not converge. You might want to increase the number of iterations. Duality gap: 1.1656515906274763, tolerance: 0.11911789608723566\n",
            "  positive,\n",
            "/usr/local/lib/python3.7/dist-packages/sklearn/linear_model/_coordinate_descent.py:644: ConvergenceWarning: Objective did not converge. You might want to increase the number of iterations. Duality gap: 0.9904347843850019, tolerance: 0.11911789608723566\n",
            "  positive,\n",
            "/usr/local/lib/python3.7/dist-packages/sklearn/linear_model/_coordinate_descent.py:644: ConvergenceWarning: Objective did not converge. You might want to increase the number of iterations. Duality gap: 0.21278818942596445, tolerance: 0.1147298268120591\n",
            "  positive,\n",
            "/usr/local/lib/python3.7/dist-packages/sklearn/linear_model/_coordinate_descent.py:644: ConvergenceWarning: Objective did not converge. You might want to increase the number of iterations. Duality gap: 0.24379250362289895, tolerance: 0.1147298268120591\n",
            "  positive,\n",
            "/usr/local/lib/python3.7/dist-packages/sklearn/linear_model/_coordinate_descent.py:644: ConvergenceWarning: Objective did not converge. You might want to increase the number of iterations. Duality gap: 0.2915618880392685, tolerance: 0.1147298268120591\n",
            "  positive,\n",
            "/usr/local/lib/python3.7/dist-packages/sklearn/linear_model/_coordinate_descent.py:644: ConvergenceWarning: Objective did not converge. You might want to increase the number of iterations. Duality gap: 0.6655390205751246, tolerance: 0.1147298268120591\n",
            "  positive,\n",
            "/usr/local/lib/python3.7/dist-packages/sklearn/linear_model/_coordinate_descent.py:644: ConvergenceWarning: Objective did not converge. You might want to increase the number of iterations. Duality gap: 0.7187841011602814, tolerance: 0.1147298268120591\n",
            "  positive,\n",
            "/usr/local/lib/python3.7/dist-packages/sklearn/linear_model/_coordinate_descent.py:644: ConvergenceWarning: Objective did not converge. You might want to increase the number of iterations. Duality gap: 0.7212640306663616, tolerance: 0.1147298268120591\n",
            "  positive,\n",
            "/usr/local/lib/python3.7/dist-packages/sklearn/linear_model/_coordinate_descent.py:644: ConvergenceWarning: Objective did not converge. You might want to increase the number of iterations. Duality gap: 0.8008115445616113, tolerance: 0.1147298268120591\n",
            "  positive,\n",
            "/usr/local/lib/python3.7/dist-packages/sklearn/linear_model/_coordinate_descent.py:644: ConvergenceWarning: Objective did not converge. You might want to increase the number of iterations. Duality gap: 0.707268126947838, tolerance: 0.1147298268120591\n",
            "  positive,\n",
            "/usr/local/lib/python3.7/dist-packages/sklearn/linear_model/_coordinate_descent.py:644: ConvergenceWarning: Objective did not converge. You might want to increase the number of iterations. Duality gap: 0.7230408242904787, tolerance: 0.1147298268120591\n",
            "  positive,\n",
            "/usr/local/lib/python3.7/dist-packages/sklearn/linear_model/_coordinate_descent.py:644: ConvergenceWarning: Objective did not converge. You might want to increase the number of iterations. Duality gap: 0.7661043086352493, tolerance: 0.1147298268120591\n",
            "  positive,\n",
            "/usr/local/lib/python3.7/dist-packages/sklearn/linear_model/_coordinate_descent.py:644: ConvergenceWarning: Objective did not converge. You might want to increase the number of iterations. Duality gap: 0.6541605763168263, tolerance: 0.1147298268120591\n",
            "  positive,\n",
            "/usr/local/lib/python3.7/dist-packages/sklearn/linear_model/_coordinate_descent.py:644: ConvergenceWarning: Objective did not converge. You might want to increase the number of iterations. Duality gap: 0.7830662122978538, tolerance: 0.1147298268120591\n",
            "  positive,\n",
            "/usr/local/lib/python3.7/dist-packages/sklearn/linear_model/_coordinate_descent.py:644: ConvergenceWarning: Objective did not converge. You might want to increase the number of iterations. Duality gap: 0.7267494768982488, tolerance: 0.1147298268120591\n",
            "  positive,\n",
            "/usr/local/lib/python3.7/dist-packages/sklearn/linear_model/_coordinate_descent.py:644: ConvergenceWarning: Objective did not converge. You might want to increase the number of iterations. Duality gap: 0.9697796191244379, tolerance: 0.1147298268120591\n",
            "  positive,\n",
            "/usr/local/lib/python3.7/dist-packages/sklearn/linear_model/_coordinate_descent.py:644: ConvergenceWarning: Objective did not converge. You might want to increase the number of iterations. Duality gap: 0.25603312823079705, tolerance: 0.11279486850545213\n",
            "  positive,\n",
            "/usr/local/lib/python3.7/dist-packages/sklearn/linear_model/_coordinate_descent.py:644: ConvergenceWarning: Objective did not converge. You might want to increase the number of iterations. Duality gap: 0.2354894276795676, tolerance: 0.11279486850545213\n",
            "  positive,\n",
            "/usr/local/lib/python3.7/dist-packages/sklearn/linear_model/_coordinate_descent.py:644: ConvergenceWarning: Objective did not converge. You might want to increase the number of iterations. Duality gap: 0.313165411674845, tolerance: 0.11279486850545213\n",
            "  positive,\n",
            "/usr/local/lib/python3.7/dist-packages/sklearn/linear_model/_coordinate_descent.py:644: ConvergenceWarning: Objective did not converge. You might want to increase the number of iterations. Duality gap: 0.5970826153113649, tolerance: 0.11279486850545213\n",
            "  positive,\n",
            "/usr/local/lib/python3.7/dist-packages/sklearn/linear_model/_coordinate_descent.py:644: ConvergenceWarning: Objective did not converge. You might want to increase the number of iterations. Duality gap: 0.7993752948314068, tolerance: 0.11279486850545213\n",
            "  positive,\n",
            "/usr/local/lib/python3.7/dist-packages/sklearn/linear_model/_coordinate_descent.py:644: ConvergenceWarning: Objective did not converge. You might want to increase the number of iterations. Duality gap: 1.176895305307994, tolerance: 0.11279486850545213\n",
            "  positive,\n",
            "/usr/local/lib/python3.7/dist-packages/sklearn/linear_model/_coordinate_descent.py:644: ConvergenceWarning: Objective did not converge. You might want to increase the number of iterations. Duality gap: 1.0300252204291382, tolerance: 0.11279486850545213\n",
            "  positive,\n",
            "/usr/local/lib/python3.7/dist-packages/sklearn/linear_model/_coordinate_descent.py:644: ConvergenceWarning: Objective did not converge. You might want to increase the number of iterations. Duality gap: 1.1327840131706353, tolerance: 0.11279486850545213\n",
            "  positive,\n",
            "/usr/local/lib/python3.7/dist-packages/sklearn/linear_model/_coordinate_descent.py:644: ConvergenceWarning: Objective did not converge. You might want to increase the number of iterations. Duality gap: 1.264689097335122, tolerance: 0.11279486850545213\n",
            "  positive,\n",
            "/usr/local/lib/python3.7/dist-packages/sklearn/linear_model/_coordinate_descent.py:644: ConvergenceWarning: Objective did not converge. You might want to increase the number of iterations. Duality gap: 1.3723632054181962, tolerance: 0.11279486850545213\n",
            "  positive,\n",
            "/usr/local/lib/python3.7/dist-packages/sklearn/linear_model/_coordinate_descent.py:644: ConvergenceWarning: Objective did not converge. You might want to increase the number of iterations. Duality gap: 2.0209804215530767, tolerance: 0.11279486850545213\n",
            "  positive,\n",
            "/usr/local/lib/python3.7/dist-packages/sklearn/linear_model/_coordinate_descent.py:644: ConvergenceWarning: Objective did not converge. You might want to increase the number of iterations. Duality gap: 0.13731045829797495, tolerance: 0.12144194996792815\n",
            "  positive,\n",
            "/usr/local/lib/python3.7/dist-packages/sklearn/linear_model/_coordinate_descent.py:644: ConvergenceWarning: Objective did not converge. You might want to increase the number of iterations. Duality gap: 0.15644254511221334, tolerance: 0.12144194996792815\n",
            "  positive,\n",
            "/usr/local/lib/python3.7/dist-packages/sklearn/linear_model/_coordinate_descent.py:644: ConvergenceWarning: Objective did not converge. You might want to increase the number of iterations. Duality gap: 0.21369972099159895, tolerance: 0.12144194996792815\n",
            "  positive,\n",
            "/usr/local/lib/python3.7/dist-packages/sklearn/linear_model/_coordinate_descent.py:644: ConvergenceWarning: Objective did not converge. You might want to increase the number of iterations. Duality gap: 0.3413463466711164, tolerance: 0.12144194996792815\n",
            "  positive,\n",
            "/usr/local/lib/python3.7/dist-packages/sklearn/linear_model/_coordinate_descent.py:644: ConvergenceWarning: Objective did not converge. You might want to increase the number of iterations. Duality gap: 0.3820201659059421, tolerance: 0.12144194996792815\n",
            "  positive,\n",
            "/usr/local/lib/python3.7/dist-packages/sklearn/linear_model/_coordinate_descent.py:644: ConvergenceWarning: Objective did not converge. You might want to increase the number of iterations. Duality gap: 0.3301608956033988, tolerance: 0.12144194996792815\n",
            "  positive,\n",
            "/usr/local/lib/python3.7/dist-packages/sklearn/linear_model/_coordinate_descent.py:644: ConvergenceWarning: Objective did not converge. You might want to increase the number of iterations. Duality gap: 0.3647943954791799, tolerance: 0.12144194996792815\n",
            "  positive,\n",
            "/usr/local/lib/python3.7/dist-packages/sklearn/linear_model/_coordinate_descent.py:644: ConvergenceWarning: Objective did not converge. You might want to increase the number of iterations. Duality gap: 0.6312047161202372, tolerance: 0.12144194996792815\n",
            "  positive,\n",
            "/usr/local/lib/python3.7/dist-packages/sklearn/linear_model/_coordinate_descent.py:644: ConvergenceWarning: Objective did not converge. You might want to increase the number of iterations. Duality gap: 0.46097487207180166, tolerance: 0.12144194996792815\n",
            "  positive,\n",
            "/usr/local/lib/python3.7/dist-packages/sklearn/linear_model/_coordinate_descent.py:644: ConvergenceWarning: Objective did not converge. You might want to increase the number of iterations. Duality gap: 0.48806461091567144, tolerance: 0.12144194996792815\n",
            "  positive,\n",
            "/usr/local/lib/python3.7/dist-packages/sklearn/linear_model/_coordinate_descent.py:644: ConvergenceWarning: Objective did not converge. You might want to increase the number of iterations. Duality gap: 0.49622681088135323, tolerance: 0.12144194996792815\n",
            "  positive,\n",
            "/usr/local/lib/python3.7/dist-packages/sklearn/linear_model/_coordinate_descent.py:644: ConvergenceWarning: Objective did not converge. You might want to increase the number of iterations. Duality gap: 0.5789852984999015, tolerance: 0.12144194996792815\n",
            "  positive,\n",
            "/usr/local/lib/python3.7/dist-packages/sklearn/linear_model/_coordinate_descent.py:644: ConvergenceWarning: Objective did not converge. You might want to increase the number of iterations. Duality gap: 0.7125739117077501, tolerance: 0.12144194996792815\n",
            "  positive,\n",
            "/usr/local/lib/python3.7/dist-packages/sklearn/linear_model/_coordinate_descent.py:644: ConvergenceWarning: Objective did not converge. You might want to increase the number of iterations. Duality gap: 2.817600515702452, tolerance: 0.12144194996792815\n",
            "  positive,\n",
            "/usr/local/lib/python3.7/dist-packages/sklearn/linear_model/_coordinate_descent.py:644: ConvergenceWarning: Objective did not converge. You might want to increase the number of iterations. Duality gap: 6.283968800517641, tolerance: 0.12144194996792815\n",
            "  positive,\n",
            "/usr/local/lib/python3.7/dist-packages/sklearn/linear_model/_coordinate_descent.py:644: ConvergenceWarning: Objective did not converge. You might want to increase the number of iterations. Duality gap: 7.9656797122145235, tolerance: 0.12144194996792815\n",
            "  positive,\n",
            "/usr/local/lib/python3.7/dist-packages/sklearn/linear_model/_coordinate_descent.py:644: ConvergenceWarning: Objective did not converge. You might want to increase the number of iterations. Duality gap: 0.16332581449353256, tolerance: 0.1167630769230769\n",
            "  positive,\n",
            "/usr/local/lib/python3.7/dist-packages/sklearn/linear_model/_coordinate_descent.py:644: ConvergenceWarning: Objective did not converge. You might want to increase the number of iterations. Duality gap: 0.12745613294850955, tolerance: 0.1167630769230769\n",
            "  positive,\n",
            "/usr/local/lib/python3.7/dist-packages/sklearn/linear_model/_coordinate_descent.py:644: ConvergenceWarning: Objective did not converge. You might want to increase the number of iterations. Duality gap: 0.518756948813234, tolerance: 0.1167630769230769\n",
            "  positive,\n",
            "/usr/local/lib/python3.7/dist-packages/sklearn/linear_model/_coordinate_descent.py:644: ConvergenceWarning: Objective did not converge. You might want to increase the number of iterations. Duality gap: 0.7871093562096121, tolerance: 0.1167630769230769\n",
            "  positive,\n",
            "/usr/local/lib/python3.7/dist-packages/sklearn/linear_model/_coordinate_descent.py:644: ConvergenceWarning: Objective did not converge. You might want to increase the number of iterations. Duality gap: 0.9151035245221237, tolerance: 0.1167630769230769\n",
            "  positive,\n",
            "/usr/local/lib/python3.7/dist-packages/sklearn/linear_model/_coordinate_descent.py:644: ConvergenceWarning: Objective did not converge. You might want to increase the number of iterations. Duality gap: 0.7004320959583765, tolerance: 0.1167630769230769\n",
            "  positive,\n",
            "/usr/local/lib/python3.7/dist-packages/sklearn/linear_model/_coordinate_descent.py:644: ConvergenceWarning: Objective did not converge. You might want to increase the number of iterations. Duality gap: 0.74603327580121, tolerance: 0.1167630769230769\n",
            "  positive,\n",
            "/usr/local/lib/python3.7/dist-packages/sklearn/linear_model/_coordinate_descent.py:644: ConvergenceWarning: Objective did not converge. You might want to increase the number of iterations. Duality gap: 0.8712877439379554, tolerance: 0.1167630769230769\n",
            "  positive,\n",
            "/usr/local/lib/python3.7/dist-packages/sklearn/linear_model/_coordinate_descent.py:644: ConvergenceWarning: Objective did not converge. You might want to increase the number of iterations. Duality gap: 0.7502001829419669, tolerance: 0.1167630769230769\n",
            "  positive,\n",
            "/usr/local/lib/python3.7/dist-packages/sklearn/linear_model/_coordinate_descent.py:644: ConvergenceWarning: Objective did not converge. You might want to increase the number of iterations. Duality gap: 0.7258801107295767, tolerance: 0.1167630769230769\n",
            "  positive,\n",
            "/usr/local/lib/python3.7/dist-packages/sklearn/linear_model/_coordinate_descent.py:644: ConvergenceWarning: Objective did not converge. You might want to increase the number of iterations. Duality gap: 0.7673623394501874, tolerance: 0.1167630769230769\n",
            "  positive,\n",
            "/usr/local/lib/python3.7/dist-packages/sklearn/linear_model/_coordinate_descent.py:644: ConvergenceWarning: Objective did not converge. You might want to increase the number of iterations. Duality gap: 1.2274200853479442, tolerance: 0.1167630769230769\n",
            "  positive,\n",
            "/usr/local/lib/python3.7/dist-packages/sklearn/linear_model/_coordinate_descent.py:644: ConvergenceWarning: Objective did not converge. You might want to increase the number of iterations. Duality gap: 1.3321331232471039, tolerance: 0.1167630769230769\n",
            "  positive,\n",
            "/usr/local/lib/python3.7/dist-packages/sklearn/linear_model/_coordinate_descent.py:644: ConvergenceWarning: Objective did not converge. You might want to increase the number of iterations. Duality gap: 1.224845321372186, tolerance: 0.1167630769230769\n",
            "  positive,\n",
            "/usr/local/lib/python3.7/dist-packages/sklearn/linear_model/_coordinate_descent.py:648: ConvergenceWarning: Objective did not converge. You might want to increase the number of iterations, check the scale of the features or consider increasing regularisation. Duality gap: 1.523e-01, tolerance: 1.462e-01\n",
            "  coef_, l1_reg, l2_reg, X, y, max_iter, tol, rng, random, positive\n"
          ]
        },
        {
          "output_type": "execute_result",
          "data": {
            "text/plain": [
              "LassoCV(alphas=array([1.00000000e-03, 1.09749877e-03, 1.20450354e-03, 1.32194115e-03,\n",
              "       1.45082878e-03, 1.59228279e-03, 1.74752840e-03, 1.91791026e-03,\n",
              "       2.10490414e-03, 2.31012970e-03, 2.53536449e-03, 2.78255940e-03,\n",
              "       3.05385551e-03, 3.35160265e-03, 3.67837977e-03, 4.03701726e-03,\n",
              "       4.43062146e-03, 4.86260158e-03, 5.33669923e-03, 5.85702082e-03,\n",
              "       6.42807312e-03, 7.05480231e-0...\n",
              "       1.17681195e+00, 1.29154967e+00, 1.41747416e+00, 1.55567614e+00,\n",
              "       1.70735265e+00, 1.87381742e+00, 2.05651231e+00, 2.25701972e+00,\n",
              "       2.47707636e+00, 2.71858824e+00, 2.98364724e+00, 3.27454916e+00,\n",
              "       3.59381366e+00, 3.94420606e+00, 4.32876128e+00, 4.75081016e+00,\n",
              "       5.21400829e+00, 5.72236766e+00, 6.28029144e+00, 6.89261210e+00,\n",
              "       7.56463328e+00, 8.30217568e+00, 9.11162756e+00, 1.00000000e+01]),\n",
              "        cv=5, max_iter=500)"
            ]
          },
          "metadata": {},
          "execution_count": 65
        }
      ],
      "source": [
        "# Set up a list of Lasso alphas to check.\n",
        "l_alphas = np.logspace(-3,1,100)\n",
        "\n",
        "# Cross-validate over our list of Lasso alphas.\n",
        "lasso_cv = LassoCV (alphas=l_alphas, cv = 5, max_iter=500)\n",
        "\n",
        "# Fit model using best ridge alpha!\n",
        "lasso_cv.fit(Z_train,y_train)"
      ]
    },
    {
      "cell_type": "code",
      "execution_count": null,
      "metadata": {
        "colab": {
          "base_uri": "https://localhost:8080/"
        },
        "id": "suNr2pDiduqc",
        "outputId": "f8bf5a77-9f98-4cd1-c994-11fb1a4dfce6"
      },
      "outputs": [
        {
          "output_type": "execute_result",
          "data": {
            "text/plain": [
              "0.007742636826811269"
            ]
          },
          "metadata": {},
          "execution_count": 66
        }
      ],
      "source": [
        "# Here is the optimal value of alpha\n",
        "lasso_cv.alpha_"
      ]
    },
    {
      "cell_type": "code",
      "execution_count": null,
      "metadata": {
        "colab": {
          "base_uri": "https://localhost:8080/"
        },
        "id": "uuPzCWq4duqc",
        "outputId": "033b1605-7050-44cc-b6bf-ca3bc183b787"
      },
      "outputs": [
        {
          "output_type": "stream",
          "name": "stdout",
          "text": [
            "===== Ridge ======\n",
            "0.34845153627219094\n",
            "0.2948887163699778\n",
            "===== Lasso ======\n",
            "0.33621370243054727\n",
            "0.2860461159944676\n"
          ]
        }
      ],
      "source": [
        "print(\" Ridge \".center(18, \"=\"))\n",
        "print(ridge_cv.score(Z_train, y_train))\n",
        "print(ridge_cv.score(Z_test, y_test))\n",
        "print(\" Lasso \".center(18, \"=\"))\n",
        "print(lasso_cv.score(Z_train, y_train))\n",
        "print(lasso_cv.score(Z_test, y_test))"
      ]
    },
    {
      "cell_type": "markdown",
      "metadata": {
        "id": "l-x0uL-jduqd"
      },
      "source": [
        "## Ridge vs LASSO, what's the diff?!\n",
        "Let's check out the coefficients of the Lasso and Ridge models."
      ]
    },
    {
      "cell_type": "code",
      "execution_count": null,
      "metadata": {
        "colab": {
          "base_uri": "https://localhost:8080/"
        },
        "id": "mXP5LC51duqd",
        "outputId": "50bd262f-1b75-4be2-c457-af773ab5133d"
      },
      "outputs": [
        {
          "output_type": "execute_result",
          "data": {
            "text/plain": [
              "array([-7.41082332e-04, -6.73622850e-02,  4.11979658e-03,  3.58118418e-02,\n",
              "       -7.86169814e-03,  7.96837868e-02,  4.07202575e-02, -6.40134004e-02,\n",
              "        1.67657002e-03,  2.63542441e-02,  4.89229448e-02, -5.96326152e-04,\n",
              "        3.97892719e-03, -3.38291402e-02, -4.33716705e-03,  1.37005906e-01,\n",
              "        3.07581441e-02,  3.60944933e-02, -6.74979641e-03,  6.29819066e-04,\n",
              "        8.10392864e-03,  3.73389457e-02,  6.71509211e-03,  7.15269227e-02,\n",
              "        1.12923745e-02, -1.19654956e-02, -7.94404967e-02, -1.56703211e-02,\n",
              "       -3.95481031e-03, -4.59646775e-02, -6.81012094e-02, -6.04899669e-02,\n",
              "       -3.27140260e-04,  4.46369117e-02,  7.03665877e-02, -5.18587000e-02,\n",
              "        2.51915541e-02,  3.39269447e-02,  4.95212161e-02, -2.47711305e-02,\n",
              "        3.96451349e-03,  6.67705387e-04, -3.08860641e-02,  2.35098736e-02,\n",
              "        3.55708420e-02,  3.93321581e-02,  4.86155004e-02, -3.50408563e-02,\n",
              "        5.62724938e-02,  3.71036473e-02, -2.69137546e-02, -1.40643736e-02,\n",
              "       -1.15979037e-02,  8.78107644e-05,  3.67820396e-02,  3.99396816e-02,\n",
              "       -2.57914127e-02, -7.05148813e-03, -3.56592158e-02, -6.10657197e-02,\n",
              "       -3.51923177e-02,  5.83693665e-02, -2.31654728e-01, -7.84090377e-02,\n",
              "        7.82032866e-02,  7.79743584e-02, -6.63106805e-03,  8.87411180e-02,\n",
              "       -1.25820489e-01, -5.84158917e-02,  3.98653270e-02,  4.10661964e-02,\n",
              "       -9.35719900e-02,  3.43253957e-02,  1.76071648e-02, -6.19585469e-02,\n",
              "       -5.50871730e-03,  2.52242484e-02,  4.58625104e-02, -3.51486916e-04,\n",
              "        2.81993685e-03,  5.21772772e-02,  7.11282800e-02, -2.51823938e-02,\n",
              "       -4.76600158e-02,  9.43845468e-02,  1.79373582e-02,  1.14815172e-01,\n",
              "        2.83989485e-02, -5.96326152e-04])"
            ]
          },
          "metadata": {},
          "execution_count": 68
        }
      ],
      "source": [
        "ridge_cv.coef_"
      ]
    },
    {
      "cell_type": "code",
      "execution_count": null,
      "metadata": {
        "colab": {
          "base_uri": "https://localhost:8080/"
        },
        "id": "AymIe_wvduqd",
        "outputId": "f055c7e0-a0d5-4c7c-e6e1-84bb2ca9a012"
      },
      "outputs": [
        {
          "output_type": "execute_result",
          "data": {
            "text/plain": [
              "array([-0.        , -0.12780716, -0.        ,  0.        , -0.        ,\n",
              "        0.        ,  0.        , -0.        ,  0.        ,  0.        ,\n",
              "        0.        ,  0.        , -0.        , -0.        , -0.        ,\n",
              "        0.16752181,  0.        ,  0.        , -0.        , -0.        ,\n",
              "       -0.        ,  0.        , -0.        ,  0.06254187, -0.        ,\n",
              "       -0.        , -0.05153085, -0.        , -0.        , -0.07402563,\n",
              "       -0.02806421, -0.        , -0.        , -0.        ,  0.        ,\n",
              "       -0.00981988,  0.        ,  0.        ,  0.        , -0.        ,\n",
              "       -0.        , -0.        , -0.        , -0.        ,  0.01685656,\n",
              "        0.        ,  0.        ,  0.        ,  0.        ,  0.        ,\n",
              "       -0.        , -0.        , -0.        ,  0.        ,  0.        ,\n",
              "        0.        , -0.        , -0.        , -0.        , -0.        ,\n",
              "       -0.        ,  0.00233917, -0.28238536, -0.        ,  0.01355428,\n",
              "        0.11877586,  0.        ,  0.25463434, -0.0640954 , -0.        ,\n",
              "        0.        ,  0.        , -0.05101157,  0.        ,  0.        ,\n",
              "       -0.        ,  0.        ,  0.        ,  0.        ,  0.        ,\n",
              "        0.        ,  0.        ,  0.0140221 ,  0.        , -0.        ,\n",
              "        0.11353608,  0.        ,  0.29303406,  0.        ,  0.        ])"
            ]
          },
          "metadata": {},
          "execution_count": 69
        }
      ],
      "source": [
        "lasso_cv.coef_"
      ]
    },
    {
      "cell_type": "markdown",
      "metadata": {
        "id": "ycxQD5fkduqd"
      },
      "source": [
        "## Cliffsnotes: L.A.S.S.O.\n",
        "LASSO is actually an acronym:\n",
        "\n",
        "* **L**east\n",
        "* **A**bsolute\n",
        "* **S**hrinkage and\n",
        "* **S**election\n",
        "* **O**perator\n",
        "\n",
        "**SHRINKAGE**: Higher $\\alpha$ \"shrinks\" $\\beta$ towards $\\mathbf{0}$.\n",
        "\n",
        "**SELECTION**: Higher $\\alpha$ zeros out small $\\beta$s.\n",
        "\n",
        "![](../imgs/lasso-trace.svg)\n",
        "\n",
        "## So, um, what was LASSO doing here?\n",
        "If you're an ultra math nerd, you might have noticed something fishy about our \"penalty parameter\" $\\alpha$. We're doing an optimization problem, so actually, this $\\alpha$ is a **Lagrange multiplier**. This means that optimizing our loss function:\n",
        "\n",
        "$$ \\|\\mathbf{y} - \\mathbf{X}\\beta\\|^2 + \\alpha\\|\\beta\\|_1 $$\n",
        "\n",
        "is equivalent to optimizing the **constrained loss function**:\n",
        "\n",
        "$$ \\|\\mathbf{y} - \\mathbf{X}\\beta\\|^2 \\quad \\text{such that} \\quad \\|\\beta\\|_1 \\le t $$\n",
        "\n",
        "## [BRING IN THE APP!](https://timothykbook.shinyapps.io/RegularizationPlot/)"
      ]
    },
    {
      "cell_type": "markdown",
      "metadata": {
        "id": "0CLFhb-Kduqd"
      },
      "source": [
        "# Regularizing Logistic Regression: You've been doing it all along!"
      ]
    },
    {
      "cell_type": "code",
      "execution_count": null,
      "metadata": {
        "id": "K7bUwON3duqd"
      },
      "outputs": [],
      "source": [
        "from sklearn.linear_model import LogisticRegression, LogisticRegressionCV"
      ]
    },
    {
      "cell_type": "markdown",
      "metadata": {
        "id": "346WSsvxduqe"
      },
      "source": [
        "### Let's take a look at the LogisticRegression documentation:"
      ]
    },
    {
      "cell_type": "code",
      "execution_count": null,
      "metadata": {
        "scrolled": true,
        "id": "PA1k2aqCduqe",
        "outputId": "c7b00a30-ab7f-46cc-8cdf-b50f60d0f864",
        "colab": {
          "base_uri": "https://localhost:8080/"
        }
      },
      "outputs": [
        {
          "output_type": "execute_result",
          "data": {
            "text/plain": [
              "LogisticRegression()"
            ]
          },
          "metadata": {},
          "execution_count": 31
        }
      ],
      "source": [
        "LogisticRegression()"
      ]
    },
    {
      "cell_type": "markdown",
      "metadata": {
        "id": "IcMdOX12duqe"
      },
      "source": [
        "### Regularization is the hidden default for logistic regression. What a pain!\n",
        "Unless regularization is necessary, **it should not be done!!** (It makes interpreting the coefficients much more difficult.) In newer version of Scikit-Learn, you can finally turn this feature off!\n",
        "\n",
        "If you _do_ want to regularize, note that there is a much friendlier `LogisticRegressionCV` we will use."
      ]
    },
    {
      "cell_type": "code",
      "execution_count": null,
      "metadata": {
        "id": "AJrhilKVduqe",
        "outputId": "40e2a4bc-9962-499b-b21c-146e16e0b0b3",
        "colab": {
          "base_uri": "https://localhost:8080/"
        }
      },
      "outputs": [
        {
          "output_type": "execute_result",
          "data": {
            "text/plain": [
              "LogisticRegression(penalty='none')"
            ]
          },
          "metadata": {},
          "execution_count": 32
        }
      ],
      "source": [
        "LogisticRegression(penalty='none')"
      ]
    },
    {
      "cell_type": "code",
      "execution_count": null,
      "metadata": {
        "id": "p4TySyamduqe"
      },
      "outputs": [],
      "source": [
        "from sklearn.datasets import make_classification"
      ]
    },
    {
      "cell_type": "code",
      "execution_count": null,
      "metadata": {
        "id": "hfBEMhE6duqe"
      },
      "outputs": [],
      "source": [
        "X, y = make_classification(\n",
        "    n_samples=1000,\n",
        "    n_features=200,\n",
        "    n_informative=15,\n",
        "    random_state=123\n",
        ")\n",
        "\n",
        "X_train, X_test, y_train, y_test = train_test_split(X, y, random_state=123)\n",
        "\n",
        "sc = StandardScaler()\n",
        "X_train_sc = sc.fit_transform(X_train)\n",
        "X_test_sc = sc.transform(X_test)"
      ]
    },
    {
      "cell_type": "code",
      "execution_count": null,
      "metadata": {
        "id": "B5tyYzrKduqf",
        "outputId": "8a801d6b-e090-4f9b-98a9-2aae4039d4f8",
        "colab": {
          "base_uri": "https://localhost:8080/"
        }
      },
      "outputs": [
        {
          "output_type": "stream",
          "name": "stdout",
          "text": [
            "0.9306666666666666\n",
            "0.636\n"
          ]
        }
      ],
      "source": [
        "logreg = LogisticRegression(C=1e9, solver='lbfgs')\n",
        "logreg.fit(X_train_sc, y_train)\n",
        "\n",
        "# Overfit!\n",
        "print(logreg.score(X_train_sc, y_train))\n",
        "print(logreg.score(X_test_sc, y_test))"
      ]
    },
    {
      "cell_type": "code",
      "execution_count": null,
      "metadata": {
        "id": "tU5MWhMtduqf",
        "outputId": "51622d5a-4adb-4077-8bb8-e0849d6077dd",
        "colab": {
          "base_uri": "https://localhost:8080/"
        }
      },
      "outputs": [
        {
          "output_type": "stream",
          "name": "stdout",
          "text": [
            "0.8146666666666667\n",
            "0.812\n"
          ]
        }
      ],
      "source": [
        "logreg_cv = LogisticRegressionCV(Cs=10, cv=5, penalty=\"l1\", solver=\"liblinear\")\n",
        "logreg_cv.fit(X_train_sc, y_train)\n",
        "\n",
        "print(logreg_cv.score(X_train_sc, y_train))\n",
        "print(logreg_cv.score(X_test_sc, y_test))"
      ]
    },
    {
      "cell_type": "code",
      "execution_count": null,
      "metadata": {
        "id": "Gp7lPe1cduqf",
        "outputId": "5c9acc12-5a7a-47dd-dee7-5bdb34dc43c4",
        "colab": {
          "base_uri": "https://localhost:8080/"
        }
      },
      "outputs": [
        {
          "output_type": "execute_result",
          "data": {
            "text/plain": [
              "array([0.04641589])"
            ]
          },
          "metadata": {},
          "execution_count": 37
        }
      ],
      "source": [
        "logreg_cv.C_"
      ]
    },
    {
      "cell_type": "markdown",
      "metadata": {
        "id": "D6Ew8Bj-duqf"
      },
      "source": [
        "# Elephant in the Room: Categorical Variables\n",
        "Think about it. What does it mean to scale a binary variable? How about a categorical variable dummified into several columns? What does it mean to shrink the coefficients associated with these columns? What happens if the LASSO zeros out one category, but not others? I don't know, either.\n",
        "\n",
        "It turns out, it's not a great idea to combine scaling and categorical data. It often just doesn't make sense to do. This is true for all algorithms where we need to scale, including kNN. So what do we do? A few options:\n",
        "\n",
        "* Set separate regularization parameters for each x-variable (not available in Scikit-Learn).\n",
        "* Carry out the _grouped LASSO_ technique (not available in Scikit-Learn, and doesn't solve all problems anyway).\n",
        "* Manually decide on a scale for these variables (time consuming, unintuitive, still doesn't work with regularization).\n",
        "* Don't use those variables (but you want them!).\n",
        "* Just do it anyway. Who knows, it'll probably be fine! (¯\\_(ツ)_/¯)"
      ]
    },
    {
      "cell_type": "markdown",
      "metadata": {
        "id": "ridXPPSnduqg"
      },
      "source": [
        "## Important Notes\n",
        "- The $\\alpha$ hyperparameter for regularization is **unrelated** to significance level in hypothesis testing.\n",
        "- In certain resources, including [ISLR](http://www-bcf.usc.edu/~gareth/ISL/ISLR%20Seventh%20Printing.pdf), you'll see that $\\lambda$ is used instead of $\\alpha$ for regularization strength.\n",
        "- We must standardize before regularizing, but regularization and standardization are not the same things!\n",
        "- **FROM NOW ON, YOU MUST PAY ATTENTION TO REGULARIZATION WHEN CONDUCTING LOGISTIC REGRESSION!!!**\n",
        "- Ridge regression is sometimes called **weight decay**, but usually only when regularizing neural networks.\n",
        "- LASSO regression is sometimes called **basis pursuit**, but that's very old fashioned.\n",
        "- The y-intercept for these models are not regularized.\n",
        "\n",
        "## Recap\n",
        "- Regularization is used when evidence suggests our model is suffering from high error due to variance.\n",
        "- Evidence to suggest our model suffers from high error due to variance includes substantially better performance on our training set than our testing set.\n",
        "- LASSO tends to be \"more brutal\" than Ridge regularization in that it will zero out coefficients.\n",
        "- If you want to combine LASSO and Ridge regularization, there is a technique called \"ElasticNet\" that does exactly this."
      ]
    },
    {
      "cell_type": "markdown",
      "metadata": {
        "id": "_1-jTxTBduqg"
      },
      "source": [
        "## ElasticNet Regression (bonus)\n",
        "\n",
        "---\n",
        "\n",
        "Can't decide?\n",
        "\n",
        "![](../imgs/why-not-both.jpg)\n",
        "\n",
        "The Elastic Net combines the Ridge and Lasso penalties.  It adds *both* penalties to the loss function:\n",
        "\n",
        "$$\n",
        "\\begin{eqnarray}\n",
        "SSE + Ridge + Lasso &=& \\sum_{i=1}^n \\left(y_i - \\hat{y}_i\\right)^2 + \\alpha\\left[\\rho\\sum_{j=1}^p |\\beta_j| + (1-\\rho)\\sum_{j=1}^p \\beta_j^2\\right] \\\\\n",
        "&=& \\|\\mathbf{y} - \\mathbf{X}\\beta\\|^2 + \\alpha\\left(\\rho\\|\\beta\\|_1 + (1 - \\rho)\\|\\beta\\|^2\\right)\n",
        "\\end{eqnarray}\n",
        "$$\n",
        "\n",
        "\n",
        "In the elastic net, the effect of the ridge versus the lasso is balanced by the $\\rho$ parameter.  It is the ratio of Lasso penalty to Ridge penalty and must be between zero and one.\n",
        "\n",
        "`ElasticNet` in sklearn has two parameters:\n",
        "- `alpha`: the regularization strength.\n",
        "- `l1_ratio`: the amount of L1 vs L2 penalty (i.e., $\\rho$). An l1_ratio of 0 is equivalent to the Ridge, whereas an l1_ratio of 1 is equivalent to the Lasso.\n"
      ]
    },
    {
      "cell_type": "code",
      "execution_count": null,
      "metadata": {
        "id": "eexkqli3duqg"
      },
      "outputs": [],
      "source": [
        "from sklearn.linear_model import ElasticNet"
      ]
    },
    {
      "cell_type": "markdown",
      "metadata": {
        "id": "tZAxqxzpduqg"
      },
      "source": [
        "Calculate the coefficients with both alpha values and an l1_ratio of 0.05. Lasso can \"overpower\" the Ridge penalty in some datasets, and so rather than an equal balance I'm just adding a little bit of Lasso in.\n",
        "- Using a $\\rho$ value below 0.05 can empirically cause issues in `sklearn`."
      ]
    },
    {
      "cell_type": "code",
      "execution_count": null,
      "metadata": {
        "id": "_pE_Ajc5duqh"
      },
      "outputs": [],
      "source": [
        "from sklearn.linear_model import ElasticNetCV"
      ]
    },
    {
      "cell_type": "code",
      "execution_count": null,
      "metadata": {
        "id": "HvEgw3_Yduqh",
        "outputId": "67b283af-ba8c-49c5-802c-e9ced67cefb4",
        "colab": {
          "base_uri": "https://localhost:8080/"
        }
      },
      "outputs": [
        {
          "output_type": "stream",
          "name": "stdout",
          "text": [
            "0.21246113948141965\n",
            "0.21368840628470098\n"
          ]
        }
      ],
      "source": [
        "# Set up a list of alphas to check.\n",
        "enet_alphas = np.linspace(0.5, 1.0, 100)\n",
        "\n",
        "# Set up our l1 ratio. (What does this do?)\n",
        "enet_ratio = 0.5\n",
        "\n",
        "# Instantiate model.\n",
        "enet_model = ElasticNetCV(alphas=enet_alphas, l1_ratio=enet_ratio, cv=5)\n",
        "\n",
        "# Fit model using optimal alpha.\n",
        "enet_model = enet_model.fit(X_train, y_train)\n",
        "\n",
        "# Generate predictions.\n",
        "enet_model_preds = enet_model.predict(X_test)\n",
        "enet_model_preds_train = enet_model.predict(X_train)\n",
        "\n",
        "# Evaluate model.\n",
        "print(enet_model.score(X_train, y_train))\n",
        "print(enet_model.score(X_test, y_test))"
      ]
    },
    {
      "cell_type": "code",
      "execution_count": null,
      "metadata": {
        "id": "zAXeM2Tnduqh",
        "outputId": "0f5423e6-e7cd-498c-a21c-95d08c89302d",
        "colab": {
          "base_uri": "https://localhost:8080/"
        }
      },
      "outputs": [
        {
          "output_type": "execute_result",
          "data": {
            "text/plain": [
              "0.5"
            ]
          },
          "metadata": {},
          "execution_count": 41
        }
      ],
      "source": [
        "# Here is the optimal value of alpha.\n",
        "enet_model.alpha_"
      ]
    }
  ],
  "metadata": {
    "kernelspec": {
      "display_name": "Python 3 (ipykernel)",
      "language": "python",
      "name": "python3"
    },
    "language_info": {
      "codemirror_mode": {
        "name": "ipython",
        "version": 3
      },
      "file_extension": ".py",
      "mimetype": "text/x-python",
      "name": "python",
      "nbconvert_exporter": "python",
      "pygments_lexer": "ipython3",
      "version": "3.9.7"
    },
    "colab": {
      "provenance": []
    }
  },
  "nbformat": 4,
  "nbformat_minor": 0
}